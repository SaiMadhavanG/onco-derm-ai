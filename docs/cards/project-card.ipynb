{
 "cells": [
  {
   "cell_type": "markdown",
   "metadata": {
    "tags": [
     "header"
    ]
   },
   "source": [
    "---\n",
    "title: Project Card\n",
    "subtitle: OncoDermAI\n",
    "version: v0.1\n",
    "card version: v0.1\n",
    "author: Sai Madhavan G and Srinivasan M\n",
    "date: 08/11/2024\n",
    "objective: >\n",
    "  The purpose of Project Cards is two folds. During development, it helps the developer think about the problem in a structured way w.r. t framing the problem, assessing the business value, viability, and many other aspects. \n",
    "\n",
    "  It can also serve as a document giving a high level overview of the system developed and deployed. With proper versioning, one can also see the evolution of the problem. It is meant to be a high level document and as details emerge, documents such Model Cards and Data Cards can be linked.\n",
    "tag: >\n",
    "  This notebook uses tags to render the output. Each call has a tag. There are three tags: objective, instruction, response. \n",
    "  The cell with objective tag explains the purpose of this project card. Cells with instruction tag, are the key sections of the document that must be filled.  A cell following immediately will have a tag response. You only fill the cell with response tag. DO NOT MODIFY the cells with tag instruction. Of course, feel free to modify to your needs. Once the format is agreed upon, stick to it.\n",
    "format:\n",
    "  html:\n",
    "    code-fold: true\n",
    "---\n"
   ]
  },
  {
   "cell_type": "markdown",
   "metadata": {
    "tags": [
     "instruction"
    ]
   },
   "source": [
    "# Business View\n"
   ]
  },
  {
   "cell_type": "markdown",
   "metadata": {},
   "source": [
    "## Background\n",
    "\n",
    "_Provide succinct **background** to the problem so that the reader can empathize with the problem._\n"
   ]
  },
  {
   "cell_type": "markdown",
   "metadata": {
    "tags": [
     "response"
    ]
   },
   "source": [
    "Skin cancer is a growing concern worldwide, and in rural India, the lack of accessible dermatological care creates significant barriers to early diagnosis and treatment. Many rural communities face a shortage of dermatologists, with patients often traveling long distances to receive specialized care. Without timely diagnosis, skin cancer cases may go undetected or be identified too late, impacting patient outcomes.\n"
   ]
  },
  {
   "cell_type": "markdown",
   "metadata": {
    "tags": [
     "instruction"
    ]
   },
   "source": [
    "## Problem\n",
    "\n",
    "_**What** is the problem being solved?_\n"
   ]
  },
  {
   "cell_type": "markdown",
   "metadata": {
    "tags": [
     "response"
    ]
   },
   "source": [
    "The problem being solved is the lack of accessible, early skin cancer screening and diagnosis in rural India, where dermatologists and specialized medical resources are scarce. Patients in these regions often struggle to receive timely assessments, which can delay diagnosis and treatment of skin cancers and other serious skin conditions.\n"
   ]
  },
  {
   "cell_type": "markdown",
   "metadata": {
    "tags": [
     "instruction"
    ]
   },
   "source": [
    "## Customer\n",
    "\n",
    "_**Who** it is for? Is that a \\_user_ or a _beneficiary_?\n",
    "What is the problem being solved? Who it is for?\\_\n"
   ]
  },
  {
   "cell_type": "markdown",
   "metadata": {
    "tags": [
     "response"
    ]
   },
   "source": [
    "OncoDerm AI is designed for healthcare providers in rural India who lack access to specialized dermatological support. The primary **users** of the system are non-specialist healthcare workers, such as general practitioners, nurses, and community health workers, who can utilize the tool to make preliminary skin cancer assessments. These healthcare workers rely on OncoDerm AI to screen patients for potential skin lesions, helping them identify high-risk cases that require further specialist care.\n",
    "\n",
    "The **beneficiaries** of this project are the patients in these rural communities. By receiving timely and accessible screening, they gain a greater chance for early detection and treatment of skin cancer, which can improve outcomes and save lives.\n"
   ]
  },
  {
   "cell_type": "markdown",
   "metadata": {
    "tags": [
     "instruction"
    ]
   },
   "source": [
    "## Value Proposition\n",
    "\n",
    "_Why it needs to be solved?_\n"
   ]
  },
  {
   "cell_type": "markdown",
   "metadata": {
    "tags": [
     "response"
    ]
   },
   "source": [
    "The need for OncoDerm AI arises from the critical gap in dermatological care in rural India, where access to early diagnosis and specialist support is limited. Skin cancer, when detected early, can often be treated successfully; however, without timely screening, cases may go undiagnosed until they reach advanced stages, significantly affecting patient outcomes and increasing healthcare costs.\n",
    "\n",
    "By solving this problem, OncoDerm AI aims to improve early detection rates, support healthcare providers in delivering higher-quality care, and ultimately enhance health outcomes for underserved populations. This tool brings reliable, cost-effective diagnostic support to rural areas, where it’s most needed, helping to bridge the healthcare gap for vulnerable communities.\n"
   ]
  },
  {
   "cell_type": "markdown",
   "metadata": {
    "tags": [
     "instruction"
    ]
   },
   "source": [
    "## Product\n",
    "\n",
    "_How does the solution look like? It is more of the experience, rather how it will be developed._\n"
   ]
  },
  {
   "cell_type": "markdown",
   "metadata": {
    "tags": [
     "response"
    ]
   },
   "source": [
    "OncoDerm AI is an AI-powered skin cancer screening tool designed to provide healthcare workers in rural India with the ability to assess skin lesions using dermatoscopic images. The product consists of the following key components:\n",
    "\n",
    "1. **AI Model**: The core of the system is a deep learning model trained on a large dataset of dermatoscopic images (DermaMNIST), capable of classifying skin lesions into one of seven categories, including melanoma, basal cell carcinoma, and benign conditions. The model outputs predictions along with confidence scores and explanations for each classification.\n",
    "\n",
    "2. **Interactive Chatbot**: To enhance user engagement and accessibility, OncoDerm AI features a chatbot powered by a Large Language Model (LLM). Healthcare workers can interact with the chatbot to ask follow-up questions, seek clarifications, and obtain detailed explanations of the model’s predictions. The chatbot will provide context, offer interpretive guidance, and help users understand the significance of the results in simple language, making it easier for non-specialist users to interpret complex AI outputs.\n",
    "\n",
    "3. **Interactive Dashboard**: The tool provides a user-friendly dashboard that displays real-time skin lesion assessments. The dashboard includes:\n",
    "\n",
    "   - Predictions with confidence scores\n",
    "   - Explanations of the model’s decision-making process\n",
    "   - Image preprocessing and quality checks\n",
    "   - Options for resolution handling and upscaling to ensure clarity of images\n",
    "\n",
    "4. **Clinical Integration**: OncoDerm AI can be integrated into the existing healthcare workflows in rural clinics, making it easy to use without the need for specialized equipment. Healthcare workers can upload dermatoscopic images via mobile devices or computers, receive immediate results, and engage in a conversation with the chatbot for further guidance.\n",
    "\n",
    "5. **Data Privacy & Compliance**: OncoDerm AI ensures data privacy, featuring an automated data removal pipeline to handle the right to erasure requests from patients.\n",
    "\n",
    "The experience for the user is seamless: after uploading a skin lesion image, the healthcare worker receives immediate feedback from the AI model along with an explanation of the diagnosis. If they need further clarification, they can interact with the chatbot to receive more detailed information, enhancing their understanding and confidence in the decision-making process.\n",
    "\n",
    "OncoDerm AI is designed to be easy to use, ensuring that healthcare providers in rural areas, with varying levels of technical expertise, can effectively use it to support early skin cancer detection.\n"
   ]
  },
  {
   "cell_type": "markdown",
   "metadata": {
    "tags": [
     "instruction"
    ]
   },
   "source": [
    "## Objectives\n",
    "\n",
    "_Breakdown the product into key (business) objectives that need to be delivered?_\n",
    "[SMART Goals](https://med.stanford.edu/content/dam/sm/s-spire/documents/How-to-write-SMART-Goals-v2.pdf) is useful to frame\n"
   ]
  },
  {
   "cell_type": "markdown",
   "metadata": {
    "tags": [
     "response"
    ]
   },
   "source": [
    "The OncoDerm AI project aims to deliver a comprehensive solution for skin cancer screening in rural India, where access to dermatologists is limited. Below are the key business objectives, framed as SMART goals:\n",
    "\n",
    "1. **Objective 1: Achieve 85% Model Accuracy in Skin Lesion Classification**\n",
    "\n",
    "   - **Specific**: Develop and deploy an AI model that classifies skin lesions into 7 categories (including melanoma and basal cell carcinoma) with a minimum accuracy of 85%.\n",
    "   - **Measurable**: Accuracy will be evaluated using the validation set (1,268 images) and tested on the test set (2,239 images).\n",
    "   - **Achievable**: Using a well-known architecture like ResNet-18 or MobileNetV2, and leveraging transfer learning and data augmentation.\n",
    "   - **Relevant**: High classification accuracy is critical to ensuring the system provides reliable results to healthcare workers.\n",
    "   - **Time-bound**: Achieve this goal within end of semseter.\n",
    "\n",
    "2. **Objective 2: Integrate an Interactive Chatbot for Enhanced User Engagement**\n",
    "\n",
    "   - **Specific**: Integrate a chatbot powered by an LLM that allows users to interact with the system, asking for clarifications and receiving model predictions, confidence scores, and explanations.\n",
    "   - **Measurable**: Measure user engagement through usage statistics, and collect feedback on chatbot helpfulness through user surveys.\n",
    "   - **Achievable**: Integrating a pre-trained LLM and providing a user-friendly interface for querying the model.\n",
    "   - **Relevant**: The chatbot will help medical professionals in rural areas, who may not have in-depth dermatological knowledge, interpret the model's results more confidently.\n",
    "   - **Time-bound**: Achieve this goal within end of semseter.\n",
    "\n",
    "3. **Objective 3: Ensure Data Privacy Compliance and Implement Right to Erasure**\n",
    "\n",
    "   - **Specific**: Implement a data pipeline that ensures patient data is securely handled, with a fully automated removal process for data erasure requests, in compliance with privacy laws and regulations.\n",
    "   - **Measurable**: Successfully process at least 99% of data removal requests within 24 hours.\n",
    "   - **Achievable**: Design and implement an automated data removal pipeline that complies with local privacy standards.\n",
    "   - **Relevant**: Ensuring patient data privacy is crucial in gaining trust among users, particularly in rural settings where data sensitivity is a concern.\n",
    "   - **Time-bound**: Achieve this goal within end of semseter.\n",
    "\n",
    "4. **Objective 5: Monitor System Performance and Retrain Model Every 3 Months**\n",
    "   - **Specific**: Implement a system for continuous monitoring of model performance and retrain the model every 3 months to ensure its accuracy and adapt to any changes in data (e.g., new skin lesion patterns).\n",
    "   - **Measurable**: Measure model performance using metrics such as accuracy, precision, and recall, and retrain when performance degrades by more than 5%.\n",
    "   - **Achievable**: Set up continuous integration and delivery (CI/CD) pipelines to monitor performance and trigger retraining as needed.\n",
    "   - **Relevant**: Ensuring the model stays up-to-date and reliable is essential for maintaining trust and accuracy in the system.\n",
    "   - **Time-bound**: Implement continuous monitoring and retraining pipeline within 3 months of initial deployment, and retrain every 3 months thereafter.\n"
   ]
  },
  {
   "cell_type": "markdown",
   "metadata": {
    "tags": [
     "instruction"
    ]
   },
   "source": [
    "## Risks & Challenges\n",
    "\n",
    "_What are the challenges one can face and ways to overcome?_\n"
   ]
  },
  {
   "cell_type": "markdown",
   "metadata": {
    "tags": [
     "response"
    ]
   },
   "source": [
    "## Risks & Challenges\n",
    "\n",
    "Developing and deploying the OncoDerm AI system in rural India presents several challenges. Here are the key risks and potential mitigation strategies:\n",
    "\n",
    "1. **Limited Image Resolution and Dataset Size**\n",
    "\n",
    "   - **Challenge**: The DermaMNIST dataset contains 28x28 pixel images, which may limit the model's ability to detect subtle visual features. Additionally, the dataset is relatively small, which can lead to overfitting.\n",
    "   - **Mitigation**: Use transfer learning with pre-trained models on higher-resolution dermatoscopic images to improve feature extraction. Employ data augmentation techniques (e.g., rotation, flipping, color jittering) to create a more diverse dataset. Continuously update and expand the dataset by incorporating new data from partner clinics to improve model robustness.\n",
    "\n",
    "2. **Model Interpretability and User Trust**\n",
    "\n",
    "   - **Challenge**: Users in rural areas, often non-specialist healthcare workers, may lack the medical background to interpret complex AI outputs, which could lead to mistrust or misuse.\n",
    "   - **Mitigation**: Provide clear, interpretable model outputs and confidence scores. Integrate the LLM-powered chatbot to provide accessible explanations, allowing users to ask questions and understand predictions better. Implement conformal predictions to communicate confidence in a way that’s easy to understand (e.g., “high confidence” vs. “low confidence”).\n",
    "\n",
    "3. **Technical Infrastructure Constraints in Rural Areas**\n",
    "\n",
    "   - **Challenge**: Rural clinics may face limited access to high-speed internet, modern hardware, or reliable electricity, affecting system deployment and performance.\n",
    "   - **Mitigation**: Optimize the model for low-resource environments by using lightweight architectures (e.g., MobileNetV2) and deploying the model on local devices with minimal computational requirements. Consider offline capabilities and integrate power backups if feasible.\n",
    "\n",
    "4. **Privacy and Data Security Concerns**\n",
    "\n",
    "   - **Challenge**: Patient data privacy is crucial, particularly in sensitive areas like healthcare. Rural clinics may also have limited understanding of data privacy practices.\n",
    "   - **Mitigation**: Implement data encryption, secure access controls, and compliance with local privacy laws. Develop training sessions for clinic staff on data privacy best practices. Set up an automated data removal pipeline to handle right-to-erasure requests efficiently, and regularly review compliance.\n",
    "\n",
    "5. **Model Drift and Data Distribution Shifts**\n",
    "\n",
    "   - **Challenge**: Skin lesion data may change over time due to environmental, genetic, or treatment factors, leading to model drift.\n",
    "   - **Mitigation**: Implement continuous monitoring for data drift and set up a CI/CD pipeline to retrain the model as needed. Regularly assess model accuracy, and retrain every 3 months or when performance drops significantly. Collect user feedback and periodic clinical validation to ensure the model remains relevant.\n",
    "\n",
    "6. **User Adoption and Training**\n",
    "   - **Challenge**: Local healthcare workers may be unfamiliar with AI systems, and mistrust or a lack of training may reduce adoption.\n",
    "   - **Mitigation**: Collaborate with healthcare providers and NGOs to train healthcare workers on using the system effectively, including hands-on demonstrations and support materials in regional languages. Establish a support team for ongoing assistance, and offer a simplified user interface with a clear workflow to increase usability and confidence.\n"
   ]
  },
  {
   "cell_type": "markdown",
   "metadata": {
    "tags": [
     "instruction"
    ]
   },
   "source": [
    "# ML View\n"
   ]
  },
  {
   "cell_type": "markdown",
   "metadata": {
    "tags": [
     "instruction"
    ]
   },
   "source": [
    "## Task\n",
    "\n",
    "_What type of prediction problem is this? Link [Model Card](https://arxiv.org/abs/1810.03993) when sufficient details become available (start small but early)_\n"
   ]
  },
  {
   "cell_type": "markdown",
   "metadata": {
    "tags": [
     "response"
    ]
   },
   "source": [
    "The prediction task for OncoDerm AI is a **multi-class classification** problem, where the model identifies one of seven distinct skin lesion types from dermatoscopic images. Using a labeled dataset (DermaMNIST), the model is trained to recognize each class based on visual features in low-resolution images (28x28 pixels), aiming to assist in preliminary diagnosis.\n"
   ]
  },
  {
   "cell_type": "markdown",
   "metadata": {
    "tags": [
     "instruction"
    ]
   },
   "source": [
    "## Metrics\n",
    "\n",
    "_How will the solution be evaluated - What are the ML metrics? What are the business metrics? Link [Model Card](https://arxiv.org/abs/1810.03993) when sufficient details become available (start small but early)_\n"
   ]
  },
  {
   "cell_type": "markdown",
   "metadata": {
    "tags": [
     "response"
    ]
   },
   "source": [
    "### ML Metrics\n",
    "\n",
    "1. **Accuracy**: Measures the model’s overall correctness in identifying the correct lesion category.\n",
    "2. **Precision, Recall, and F1-score** (per class): Evaluates performance across each lesion type, ensuring balanced identification and minimizing false positives and false negatives, especially for critical classes like melanoma.\n",
    "3. **Out-of-Distribution (OOD) Detection Accuracy**: Measures the model’s ability to detect and flag cases it hasn’t been trained on, ensuring safer real-world application.\n",
    "4. **Inference Latency**: Tracks the speed at which the model generates predictions to support smooth, real-time interactions in clinical settings.\n",
    "\n",
    "### Business Metrics\n",
    "\n",
    "1. **Reduction in Referral Time**: Measures time saved in identifying high-risk cases for further diagnosis, aiming to improve early detection rates.\n",
    "2. **User Engagement**: Tracks interactions with the LLM-powered chatbot, measuring how often medical assistants use it for explanations, confidence clarification, and follow-up inquiries.\n",
    "3. **Feedback from Rural Health Workers**: Collect qualitative data on ease of use, clarity, and clinical effectiveness in providing primary assessments for skin lesions.\n",
    "4. **System Usage Rate**: Monitors adoption rates in rural clinics to ensure the model is accessible and practical for real-world needs.\n"
   ]
  },
  {
   "cell_type": "markdown",
   "metadata": {
    "tags": [
     "instruction"
    ]
   },
   "source": [
    "## Evaluation\n",
    "\n",
    "_How will the solution be evaluated (process)? Link [Model Card](https://arxiv.org/abs/1810.03993) when sufficient details become available (start small but early)_\n"
   ]
  },
  {
   "cell_type": "markdown",
   "metadata": {
    "tags": [
     "response"
    ]
   },
   "source": [
    "### 1. **Technical Evaluation**\n",
    "\n",
    "- **Offline Testing**:\n",
    "  - Conduct rigorous testing on the DermaMNIST validation and test datasets to evaluate baseline accuracy, precision, recall, F1-score, and confidence calibration.\n",
    "  - Perform stress testing for out-of-distribution (OOD) detection using external images not present in the training data, ensuring the model can reliably flag unfamiliar or rare cases.\n",
    "- **Human-in-the-Loop Validation**:\n",
    "  - Dermatologists will review a subset of model predictions, offering feedback on accuracy, confidence scores, and explanations provided by the chatbot, allowing for continuous refinement.\n",
    "\n",
    "### 2. **Clinical Pilot Testing in Rural Clinics**\n",
    "\n",
    "- **User Acceptance Testing (UAT)**:\n",
    "  - Deploy the model in a few rural clinics to observe its usability, particularly with non-specialist health workers. Measure system usage, evaluate time savings in preliminary assessments, and record feedback on interpretability and clarity of results.\n",
    "- **Real-World Feedback Collection**:\n",
    "  - Integrate a feedback loop for rural health workers to share experiences using the chatbot, focusing on how well it assists in understanding and relaying predictions.\n",
    "  - Assess the reduction in referral time for high-risk cases, aiming to expedite diagnosis.\n",
    "\n",
    "### 3. **Ongoing Monitoring**\n",
    "\n",
    "- **Continuous Model Evaluation**:\n",
    "  - Track and log model performance metrics in real-time, including confidence scores, latency, and data drift, triggering automatic retraining if significant shifts are detected.\n",
    "  - Calibrate the chatbot’s responses based on feedback to ensure it effectively answers typical questions and addresses user needs.\n"
   ]
  },
  {
   "cell_type": "markdown",
   "metadata": {
    "tags": [
     "instruction"
    ]
   },
   "source": [
    "## Data\n",
    "\n",
    "_What type of data is needed? How will it be collected - for training and for continuous improvement? Link [Data Cards](https://arxiv.org/abs/2204.01075) when sufficient details become available (start small but early)_\n"
   ]
  },
  {
   "cell_type": "markdown",
   "metadata": {
    "tags": [
     "response"
    ]
   },
   "source": [
    "### Data Requirements\n",
    "\n",
    "- **Primary Data**: Dermatoscopic images for training and validating the model.\n",
    "  - **Type**: 28x28 pixel RGB images focused on different skin lesions.\n",
    "  - **Classes**: Seven distinct skin lesion types (e.g., melanoma, basal cell carcinoma).\n",
    "- **Auxiliary Data**: Patient metadata (e.g., age, lesion location) may be incorporated if available to enhance prediction accuracy.\n",
    "\n",
    "### Data Collection\n",
    "\n",
    "- **Training and Initial Evaluation**:\n",
    "\n",
    "  - **Dataset**: DermaMNIST (based on the HAM10000 dataset), which provides a comprehensive set of images from diverse patients.\n",
    "  - **Splits**: Predefined training, validation, and test splits will be used to ensure consistency and reliability in performance evaluation.\n",
    "\n",
    "- **Continuous Improvement**:\n",
    "  - **User-Generated Data**: Images from new cases in rural clinics can be anonymized and added to expand and adapt the model to real-world conditions.\n",
    "  - **Feedback Loop**: Health workers’ and dermatologists’ feedback on chatbot interactions, predictions, and flagged OOD cases can further refine the system.\n"
   ]
  },
  {
   "cell_type": "markdown",
   "metadata": {
    "tags": [
     "instruction"
    ]
   },
   "source": [
    "## Continuous Improvement\n",
    "\n",
    "_How will the system/model will improve? Provide a plan and means._\n"
   ]
  },
  {
   "cell_type": "markdown",
   "metadata": {
    "tags": [
     "response"
    ]
   },
   "source": [
    "1. **User Feedback Loop**:\n",
    "\n",
    "   - **Chatbot Interactions**: Track and analyze questions and responses from users (e.g., health workers or clinicians) to understand common inquiries, misconceptions, and desired information. This feedback will guide adjustments to the LLM’s responses and overall user experience.\n",
    "   - **Prediction Accuracy**: Collect feedback on predictions and confidence levels to assess areas of the model that need recalibration or fine-tuning, especially in cases that are challenging or prone to misclassification.\n",
    "\n",
    "2. **Data Collection and Expansion**:\n",
    "\n",
    "   - **Case Database Expansion**: Gather additional dermatoscopic images from new rural cases, focusing on underrepresented lesion types or skin tones, to enhance model generalization.\n",
    "   - **Out-of-Distribution (OOD) Tracking**: Continuously monitor for OOD cases flagged by the model, then investigate and potentially incorporate these cases into training to improve robustness.\n",
    "\n",
    "3. **Scheduled Model Re-Training**:\n",
    "\n",
    "   - **Automated Retraining Triggers**: Implement retraining based on key metrics such as data drift, calibration error, and user feedback patterns to ensure that the model remains up-to-date with the latest data.\n",
    "   - **Data Augmentation**: Periodically apply advanced data augmentation techniques (e.g., rotation, color adjustments) to create a more diverse and robust training dataset.\n",
    "\n",
    "4. **Model Evaluation and Metrics Review**:\n",
    "   - **Regular Performance Audits**: Conduct periodic evaluations to check model performance on critical metrics such as accuracy, false positive/negative rates, and OOD detection accuracy. Adjust hyperparameters and model architecture if necessary to address any consistent performance gaps.\n",
    "   - **Calibration Checks**: Regularly verify confidence scores to ensure accurate and reliable results, minimizing the risk of overconfidence in predictions.\n"
   ]
  }
 ],
 "metadata": {
  "language_info": {
   "name": "python"
  }
 },
 "nbformat": 4,
 "nbformat_minor": 2
}
