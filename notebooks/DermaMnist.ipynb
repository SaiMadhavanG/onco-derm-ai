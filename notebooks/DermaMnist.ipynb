{
 "cells": [
  {
   "cell_type": "markdown",
   "metadata": {},
   "source": [
    "# Importing data from medmnist\n",
    "\n",
    "To configure the data catalog, run the below cells. These cells will download the data from the medmnist dataset and save it in the `data` directory as a dataframe encapsuled in a pickle file.\n"
   ]
  },
  {
   "cell_type": "code",
   "execution_count": null,
   "metadata": {},
   "outputs": [],
   "source": [
    "# !pip install medmnist"
   ]
  },
  {
   "cell_type": "code",
   "execution_count": 1,
   "metadata": {},
   "outputs": [],
   "source": [
    "import numpy as np\n",
    "from medmnist import DermaMNIST"
   ]
  },
  {
   "cell_type": "code",
   "execution_count": 2,
   "metadata": {},
   "outputs": [
    {
     "name": "stdout",
     "output_type": "stream",
     "text": [
      "Using downloaded and verified file: ../data/01_raw/dermamnist.npz\n"
     ]
    }
   ],
   "source": [
    "data_train = DermaMNIST(split=\"train\", download=True, root=\"../data/01_raw/\")"
   ]
  },
  {
   "cell_type": "code",
   "execution_count": 3,
   "metadata": {},
   "outputs": [],
   "source": [
    "ds = np.load(\"../data/01_raw/dermamnist.npz\")"
   ]
  },
  {
   "cell_type": "code",
   "execution_count": 88,
   "metadata": {},
   "outputs": [],
   "source": [
    "train_images = ds[\"train_images\"]\n",
    "train_labels = ds[\"train_labels\"]\n",
    "val_images = ds[\"val_images\"]\n",
    "val_labels = ds[\"val_labels\"]\n",
    "test_images = ds[\"test_images\"]\n",
    "test_labels = ds[\"test_labels\"]"
   ]
  },
  {
   "cell_type": "code",
   "execution_count": null,
   "metadata": {},
   "outputs": [],
   "source": [
    "# def get_class_imbalance():\n",
    "#     global train_labels, val_labels, test_labels\n",
    "\n",
    "#     # Combine all labels to assess overall imbalance\n",
    "#     train_labels_list = train_labels.ravel().tolist()\n",
    "#     val_labels_list = val_labels.ravel().tolist()\n",
    "#     test_labels_list = test_labels.ravel().tolist()\n",
    "#     all_labels = np.concatenate([train_labels_list, val_labels_list, test_labels_list])\n",
    "\n",
    "#     # Function to calculate class distribution\n",
    "#     def calculate_class_distribution(labels):\n",
    "#         print(type(labels))\n",
    "#         class_counts = Counter(labels)  # Count occurrences of each class\n",
    "#         total_samples = len(labels)\n",
    "#         class_distribution = {\n",
    "#             cls: count / total_samples for cls, count in class_counts.items()\n",
    "#         }  # Normalize\n",
    "#         return class_counts, class_distribution\n",
    "\n",
    "#     # Function to calculate imbalance ratio\n",
    "#     def calculate_imbalance_ratio(class_counts):\n",
    "#         min_class_count = min(class_counts.values())\n",
    "#         max_class_count = max(class_counts.values())\n",
    "#         return max_class_count / min_class_count\n",
    "\n",
    "#     # Function to calculate entropy of class distribution\n",
    "#     def calculate_class_entropy(class_distribution):\n",
    "#         return -sum(p * np.log2(p) for p in class_distribution.values() if p > 0)\n",
    "\n",
    "#     # Calculate metrics for train, val, and test sets\n",
    "#     train_counts, train_distribution = calculate_class_distribution(train_labels_list)\n",
    "#     val_counts, val_distribution = calculate_class_distribution(val_labels_list)\n",
    "#     test_counts, test_distribution = calculate_class_distribution(test_labels_list)\n",
    "#     overall_counts, overall_distribution = calculate_class_distribution(all_labels)\n",
    "\n",
    "#     # Imbalance ratios\n",
    "#     train_imbalance = calculate_imbalance_ratio(train_counts)\n",
    "#     val_imbalance = calculate_imbalance_ratio(val_counts)\n",
    "#     test_imbalance = calculate_imbalance_ratio(test_counts)\n",
    "\n",
    "#     # Class entropies\n",
    "#     train_entropy = calculate_class_entropy(train_distribution)\n",
    "#     val_entropy = calculate_class_entropy(val_distribution)\n",
    "#     test_entropy = calculate_class_entropy(test_distribution)\n",
    "\n",
    "#     # Display results\n",
    "#     print(\"Train Set:\")\n",
    "#     print(f\"Class Counts: {train_counts}\")\n",
    "#     print(f\"Imbalance Ratio: {train_imbalance:.2f}\")\n",
    "#     print(f\"Entropy: {train_entropy:.2f}\\n\")\n",
    "\n",
    "#     print(\"Validation Set:\")\n",
    "#     print(f\"Class Counts: {val_counts}\")\n",
    "#     print(f\"Imbalance Ratio: {val_imbalance:.2f}\")\n",
    "#     print(f\"Entropy: {val_entropy:.2f}\\n\")\n",
    "\n",
    "#     print(\"Test Set:\")\n",
    "#     print(f\"Class Counts: {test_counts}\")\n",
    "#     print(f\"Imbalance Ratio: {test_imbalance:.2f}\")\n",
    "#     print(f\"Entropy: {test_entropy:.2f}\\n\")\n",
    "\n",
    "#     # Plot class distribution\n",
    "#     def plot_class_distribution(class_counts, title):\n",
    "#         classes = list(class_counts.keys())\n",
    "#         counts = list(class_counts.values())\n",
    "#         plt.bar(classes, counts, color=\"skyblue\")\n",
    "#         plt.xlabel(\"Class\")\n",
    "#         plt.ylabel(\"Count\")\n",
    "#         plt.title(title)\n",
    "#         plt.show()\n",
    "\n",
    "#     plot_class_distribution(train_counts, \"Train Set Class Distribution\")\n",
    "#     plot_class_distribution(val_counts, \"Validation Set Class Distribution\")\n",
    "#     plot_class_distribution(test_counts, \"Test Set Class Distribution\")"
   ]
  },
  {
   "cell_type": "code",
   "execution_count": null,
   "metadata": {},
   "outputs": [],
   "source": [
    "# import numpy as np\n",
    "# get_class_imbalance()"
   ]
  },
  {
   "cell_type": "code",
   "execution_count": null,
   "metadata": {},
   "outputs": [
    {
     "name": "stdout",
     "output_type": "stream",
     "text": [
      "(7007, 28, 28, 3)\n"
     ]
    }
   ],
   "source": [
    "from imblearn.over_sampling import SMOTE\n",
    "\n",
    "# print(train_images.shape)\n",
    "X = train_images.reshape(train_images.shape[0], -1)  # Flatten images\n",
    "y = train_labels"
   ]
  },
  {
   "cell_type": "code",
   "execution_count": 57,
   "metadata": {},
   "outputs": [],
   "source": [
    "smote = SMOTE(random_state=42)\n",
    "X_resampled, y_resampled = smote.fit_resample(X, y)"
   ]
  },
  {
   "cell_type": "code",
   "execution_count": 86,
   "metadata": {},
   "outputs": [
    {
     "data": {
      "text/html": [
       "<pre style=\"white-space:pre;overflow-x:auto;line-height:normal;font-family:Menlo,'DejaVu Sans Mono',consolas,'Courier New',monospace\"></pre>\n"
      ],
      "text/plain": []
     },
     "metadata": {},
     "output_type": "display_data"
    },
    {
     "data": {
      "text/plain": [
       "\u001b[1m(\u001b[0m\u001b[1;36m32851\u001b[0m, \u001b[1;36m2352\u001b[0m\u001b[1m)\u001b[0m"
      ]
     },
     "execution_count": 86,
     "metadata": {},
     "output_type": "execute_result"
    }
   ],
   "source": [
    "X_resampled.shape"
   ]
  },
  {
   "cell_type": "code",
   "execution_count": 90,
   "metadata": {},
   "outputs": [
    {
     "data": {
      "text/html": [
       "<pre style=\"white-space:pre;overflow-x:auto;line-height:normal;font-family:Menlo,'DejaVu Sans Mono',consolas,'Courier New',monospace\"></pre>\n"
      ],
      "text/plain": []
     },
     "metadata": {},
     "output_type": "display_data"
    },
    {
     "data": {
      "text/plain": [
       "\u001b[1m(\u001b[0m\u001b[1;36m32851\u001b[0m, \u001b[1;36m28\u001b[0m, \u001b[1;36m28\u001b[0m, \u001b[1;36m3\u001b[0m\u001b[1m)\u001b[0m"
      ]
     },
     "execution_count": 90,
     "metadata": {},
     "output_type": "execute_result"
    }
   ],
   "source": [
    "X_resampled.reshape(-1, 28, 28, 3).shape"
   ]
  },
  {
   "cell_type": "code",
   "execution_count": 91,
   "metadata": {},
   "outputs": [
    {
     "data": {
      "text/html": [
       "<pre style=\"white-space:pre;overflow-x:auto;line-height:normal;font-family:Menlo,'DejaVu Sans Mono',consolas,'Courier New',monospace\"></pre>\n"
      ],
      "text/plain": []
     },
     "metadata": {},
     "output_type": "display_data"
    },
    {
     "data": {
      "text/plain": [
       "\u001b[1m(\u001b[0m\u001b[1;36m32851\u001b[0m,\u001b[1m)\u001b[0m"
      ]
     },
     "execution_count": 91,
     "metadata": {},
     "output_type": "execute_result"
    }
   ],
   "source": [
    "y_resampled.shape"
   ]
  },
  {
   "cell_type": "code",
   "execution_count": null,
   "metadata": {},
   "outputs": [
    {
     "name": "stdout",
     "output_type": "stream",
     "text": [
      "[158 111 117 ... 173 145 142]\n"
     ]
    }
   ],
   "source": [
    "# print(X_resampled[0])"
   ]
  },
  {
   "cell_type": "code",
   "execution_count": null,
   "metadata": {},
   "outputs": [
    {
     "name": "stdout",
     "output_type": "stream",
     "text": [
      "32851\n"
     ]
    }
   ],
   "source": [
    "train_images = X_resampled.reshape(\n",
    "    -1, 28, 28, 3\n",
    ")  # Replace 28, 28 with actual dimensions\n",
    "train_labels = y_resampled\n",
    "# print(len(train_images))"
   ]
  },
  {
   "cell_type": "code",
   "execution_count": null,
   "metadata": {},
   "outputs": [],
   "source": [
    "# get_class_imbalance()"
   ]
  },
  {
   "cell_type": "code",
   "execution_count": null,
   "metadata": {},
   "outputs": [
    {
     "name": "stdout",
     "output_type": "stream",
     "text": [
      "32851\n"
     ]
    }
   ],
   "source": [
    "train_len = len(train_images)\n",
    "val_len = len(val_images)\n",
    "test_len = len(test_images)\n",
    "# print(train_len)"
   ]
  },
  {
   "cell_type": "code",
   "execution_count": 65,
   "metadata": {},
   "outputs": [],
   "source": [
    "# generate ids array\n",
    "train_ids = [f\"train_{i}\" for i in range(train_len)]\n",
    "val_ids = [f\"val_{i}\" for i in range(val_len)]\n",
    "test_ids = [f\"test_{i}\" for i in range(test_len)]"
   ]
  },
  {
   "cell_type": "code",
   "execution_count": 66,
   "metadata": {},
   "outputs": [],
   "source": [
    "train_images = list(train_images)\n",
    "val_images = list(val_images)\n",
    "test_images = list(test_images)"
   ]
  },
  {
   "cell_type": "code",
   "execution_count": 67,
   "metadata": {},
   "outputs": [],
   "source": [
    "train_labels = list(train_labels)\n",
    "val_labels = list(val_labels)\n",
    "test_labels = list(test_labels)"
   ]
  },
  {
   "cell_type": "code",
   "execution_count": null,
   "metadata": {},
   "outputs": [
    {
     "name": "stdout",
     "output_type": "stream",
     "text": [
      "32851\n",
      "32851\n",
      "32851\n"
     ]
    }
   ],
   "source": [
    "# print(len(train_images))\n",
    "# print(len(train_labels))\n",
    "# print(len(train_ids))"
   ]
  },
  {
   "cell_type": "code",
   "execution_count": 69,
   "metadata": {},
   "outputs": [],
   "source": [
    "# construct a df for each of the splits\n",
    "import pandas as pd\n",
    "\n",
    "train_df = pd.DataFrame(\n",
    "    {\n",
    "        \"id\": train_ids,\n",
    "        \"image\": train_images,\n",
    "        \"label\": train_labels,\n",
    "    }\n",
    ")\n",
    "test_df = pd.DataFrame(\n",
    "    {\n",
    "        \"id\": test_ids,\n",
    "        \"image\": test_images,\n",
    "        \"label\": test_labels,\n",
    "    }\n",
    ")\n",
    "val_df = pd.DataFrame(\n",
    "    {\n",
    "        \"id\": val_ids,\n",
    "        \"image\": val_images,\n",
    "        \"label\": val_labels,\n",
    "    }\n",
    ")"
   ]
  },
  {
   "cell_type": "code",
   "execution_count": null,
   "metadata": {},
   "outputs": [],
   "source": [
    "# train_df.to_pickle(\"../data/01_raw/train.pkl\")\n",
    "# test_df.to_pickle(\"../data/01_raw/test.pkl\")\n",
    "# val_df.to_pickle(\"../data/01_raw/val.pkl\")"
   ]
  },
  {
   "cell_type": "code",
   "execution_count": 10,
   "metadata": {},
   "outputs": [],
   "source": [
    "train_df_loaded = pd.read_pickle(\"../data/01_raw/train.pkl\")"
   ]
  },
  {
   "cell_type": "code",
   "execution_count": 70,
   "metadata": {},
   "outputs": [
    {
     "data": {
      "text/plain": [
       "(28, 28, 3)"
      ]
     },
     "execution_count": 70,
     "metadata": {},
     "output_type": "execute_result"
    }
   ],
   "source": [
    "train_df_loaded[\"image\"].iloc[0].shape"
   ]
  },
  {
   "cell_type": "code",
   "execution_count": 71,
   "metadata": {},
   "outputs": [],
   "source": [
    "def normalizing_images(data: pd.DataFrame) -> pd.DataFrame:\n",
    "    data[\"image\"] = data[\"image\"].apply(lambda x: x / 255.0)\n",
    "    return data"
   ]
  },
  {
   "cell_type": "code",
   "execution_count": 72,
   "metadata": {},
   "outputs": [
    {
     "data": {
      "text/html": [
       "<div>\n",
       "<style scoped>\n",
       "    .dataframe tbody tr th:only-of-type {\n",
       "        vertical-align: middle;\n",
       "    }\n",
       "\n",
       "    .dataframe tbody tr th {\n",
       "        vertical-align: top;\n",
       "    }\n",
       "\n",
       "    .dataframe thead th {\n",
       "        text-align: right;\n",
       "    }\n",
       "</style>\n",
       "<table border=\"1\" class=\"dataframe\">\n",
       "  <thead>\n",
       "    <tr style=\"text-align: right;\">\n",
       "      <th></th>\n",
       "      <th>id</th>\n",
       "      <th>image</th>\n",
       "      <th>label</th>\n",
       "    </tr>\n",
       "  </thead>\n",
       "  <tbody>\n",
       "    <tr>\n",
       "      <th>0</th>\n",
       "      <td>train_0</td>\n",
       "      <td>[[[0.6196078431372549, 0.43529411764705883, 0....</td>\n",
       "      <td>[0]</td>\n",
       "    </tr>\n",
       "    <tr>\n",
       "      <th>1</th>\n",
       "      <td>train_1</td>\n",
       "      <td>[[[0.9019607843137255, 0.43529411764705883, 0....</td>\n",
       "      <td>[5]</td>\n",
       "    </tr>\n",
       "    <tr>\n",
       "      <th>2</th>\n",
       "      <td>train_2</td>\n",
       "      <td>[[[0.8980392156862745, 0.611764705882353, 0.67...</td>\n",
       "      <td>[5]</td>\n",
       "    </tr>\n",
       "    <tr>\n",
       "      <th>3</th>\n",
       "      <td>train_3</td>\n",
       "      <td>[[[0.8941176470588236, 0.4980392156862745, 0.4...</td>\n",
       "      <td>[5]</td>\n",
       "    </tr>\n",
       "    <tr>\n",
       "      <th>4</th>\n",
       "      <td>train_4</td>\n",
       "      <td>[[[0.8470588235294118, 0.7372549019607844, 0.7...</td>\n",
       "      <td>[4]</td>\n",
       "    </tr>\n",
       "    <tr>\n",
       "      <th>...</th>\n",
       "      <td>...</td>\n",
       "      <td>...</td>\n",
       "      <td>...</td>\n",
       "    </tr>\n",
       "    <tr>\n",
       "      <th>7002</th>\n",
       "      <td>train_7002</td>\n",
       "      <td>[[[0.788235294117647, 0.4980392156862745, 0.56...</td>\n",
       "      <td>[5]</td>\n",
       "    </tr>\n",
       "    <tr>\n",
       "      <th>7003</th>\n",
       "      <td>train_7003</td>\n",
       "      <td>[[[0.8941176470588236, 0.47843137254901963, 0....</td>\n",
       "      <td>[5]</td>\n",
       "    </tr>\n",
       "    <tr>\n",
       "      <th>7004</th>\n",
       "      <td>train_7004</td>\n",
       "      <td>[[[0.0784313725490196, 0.07058823529411765, 0....</td>\n",
       "      <td>[2]</td>\n",
       "    </tr>\n",
       "    <tr>\n",
       "      <th>7005</th>\n",
       "      <td>train_7005</td>\n",
       "      <td>[[[0.6705882352941176, 0.5529411764705883, 0.6...</td>\n",
       "      <td>[5]</td>\n",
       "    </tr>\n",
       "    <tr>\n",
       "      <th>7006</th>\n",
       "      <td>train_7006</td>\n",
       "      <td>[[[0.9372549019607843, 0.611764705882353, 0.69...</td>\n",
       "      <td>[5]</td>\n",
       "    </tr>\n",
       "  </tbody>\n",
       "</table>\n",
       "<p>7007 rows × 3 columns</p>\n",
       "</div>"
      ],
      "text/plain": [
       "              id                                              image label\n",
       "0        train_0  [[[0.6196078431372549, 0.43529411764705883, 0....   [0]\n",
       "1        train_1  [[[0.9019607843137255, 0.43529411764705883, 0....   [5]\n",
       "2        train_2  [[[0.8980392156862745, 0.611764705882353, 0.67...   [5]\n",
       "3        train_3  [[[0.8941176470588236, 0.4980392156862745, 0.4...   [5]\n",
       "4        train_4  [[[0.8470588235294118, 0.7372549019607844, 0.7...   [4]\n",
       "...          ...                                                ...   ...\n",
       "7002  train_7002  [[[0.788235294117647, 0.4980392156862745, 0.56...   [5]\n",
       "7003  train_7003  [[[0.8941176470588236, 0.47843137254901963, 0....   [5]\n",
       "7004  train_7004  [[[0.0784313725490196, 0.07058823529411765, 0....   [2]\n",
       "7005  train_7005  [[[0.6705882352941176, 0.5529411764705883, 0.6...   [5]\n",
       "7006  train_7006  [[[0.9372549019607843, 0.611764705882353, 0.69...   [5]\n",
       "\n",
       "[7007 rows x 3 columns]"
      ]
     },
     "execution_count": 72,
     "metadata": {},
     "output_type": "execute_result"
    }
   ],
   "source": [
    "train_df_loaded_new = normalizing_images(train_df_loaded)\n",
    "train_df_loaded_new"
   ]
  },
  {
   "cell_type": "code",
   "execution_count": 73,
   "metadata": {},
   "outputs": [],
   "source": [
    "from torchvision import transforms\n",
    "\n",
    "\n",
    "def tensoring_resizing(data: pd.DataFrame) -> pd.DataFrame:\n",
    "    transform = transforms.Compose(\n",
    "        [transforms.ToPILImage(), transforms.Resize((28, 28)), transforms.ToTensor()]\n",
    "    )\n",
    "\n",
    "    data[\"image\"] = data[\"image\"].apply(lambda x: transform(x).permute(1, 2, 0).numpy())\n",
    "    return data"
   ]
  },
  {
   "cell_type": "code",
   "execution_count": 74,
   "metadata": {},
   "outputs": [
    {
     "data": {
      "text/plain": [
       "(28, 28, 3)"
      ]
     },
     "execution_count": 74,
     "metadata": {},
     "output_type": "execute_result"
    }
   ],
   "source": [
    "train_df_loaded_new = tensoring_resizing(train_df_loaded_new)\n",
    "train_df_loaded_new[\"image\"].iloc[0].shape"
   ]
  },
  {
   "cell_type": "code",
   "execution_count": null,
   "metadata": {},
   "outputs": [
    {
     "data": {
      "text/html": [
       "<pre style=\"white-space:pre;overflow-x:auto;line-height:normal;font-family:Menlo,'DejaVu Sans Mono',consolas,'Courier New',monospace\"><span style=\"color: #7fbfbf; text-decoration-color: #7fbfbf\">[11/20/24 11:51:51] </span><span style=\"color: #000080; text-decoration-color: #000080\">INFO    </span> Registered line magic <span style=\"color: #008000; text-decoration-color: #008000\">'%reload_kedro'</span>                                   <a href=\"file://c:\\Users\\Admin\\miniconda3\\envs\\MlOps\\lib\\site-packages\\kedro\\ipython\\__init__.py\" target=\"_blank\"><span style=\"color: #7f7f7f; text-decoration-color: #7f7f7f\">__init__.py</span></a><span style=\"color: #7f7f7f; text-decoration-color: #7f7f7f\">:</span><a href=\"file://c:\\Users\\Admin\\miniconda3\\envs\\MlOps\\lib\\site-packages\\kedro\\ipython\\__init__.py#58\" target=\"_blank\"><span style=\"color: #7f7f7f; text-decoration-color: #7f7f7f\">58</span></a>\n",
       "</pre>\n"
      ],
      "text/plain": [
       "\u001b[2;36m[11/20/24 11:51:51]\u001b[0m\u001b[2;36m \u001b[0m\u001b[34mINFO    \u001b[0m Registered line magic \u001b[32m'%reload_kedro'\u001b[0m                                   \u001b]8;id=484576;file://c:\\Users\\Admin\\miniconda3\\envs\\MlOps\\lib\\site-packages\\kedro\\ipython\\__init__.py\u001b\\\u001b[2m__init__.py\u001b[0m\u001b]8;;\u001b\\\u001b[2m:\u001b[0m\u001b]8;id=722873;file://c:\\Users\\Admin\\miniconda3\\envs\\MlOps\\lib\\site-packages\\kedro\\ipython\\__init__.py#58\u001b\\\u001b[2m58\u001b[0m\u001b]8;;\u001b\\\n"
      ]
     },
     "metadata": {},
     "output_type": "display_data"
    },
    {
     "data": {
      "text/html": [
       "<pre style=\"white-space:pre;overflow-x:auto;line-height:normal;font-family:Menlo,'DejaVu Sans Mono',consolas,'Courier New',monospace\"><span style=\"color: #7fbfbf; text-decoration-color: #7fbfbf\">                    </span><span style=\"color: #000080; text-decoration-color: #000080\">INFO    </span> Registered line magic <span style=\"color: #008000; text-decoration-color: #008000\">'%load_node'</span>                                      <a href=\"file://c:\\Users\\Admin\\miniconda3\\envs\\MlOps\\lib\\site-packages\\kedro\\ipython\\__init__.py\" target=\"_blank\"><span style=\"color: #7f7f7f; text-decoration-color: #7f7f7f\">__init__.py</span></a><span style=\"color: #7f7f7f; text-decoration-color: #7f7f7f\">:</span><a href=\"file://c:\\Users\\Admin\\miniconda3\\envs\\MlOps\\lib\\site-packages\\kedro\\ipython\\__init__.py#60\" target=\"_blank\"><span style=\"color: #7f7f7f; text-decoration-color: #7f7f7f\">60</span></a>\n",
       "</pre>\n"
      ],
      "text/plain": [
       "\u001b[2;36m                   \u001b[0m\u001b[2;36m \u001b[0m\u001b[34mINFO    \u001b[0m Registered line magic \u001b[32m'%load_node'\u001b[0m                                      \u001b]8;id=801418;file://c:\\Users\\Admin\\miniconda3\\envs\\MlOps\\lib\\site-packages\\kedro\\ipython\\__init__.py\u001b\\\u001b[2m__init__.py\u001b[0m\u001b]8;;\u001b\\\u001b[2m:\u001b[0m\u001b]8;id=936855;file://c:\\Users\\Admin\\miniconda3\\envs\\MlOps\\lib\\site-packages\\kedro\\ipython\\__init__.py#60\u001b\\\u001b[2m60\u001b[0m\u001b]8;;\u001b\\\n"
      ]
     },
     "metadata": {},
     "output_type": "display_data"
    },
    {
     "data": {
      "text/html": [
       "<pre style=\"white-space:pre;overflow-x:auto;line-height:normal;font-family:Menlo,'DejaVu Sans Mono',consolas,'Courier New',monospace\"><span style=\"color: #7fbfbf; text-decoration-color: #7fbfbf\">                    </span><span style=\"color: #000080; text-decoration-color: #000080\">INFO    </span> Resolved project path as: c:\\Users\\Admin\\Desktop\\onco-derm-ai.         <a href=\"file://c:\\Users\\Admin\\miniconda3\\envs\\MlOps\\lib\\site-packages\\kedro\\ipython\\__init__.py\" target=\"_blank\"><span style=\"color: #7f7f7f; text-decoration-color: #7f7f7f\">__init__.py</span></a><span style=\"color: #7f7f7f; text-decoration-color: #7f7f7f\">:</span><a href=\"file://c:\\Users\\Admin\\miniconda3\\envs\\MlOps\\lib\\site-packages\\kedro\\ipython\\__init__.py#175\" target=\"_blank\"><span style=\"color: #7f7f7f; text-decoration-color: #7f7f7f\">175</span></a>\n",
       "<span style=\"color: #7fbfbf; text-decoration-color: #7fbfbf\">                    </span>         To set a different path, run <span style=\"color: #008000; text-decoration-color: #008000\">'%reload_kedro &lt;project_root&gt;'</span>            <span style=\"color: #7f7f7f; text-decoration-color: #7f7f7f\">               </span>\n",
       "</pre>\n"
      ],
      "text/plain": [
       "\u001b[2;36m                   \u001b[0m\u001b[2;36m \u001b[0m\u001b[34mINFO    \u001b[0m Resolved project path as: c:\\Users\\Admin\\Desktop\\onco-derm-ai.         \u001b]8;id=338094;file://c:\\Users\\Admin\\miniconda3\\envs\\MlOps\\lib\\site-packages\\kedro\\ipython\\__init__.py\u001b\\\u001b[2m__init__.py\u001b[0m\u001b]8;;\u001b\\\u001b[2m:\u001b[0m\u001b]8;id=169286;file://c:\\Users\\Admin\\miniconda3\\envs\\MlOps\\lib\\site-packages\\kedro\\ipython\\__init__.py#175\u001b\\\u001b[2m175\u001b[0m\u001b]8;;\u001b\\\n",
       "\u001b[2;36m                    \u001b[0m         To set a different path, run \u001b[32m'%reload_kedro \u001b[0m\u001b[32m<\u001b[0m\u001b[32mproject_root\u001b[0m\u001b[32m>\u001b[0m\u001b[32m'\u001b[0m            \u001b[2m               \u001b[0m\n"
      ]
     },
     "metadata": {},
     "output_type": "display_data"
    },
    {
     "data": {
      "text/html": [
       "<pre style=\"white-space:pre;overflow-x:auto;line-height:normal;font-family:Menlo,'DejaVu Sans Mono',consolas,'Courier New',monospace\"><span style=\"color: #7fbfbf; text-decoration-color: #7fbfbf\">[11/20/24 11:51:52] </span><span style=\"color: #000080; text-decoration-color: #000080\">INFO    </span> Registering new custom resolver: <span style=\"color: #008000; text-decoration-color: #008000\">'km.random_name'</span>                    <a href=\"file://c:\\Users\\Admin\\miniconda3\\envs\\MlOps\\lib\\site-packages\\kedro_mlflow\\framework\\hooks\\mlflow_hook.py\" target=\"_blank\"><span style=\"color: #7f7f7f; text-decoration-color: #7f7f7f\">mlflow_hook.py</span></a><span style=\"color: #7f7f7f; text-decoration-color: #7f7f7f\">:</span><a href=\"file://c:\\Users\\Admin\\miniconda3\\envs\\MlOps\\lib\\site-packages\\kedro_mlflow\\framework\\hooks\\mlflow_hook.py#62\" target=\"_blank\"><span style=\"color: #7f7f7f; text-decoration-color: #7f7f7f\">62</span></a>\n",
       "</pre>\n"
      ],
      "text/plain": [
       "\u001b[2;36m[11/20/24 11:51:52]\u001b[0m\u001b[2;36m \u001b[0m\u001b[34mINFO    \u001b[0m Registering new custom resolver: \u001b[32m'km.random_name'\u001b[0m                    \u001b]8;id=903655;file://c:\\Users\\Admin\\miniconda3\\envs\\MlOps\\lib\\site-packages\\kedro_mlflow\\framework\\hooks\\mlflow_hook.py\u001b\\\u001b[2mmlflow_hook.py\u001b[0m\u001b]8;;\u001b\\\u001b[2m:\u001b[0m\u001b]8;id=747992;file://c:\\Users\\Admin\\miniconda3\\envs\\MlOps\\lib\\site-packages\\kedro_mlflow\\framework\\hooks\\mlflow_hook.py#62\u001b\\\u001b[2m62\u001b[0m\u001b]8;;\u001b\\\n"
      ]
     },
     "metadata": {},
     "output_type": "display_data"
    },
    {
     "data": {
      "text/html": [
       "<pre style=\"white-space:pre;overflow-x:auto;line-height:normal;font-family:Menlo,'DejaVu Sans Mono',consolas,'Courier New',monospace\"><span style=\"color: #7fbfbf; text-decoration-color: #7fbfbf\">                    </span><span style=\"color: #808000; text-decoration-color: #808000\">WARNING </span> No <span style=\"color: #008000; text-decoration-color: #008000\">'mlflow.yml'</span> config file found in environment. Default            <a href=\"file://c:\\Users\\Admin\\miniconda3\\envs\\MlOps\\lib\\site-packages\\kedro_mlflow\\framework\\hooks\\mlflow_hook.py\" target=\"_blank\"><span style=\"color: #7f7f7f; text-decoration-color: #7f7f7f\">mlflow_hook.py</span></a><span style=\"color: #7f7f7f; text-decoration-color: #7f7f7f\">:</span><a href=\"file://c:\\Users\\Admin\\miniconda3\\envs\\MlOps\\lib\\site-packages\\kedro_mlflow\\framework\\hooks\\mlflow_hook.py#75\" target=\"_blank\"><span style=\"color: #7f7f7f; text-decoration-color: #7f7f7f\">75</span></a>\n",
       "<span style=\"color: #7fbfbf; text-decoration-color: #7fbfbf\">                    </span>         configuration will be used. Use ``kedro mlflow init`` command in CLI <span style=\"color: #7f7f7f; text-decoration-color: #7f7f7f\">                 </span>\n",
       "<span style=\"color: #7fbfbf; text-decoration-color: #7fbfbf\">                    </span>         to customize the configuration.                                      <span style=\"color: #7f7f7f; text-decoration-color: #7f7f7f\">                 </span>\n",
       "</pre>\n"
      ],
      "text/plain": [
       "\u001b[2;36m                   \u001b[0m\u001b[2;36m \u001b[0m\u001b[33mWARNING \u001b[0m No \u001b[32m'mlflow.yml'\u001b[0m config file found in environment. Default            \u001b]8;id=921704;file://c:\\Users\\Admin\\miniconda3\\envs\\MlOps\\lib\\site-packages\\kedro_mlflow\\framework\\hooks\\mlflow_hook.py\u001b\\\u001b[2mmlflow_hook.py\u001b[0m\u001b]8;;\u001b\\\u001b[2m:\u001b[0m\u001b]8;id=231722;file://c:\\Users\\Admin\\miniconda3\\envs\\MlOps\\lib\\site-packages\\kedro_mlflow\\framework\\hooks\\mlflow_hook.py#75\u001b\\\u001b[2m75\u001b[0m\u001b]8;;\u001b\\\n",
       "\u001b[2;36m                    \u001b[0m         configuration will be used. Use ``kedro mlflow init`` command in CLI \u001b[2m                 \u001b[0m\n",
       "\u001b[2;36m                    \u001b[0m         to customize the configuration.                                      \u001b[2m                 \u001b[0m\n"
      ]
     },
     "metadata": {},
     "output_type": "display_data"
    },
    {
     "data": {
      "text/html": [
       "<pre style=\"white-space:pre;overflow-x:auto;line-height:normal;font-family:Menlo,'DejaVu Sans Mono',consolas,'Courier New',monospace\"><span style=\"color: #7fbfbf; text-decoration-color: #7fbfbf\">                    </span><span style=\"color: #000080; text-decoration-color: #000080\">INFO    </span> The <span style=\"color: #008000; text-decoration-color: #008000\">'tracking_uri'</span> key in mlflow.yml is relative            <a href=\"file://c:\\Users\\Admin\\miniconda3\\envs\\MlOps\\lib\\site-packages\\kedro_mlflow\\config\\kedro_mlflow_config.py\" target=\"_blank\"><span style=\"color: #7f7f7f; text-decoration-color: #7f7f7f\">kedro_mlflow_config.py</span></a><span style=\"color: #7f7f7f; text-decoration-color: #7f7f7f\">:</span><a href=\"file://c:\\Users\\Admin\\miniconda3\\envs\\MlOps\\lib\\site-packages\\kedro_mlflow\\config\\kedro_mlflow_config.py#260\" target=\"_blank\"><span style=\"color: #7f7f7f; text-decoration-color: #7f7f7f\">260</span></a>\n",
       "<span style=\"color: #7fbfbf; text-decoration-color: #7fbfbf\">                    </span>         <span style=\"font-weight: bold\">(</span><span style=\"color: #008000; text-decoration-color: #008000\">'server.mlflow_(tracking|registry)_uri = mlruns'</span><span style=\"font-weight: bold\">)</span>. It is   <span style=\"color: #7f7f7f; text-decoration-color: #7f7f7f\">                          </span>\n",
       "<span style=\"color: #7fbfbf; text-decoration-color: #7fbfbf\">                    </span>         converted to a valid uri:                                   <span style=\"color: #7f7f7f; text-decoration-color: #7f7f7f\">                          </span>\n",
       "<span style=\"color: #7fbfbf; text-decoration-color: #7fbfbf\">                    </span>         <span style=\"color: #008000; text-decoration-color: #008000\">'file:///C:/Users/Admin/Desktop/onco-derm-ai/mlruns'</span>        <span style=\"color: #7f7f7f; text-decoration-color: #7f7f7f\">                          </span>\n",
       "</pre>\n"
      ],
      "text/plain": [
       "\u001b[2;36m                   \u001b[0m\u001b[2;36m \u001b[0m\u001b[34mINFO    \u001b[0m The \u001b[32m'tracking_uri'\u001b[0m key in mlflow.yml is relative            \u001b]8;id=221495;file://c:\\Users\\Admin\\miniconda3\\envs\\MlOps\\lib\\site-packages\\kedro_mlflow\\config\\kedro_mlflow_config.py\u001b\\\u001b[2mkedro_mlflow_config.py\u001b[0m\u001b]8;;\u001b\\\u001b[2m:\u001b[0m\u001b]8;id=872691;file://c:\\Users\\Admin\\miniconda3\\envs\\MlOps\\lib\\site-packages\\kedro_mlflow\\config\\kedro_mlflow_config.py#260\u001b\\\u001b[2m260\u001b[0m\u001b]8;;\u001b\\\n",
       "\u001b[2;36m                    \u001b[0m         \u001b[1m(\u001b[0m\u001b[32m'server.mlflow_\u001b[0m\u001b[32m(\u001b[0m\u001b[32mtracking|registry\u001b[0m\u001b[32m)\u001b[0m\u001b[32m_uri = mlruns'\u001b[0m\u001b[1m)\u001b[0m. It is   \u001b[2m                          \u001b[0m\n",
       "\u001b[2;36m                    \u001b[0m         converted to a valid uri:                                   \u001b[2m                          \u001b[0m\n",
       "\u001b[2;36m                    \u001b[0m         \u001b[32m'file:///C:/Users/Admin/Desktop/onco-derm-ai/mlruns'\u001b[0m        \u001b[2m                          \u001b[0m\n"
      ]
     },
     "metadata": {},
     "output_type": "display_data"
    },
    {
     "data": {
      "text/html": [
       "<pre style=\"white-space:pre;overflow-x:auto;line-height:normal;font-family:Menlo,'DejaVu Sans Mono',consolas,'Courier New',monospace\"><span style=\"color: #7fbfbf; text-decoration-color: #7fbfbf\">                    </span><span style=\"color: #808000; text-decoration-color: #808000\">WARNING </span> Malformed experiment <span style=\"color: #008000; text-decoration-color: #008000\">'312469223918544298'</span>. Detailed error Yaml file  <a href=\"file://c:\\Users\\Admin\\miniconda3\\envs\\MlOps\\lib\\site-packages\\mlflow\\store\\tracking\\file_store.py\" target=\"_blank\"><span style=\"color: #7f7f7f; text-decoration-color: #7f7f7f\">file_store.py</span></a><span style=\"color: #7f7f7f; text-decoration-color: #7f7f7f\">:</span><a href=\"file://c:\\Users\\Admin\\miniconda3\\envs\\MlOps\\lib\\site-packages\\mlflow\\store\\tracking\\file_store.py#331\" target=\"_blank\"><span style=\"color: #7f7f7f; text-decoration-color: #7f7f7f\">331</span></a>\n",
       "<span style=\"color: #7fbfbf; text-decoration-color: #7fbfbf\">                    </span>         <span style=\"color: #008000; text-decoration-color: #008000\">'C:\\Users\\Admin\\Desktop\\onco-derm-ai\\mlruns\\312469223918544298\\meta.</span> <span style=\"color: #7f7f7f; text-decoration-color: #7f7f7f\">                 </span>\n",
       "<span style=\"color: #7fbfbf; text-decoration-color: #7fbfbf\">                    </span>         <span style=\"color: #008000; text-decoration-color: #008000\">yaml'</span> does not exist.                                                <span style=\"color: #7f7f7f; text-decoration-color: #7f7f7f\">                 </span>\n",
       "<span style=\"color: #7fbfbf; text-decoration-color: #7fbfbf\">                    </span>         <span style=\"color: #800000; text-decoration-color: #800000\">╭─────────────── </span><span style=\"color: #800000; text-decoration-color: #800000; font-weight: bold\">Traceback </span><span style=\"color: #bf7f7f; text-decoration-color: #bf7f7f; font-weight: bold\">(most recent call last)</span><span style=\"color: #800000; text-decoration-color: #800000\"> ────────────────╮</span> <span style=\"color: #7f7f7f; text-decoration-color: #7f7f7f\">                 </span>\n",
       "<span style=\"color: #7fbfbf; text-decoration-color: #7fbfbf\">                    </span>         <span style=\"color: #800000; text-decoration-color: #800000\">│</span> <span style=\"color: #808000; text-decoration-color: #808000\">c:\\Users\\Admin\\miniconda3\\envs\\MlOps\\lib\\site-packages\\mlflow\\st</span> <span style=\"color: #800000; text-decoration-color: #800000\">│</span> <span style=\"color: #7f7f7f; text-decoration-color: #7f7f7f\">                 </span>\n",
       "<span style=\"color: #7fbfbf; text-decoration-color: #7fbfbf\">                    </span>         <span style=\"color: #800000; text-decoration-color: #800000\">│</span> <span style=\"color: #808000; text-decoration-color: #808000\">ore\\tracking\\file_store.py</span>:<span style=\"color: #0000ff; text-decoration-color: #0000ff\">327</span> in <span style=\"color: #00ff00; text-decoration-color: #00ff00\">search_experiments</span>             <span style=\"color: #800000; text-decoration-color: #800000\">│</span> <span style=\"color: #7f7f7f; text-decoration-color: #7f7f7f\">                 </span>\n",
       "<span style=\"color: #7fbfbf; text-decoration-color: #7fbfbf\">                    </span>         <span style=\"color: #800000; text-decoration-color: #800000\">│</span>                                                                  <span style=\"color: #800000; text-decoration-color: #800000\">│</span> <span style=\"color: #7f7f7f; text-decoration-color: #7f7f7f\">                 </span>\n",
       "<span style=\"color: #7fbfbf; text-decoration-color: #7fbfbf\">                    </span>         <span style=\"color: #800000; text-decoration-color: #800000\">│</span>   <span style=\"color: #7f7f7f; text-decoration-color: #7f7f7f\"> 324 </span><span style=\"color: #7f7f7f; text-decoration-color: #7f7f7f\">│   │   </span><span style=\"color: #0000ff; text-decoration-color: #0000ff\">for</span> exp_id <span style=\"color: #ff00ff; text-decoration-color: #ff00ff\">in</span> experiment_ids:                     <span style=\"color: #800000; text-decoration-color: #800000\">│</span> <span style=\"color: #7f7f7f; text-decoration-color: #7f7f7f\">                 </span>\n",
       "<span style=\"color: #7fbfbf; text-decoration-color: #7fbfbf\">                    </span>         <span style=\"color: #800000; text-decoration-color: #800000\">│</span>   <span style=\"color: #7f7f7f; text-decoration-color: #7f7f7f\"> 325 </span><span style=\"color: #7f7f7f; text-decoration-color: #7f7f7f\">│   │   │   </span><span style=\"color: #0000ff; text-decoration-color: #0000ff\">try</span>:                                          <span style=\"color: #800000; text-decoration-color: #800000\">│</span> <span style=\"color: #7f7f7f; text-decoration-color: #7f7f7f\">                 </span>\n",
       "<span style=\"color: #7fbfbf; text-decoration-color: #7fbfbf\">                    </span>         <span style=\"color: #800000; text-decoration-color: #800000\">│</span>   <span style=\"color: #7f7f7f; text-decoration-color: #7f7f7f\"> 326 </span><span style=\"color: #7f7f7f; text-decoration-color: #7f7f7f\">│   │   │   │   </span><span style=\"color: #7f7f7f; text-decoration-color: #7f7f7f\"># trap and warn known issues, will raise </span> <span style=\"color: #800000; text-decoration-color: #800000\">│</span> <span style=\"color: #7f7f7f; text-decoration-color: #7f7f7f\">                 </span>\n",
       "<span style=\"color: #7fbfbf; text-decoration-color: #7fbfbf\">                    </span>         <span style=\"color: #800000; text-decoration-color: #800000\">│</span> <span style=\"color: #800000; text-decoration-color: #800000\">❱ </span> 327 <span style=\"color: #7f7f7f; text-decoration-color: #7f7f7f\">│   │   │   │   </span>exp = <span style=\"color: #00ffff; text-decoration-color: #00ffff\">self</span>._get_experiment(exp_id, view_t <span style=\"color: #800000; text-decoration-color: #800000\">│</span> <span style=\"color: #7f7f7f; text-decoration-color: #7f7f7f\">                 </span>\n",
       "<span style=\"color: #7fbfbf; text-decoration-color: #7fbfbf\">                    </span>         <span style=\"color: #800000; text-decoration-color: #800000\">│</span>   <span style=\"color: #7f7f7f; text-decoration-color: #7f7f7f\"> 328 </span><span style=\"color: #7f7f7f; text-decoration-color: #7f7f7f\">│   │   │   │   </span><span style=\"color: #0000ff; text-decoration-color: #0000ff\">if</span> exp <span style=\"color: #ff00ff; text-decoration-color: #ff00ff\">is</span> <span style=\"color: #ff00ff; text-decoration-color: #ff00ff\">not</span> <span style=\"color: #0000ff; text-decoration-color: #0000ff\">None</span>:                       <span style=\"color: #800000; text-decoration-color: #800000\">│</span> <span style=\"color: #7f7f7f; text-decoration-color: #7f7f7f\">                 </span>\n",
       "<span style=\"color: #7fbfbf; text-decoration-color: #7fbfbf\">                    </span>         <span style=\"color: #800000; text-decoration-color: #800000\">│</span>   <span style=\"color: #7f7f7f; text-decoration-color: #7f7f7f\"> 329 </span><span style=\"color: #7f7f7f; text-decoration-color: #7f7f7f\">│   │   │   │   │   </span>experiments.append(exp)               <span style=\"color: #800000; text-decoration-color: #800000\">│</span> <span style=\"color: #7f7f7f; text-decoration-color: #7f7f7f\">                 </span>\n",
       "<span style=\"color: #7fbfbf; text-decoration-color: #7fbfbf\">                    </span>         <span style=\"color: #800000; text-decoration-color: #800000\">│</span>   <span style=\"color: #7f7f7f; text-decoration-color: #7f7f7f\"> 330 </span><span style=\"color: #7f7f7f; text-decoration-color: #7f7f7f\">│   │   │   </span><span style=\"color: #0000ff; text-decoration-color: #0000ff\">except</span> MissingConfigException <span style=\"color: #0000ff; text-decoration-color: #0000ff\">as</span> e:           <span style=\"color: #800000; text-decoration-color: #800000\">│</span> <span style=\"color: #7f7f7f; text-decoration-color: #7f7f7f\">                 </span>\n",
       "<span style=\"color: #7fbfbf; text-decoration-color: #7fbfbf\">                    </span>         <span style=\"color: #800000; text-decoration-color: #800000\">│</span>                                                                  <span style=\"color: #800000; text-decoration-color: #800000\">│</span> <span style=\"color: #7f7f7f; text-decoration-color: #7f7f7f\">                 </span>\n",
       "<span style=\"color: #7fbfbf; text-decoration-color: #7fbfbf\">                    </span>         <span style=\"color: #800000; text-decoration-color: #800000\">│</span> <span style=\"color: #808000; text-decoration-color: #808000\">c:\\Users\\Admin\\miniconda3\\envs\\MlOps\\lib\\site-packages\\mlflow\\st</span> <span style=\"color: #800000; text-decoration-color: #800000\">│</span> <span style=\"color: #7f7f7f; text-decoration-color: #7f7f7f\">                 </span>\n",
       "<span style=\"color: #7fbfbf; text-decoration-color: #7fbfbf\">                    </span>         <span style=\"color: #800000; text-decoration-color: #800000\">│</span> <span style=\"color: #808000; text-decoration-color: #808000\">ore\\tracking\\file_store.py</span>:<span style=\"color: #0000ff; text-decoration-color: #0000ff\">421</span> in <span style=\"color: #00ff00; text-decoration-color: #00ff00\">_get_experiment</span>                <span style=\"color: #800000; text-decoration-color: #800000\">│</span> <span style=\"color: #7f7f7f; text-decoration-color: #7f7f7f\">                 </span>\n",
       "<span style=\"color: #7fbfbf; text-decoration-color: #7fbfbf\">                    </span>         <span style=\"color: #800000; text-decoration-color: #800000\">│</span>                                                                  <span style=\"color: #800000; text-decoration-color: #800000\">│</span> <span style=\"color: #7f7f7f; text-decoration-color: #7f7f7f\">                 </span>\n",
       "<span style=\"color: #7fbfbf; text-decoration-color: #7fbfbf\">                    </span>         <span style=\"color: #800000; text-decoration-color: #800000\">│</span>   <span style=\"color: #7f7f7f; text-decoration-color: #7f7f7f\"> 418 </span><span style=\"color: #7f7f7f; text-decoration-color: #7f7f7f\">│   │   │   │   </span><span style=\"color: #808000; text-decoration-color: #808000\">f\"Could not find experiment with ID {</span>expe <span style=\"color: #800000; text-decoration-color: #800000\">│</span> <span style=\"color: #7f7f7f; text-decoration-color: #7f7f7f\">                 </span>\n",
       "<span style=\"color: #7fbfbf; text-decoration-color: #7fbfbf\">                    </span>         <span style=\"color: #800000; text-decoration-color: #800000\">│</span>   <span style=\"color: #7f7f7f; text-decoration-color: #7f7f7f\"> 419 </span><span style=\"color: #7f7f7f; text-decoration-color: #7f7f7f\">│   │   │   │   </span>databricks_pb2.RESOURCE_DOES_NOT_EXIST,   <span style=\"color: #800000; text-decoration-color: #800000\">│</span> <span style=\"color: #7f7f7f; text-decoration-color: #7f7f7f\">                 </span>\n",
       "<span style=\"color: #7fbfbf; text-decoration-color: #7fbfbf\">                    </span>         <span style=\"color: #800000; text-decoration-color: #800000\">│</span>   <span style=\"color: #7f7f7f; text-decoration-color: #7f7f7f\"> 420 </span><span style=\"color: #7f7f7f; text-decoration-color: #7f7f7f\">│   │   │   </span>)                                             <span style=\"color: #800000; text-decoration-color: #800000\">│</span> <span style=\"color: #7f7f7f; text-decoration-color: #7f7f7f\">                 </span>\n",
       "<span style=\"color: #7fbfbf; text-decoration-color: #7fbfbf\">                    </span>         <span style=\"color: #800000; text-decoration-color: #800000\">│</span> <span style=\"color: #800000; text-decoration-color: #800000\">❱ </span> 421 <span style=\"color: #7f7f7f; text-decoration-color: #7f7f7f\">│   │   </span>meta = FileStore._read_yaml(experiment_dir, FileS <span style=\"color: #800000; text-decoration-color: #800000\">│</span> <span style=\"color: #7f7f7f; text-decoration-color: #7f7f7f\">                 </span>\n",
       "<span style=\"color: #7fbfbf; text-decoration-color: #7fbfbf\">                    </span>         <span style=\"color: #800000; text-decoration-color: #800000\">│</span>   <span style=\"color: #7f7f7f; text-decoration-color: #7f7f7f\"> 422 </span><span style=\"color: #7f7f7f; text-decoration-color: #7f7f7f\">│   │   </span>meta[<span style=\"color: #808000; text-decoration-color: #808000\">\"tags\"</span>] = <span style=\"color: #00ffff; text-decoration-color: #00ffff\">self</span>.get_all_experiment_tags(exper <span style=\"color: #800000; text-decoration-color: #800000\">│</span> <span style=\"color: #7f7f7f; text-decoration-color: #7f7f7f\">                 </span>\n",
       "<span style=\"color: #7fbfbf; text-decoration-color: #7fbfbf\">                    </span>         <span style=\"color: #800000; text-decoration-color: #800000\">│</span>   <span style=\"color: #7f7f7f; text-decoration-color: #7f7f7f\"> 423 </span><span style=\"color: #7f7f7f; text-decoration-color: #7f7f7f\">│   │   </span>experiment = _read_persisted_experiment_dict(meta <span style=\"color: #800000; text-decoration-color: #800000\">│</span> <span style=\"color: #7f7f7f; text-decoration-color: #7f7f7f\">                 </span>\n",
       "<span style=\"color: #7fbfbf; text-decoration-color: #7fbfbf\">                    </span>         <span style=\"color: #800000; text-decoration-color: #800000\">│</span>   <span style=\"color: #7f7f7f; text-decoration-color: #7f7f7f\"> 424 </span><span style=\"color: #7f7f7f; text-decoration-color: #7f7f7f\">│   │   </span><span style=\"color: #0000ff; text-decoration-color: #0000ff\">if</span> experiment_id != experiment.experiment_id:     <span style=\"color: #800000; text-decoration-color: #800000\">│</span> <span style=\"color: #7f7f7f; text-decoration-color: #7f7f7f\">                 </span>\n",
       "<span style=\"color: #7fbfbf; text-decoration-color: #7fbfbf\">                    </span>         <span style=\"color: #800000; text-decoration-color: #800000\">│</span>                                                                  <span style=\"color: #800000; text-decoration-color: #800000\">│</span> <span style=\"color: #7f7f7f; text-decoration-color: #7f7f7f\">                 </span>\n",
       "<span style=\"color: #7fbfbf; text-decoration-color: #7fbfbf\">                    </span>         <span style=\"color: #800000; text-decoration-color: #800000\">│</span> <span style=\"color: #808000; text-decoration-color: #808000\">c:\\Users\\Admin\\miniconda3\\envs\\MlOps\\lib\\site-packages\\mlflow\\st</span> <span style=\"color: #800000; text-decoration-color: #800000\">│</span> <span style=\"color: #7f7f7f; text-decoration-color: #7f7f7f\">                 </span>\n",
       "<span style=\"color: #7fbfbf; text-decoration-color: #7fbfbf\">                    </span>         <span style=\"color: #800000; text-decoration-color: #800000\">│</span> <span style=\"color: #808000; text-decoration-color: #808000\">ore\\tracking\\file_store.py</span>:<span style=\"color: #0000ff; text-decoration-color: #0000ff\">1367</span> in <span style=\"color: #00ff00; text-decoration-color: #00ff00\">_read_yaml</span>                    <span style=\"color: #800000; text-decoration-color: #800000\">│</span> <span style=\"color: #7f7f7f; text-decoration-color: #7f7f7f\">                 </span>\n",
       "<span style=\"color: #7fbfbf; text-decoration-color: #7fbfbf\">                    </span>         <span style=\"color: #800000; text-decoration-color: #800000\">│</span>                                                                  <span style=\"color: #800000; text-decoration-color: #800000\">│</span> <span style=\"color: #7f7f7f; text-decoration-color: #7f7f7f\">                 </span>\n",
       "<span style=\"color: #7fbfbf; text-decoration-color: #7fbfbf\">                    </span>         <span style=\"color: #800000; text-decoration-color: #800000\">│</span>   <span style=\"color: #7f7f7f; text-decoration-color: #7f7f7f\">1364 </span><span style=\"color: #7f7f7f; text-decoration-color: #7f7f7f\">│   │   │   │   </span>time.sleep(<span style=\"color: #0000ff; text-decoration-color: #0000ff\">0.1</span> * (<span style=\"color: #0000ff; text-decoration-color: #0000ff\">3</span> - attempts_remaining) <span style=\"color: #800000; text-decoration-color: #800000\">│</span> <span style=\"color: #7f7f7f; text-decoration-color: #7f7f7f\">                 </span>\n",
       "<span style=\"color: #7fbfbf; text-decoration-color: #7fbfbf\">                    </span>         <span style=\"color: #800000; text-decoration-color: #800000\">│</span>   <span style=\"color: #7f7f7f; text-decoration-color: #7f7f7f\">1365 </span><span style=\"color: #7f7f7f; text-decoration-color: #7f7f7f\">│   │   │   │   </span><span style=\"color: #0000ff; text-decoration-color: #0000ff\">return</span> _read_helper(root, file_name, atte <span style=\"color: #800000; text-decoration-color: #800000\">│</span> <span style=\"color: #7f7f7f; text-decoration-color: #7f7f7f\">                 </span>\n",
       "<span style=\"color: #7fbfbf; text-decoration-color: #7fbfbf\">                    </span>         <span style=\"color: #800000; text-decoration-color: #800000\">│</span>   <span style=\"color: #7f7f7f; text-decoration-color: #7f7f7f\">1366 </span><span style=\"color: #7f7f7f; text-decoration-color: #7f7f7f\">│   │   </span>                                                  <span style=\"color: #800000; text-decoration-color: #800000\">│</span> <span style=\"color: #7f7f7f; text-decoration-color: #7f7f7f\">                 </span>\n",
       "<span style=\"color: #7fbfbf; text-decoration-color: #7fbfbf\">                    </span>         <span style=\"color: #800000; text-decoration-color: #800000\">│</span> <span style=\"color: #800000; text-decoration-color: #800000\">❱ </span>1367 <span style=\"color: #7f7f7f; text-decoration-color: #7f7f7f\">│   │   </span><span style=\"color: #0000ff; text-decoration-color: #0000ff\">return</span> _read_helper(root, file_name, attempts_rem <span style=\"color: #800000; text-decoration-color: #800000\">│</span> <span style=\"color: #7f7f7f; text-decoration-color: #7f7f7f\">                 </span>\n",
       "<span style=\"color: #7fbfbf; text-decoration-color: #7fbfbf\">                    </span>         <span style=\"color: #800000; text-decoration-color: #800000\">│</span>   <span style=\"color: #7f7f7f; text-decoration-color: #7f7f7f\">1368 </span><span style=\"color: #7f7f7f; text-decoration-color: #7f7f7f\">│   </span>                                                      <span style=\"color: #800000; text-decoration-color: #800000\">│</span> <span style=\"color: #7f7f7f; text-decoration-color: #7f7f7f\">                 </span>\n",
       "<span style=\"color: #7fbfbf; text-decoration-color: #7fbfbf\">                    </span>         <span style=\"color: #800000; text-decoration-color: #800000\">│</span>   <span style=\"color: #7f7f7f; text-decoration-color: #7f7f7f\">1369 </span><span style=\"color: #7f7f7f; text-decoration-color: #7f7f7f\">│   </span><span style=\"color: #0000ff; text-decoration-color: #0000ff\">def</span> <span style=\"color: #00ff00; text-decoration-color: #00ff00\">_get_traces_artifact_dir</span>(<span style=\"color: #00ffff; text-decoration-color: #00ffff\">self</span>, experiment_id, req <span style=\"color: #800000; text-decoration-color: #800000\">│</span> <span style=\"color: #7f7f7f; text-decoration-color: #7f7f7f\">                 </span>\n",
       "<span style=\"color: #7fbfbf; text-decoration-color: #7fbfbf\">                    </span>         <span style=\"color: #800000; text-decoration-color: #800000\">│</span>   <span style=\"color: #7f7f7f; text-decoration-color: #7f7f7f\">1370 </span><span style=\"color: #7f7f7f; text-decoration-color: #7f7f7f\">│   │   </span><span style=\"color: #0000ff; text-decoration-color: #0000ff\">return</span> append_to_uri_path(                        <span style=\"color: #800000; text-decoration-color: #800000\">│</span> <span style=\"color: #7f7f7f; text-decoration-color: #7f7f7f\">                 </span>\n",
       "<span style=\"color: #7fbfbf; text-decoration-color: #7fbfbf\">                    </span>         <span style=\"color: #800000; text-decoration-color: #800000\">│</span>                                                                  <span style=\"color: #800000; text-decoration-color: #800000\">│</span> <span style=\"color: #7f7f7f; text-decoration-color: #7f7f7f\">                 </span>\n",
       "<span style=\"color: #7fbfbf; text-decoration-color: #7fbfbf\">                    </span>         <span style=\"color: #800000; text-decoration-color: #800000\">│</span> <span style=\"color: #808000; text-decoration-color: #808000\">c:\\Users\\Admin\\miniconda3\\envs\\MlOps\\lib\\site-packages\\mlflow\\st</span> <span style=\"color: #800000; text-decoration-color: #800000\">│</span> <span style=\"color: #7f7f7f; text-decoration-color: #7f7f7f\">                 </span>\n",
       "<span style=\"color: #7fbfbf; text-decoration-color: #7fbfbf\">                    </span>         <span style=\"color: #800000; text-decoration-color: #800000\">│</span> <span style=\"color: #808000; text-decoration-color: #808000\">ore\\tracking\\file_store.py</span>:<span style=\"color: #0000ff; text-decoration-color: #0000ff\">1360</span> in <span style=\"color: #00ff00; text-decoration-color: #00ff00\">_read_helper</span>                  <span style=\"color: #800000; text-decoration-color: #800000\">│</span> <span style=\"color: #7f7f7f; text-decoration-color: #7f7f7f\">                 </span>\n",
       "<span style=\"color: #7fbfbf; text-decoration-color: #7fbfbf\">                    </span>         <span style=\"color: #800000; text-decoration-color: #800000\">│</span>                                                                  <span style=\"color: #800000; text-decoration-color: #800000\">│</span> <span style=\"color: #7f7f7f; text-decoration-color: #7f7f7f\">                 </span>\n",
       "<span style=\"color: #7fbfbf; text-decoration-color: #7fbfbf\">                    </span>         <span style=\"color: #800000; text-decoration-color: #800000\">│</span>   <span style=\"color: #7f7f7f; text-decoration-color: #7f7f7f\">1357 </span><span style=\"color: #bfbf7f; text-decoration-color: #bfbf7f\">│   │   </span><span style=\"color: #808000; text-decoration-color: #808000\">\"\"\"</span>                                               <span style=\"color: #800000; text-decoration-color: #800000\">│</span> <span style=\"color: #7f7f7f; text-decoration-color: #7f7f7f\">                 </span>\n",
       "<span style=\"color: #7fbfbf; text-decoration-color: #7fbfbf\">                    </span>         <span style=\"color: #800000; text-decoration-color: #800000\">│</span>   <span style=\"color: #7f7f7f; text-decoration-color: #7f7f7f\">1358 </span><span style=\"color: #7f7f7f; text-decoration-color: #7f7f7f\">│   │   </span>                                                  <span style=\"color: #800000; text-decoration-color: #800000\">│</span> <span style=\"color: #7f7f7f; text-decoration-color: #7f7f7f\">                 </span>\n",
       "<span style=\"color: #7fbfbf; text-decoration-color: #7fbfbf\">                    </span>         <span style=\"color: #800000; text-decoration-color: #800000\">│</span>   <span style=\"color: #7f7f7f; text-decoration-color: #7f7f7f\">1359 </span><span style=\"color: #7f7f7f; text-decoration-color: #7f7f7f\">│   │   </span><span style=\"color: #0000ff; text-decoration-color: #0000ff\">def</span> <span style=\"color: #00ff00; text-decoration-color: #00ff00\">_read_helper</span>(root, file_name, attempts_remain <span style=\"color: #800000; text-decoration-color: #800000\">│</span> <span style=\"color: #7f7f7f; text-decoration-color: #7f7f7f\">                 </span>\n",
       "<span style=\"color: #7fbfbf; text-decoration-color: #7fbfbf\">                    </span>         <span style=\"color: #800000; text-decoration-color: #800000\">│</span> <span style=\"color: #800000; text-decoration-color: #800000\">❱ </span>1360 <span style=\"color: #7f7f7f; text-decoration-color: #7f7f7f\">│   │   │   </span>result = read_yaml(root, file_name)           <span style=\"color: #800000; text-decoration-color: #800000\">│</span> <span style=\"color: #7f7f7f; text-decoration-color: #7f7f7f\">                 </span>\n",
       "<span style=\"color: #7fbfbf; text-decoration-color: #7fbfbf\">                    </span>         <span style=\"color: #800000; text-decoration-color: #800000\">│</span>   <span style=\"color: #7f7f7f; text-decoration-color: #7f7f7f\">1361 </span><span style=\"color: #7f7f7f; text-decoration-color: #7f7f7f\">│   │   │   </span><span style=\"color: #0000ff; text-decoration-color: #0000ff\">if</span> result <span style=\"color: #ff00ff; text-decoration-color: #ff00ff\">is</span> <span style=\"color: #ff00ff; text-decoration-color: #ff00ff\">not</span> <span style=\"color: #0000ff; text-decoration-color: #0000ff\">None</span> <span style=\"color: #ff00ff; text-decoration-color: #ff00ff\">or</span> attempts_remaining = <span style=\"color: #800000; text-decoration-color: #800000\">│</span> <span style=\"color: #7f7f7f; text-decoration-color: #7f7f7f\">                 </span>\n",
       "<span style=\"color: #7fbfbf; text-decoration-color: #7fbfbf\">                    </span>         <span style=\"color: #800000; text-decoration-color: #800000\">│</span>   <span style=\"color: #7f7f7f; text-decoration-color: #7f7f7f\">1362 </span><span style=\"color: #7f7f7f; text-decoration-color: #7f7f7f\">│   │   │   │   </span><span style=\"color: #0000ff; text-decoration-color: #0000ff\">return</span> result                             <span style=\"color: #800000; text-decoration-color: #800000\">│</span> <span style=\"color: #7f7f7f; text-decoration-color: #7f7f7f\">                 </span>\n",
       "<span style=\"color: #7fbfbf; text-decoration-color: #7fbfbf\">                    </span>         <span style=\"color: #800000; text-decoration-color: #800000\">│</span>   <span style=\"color: #7f7f7f; text-decoration-color: #7f7f7f\">1363 </span><span style=\"color: #7f7f7f; text-decoration-color: #7f7f7f\">│   │   │   </span><span style=\"color: #0000ff; text-decoration-color: #0000ff\">else</span>:                                         <span style=\"color: #800000; text-decoration-color: #800000\">│</span> <span style=\"color: #7f7f7f; text-decoration-color: #7f7f7f\">                 </span>\n",
       "<span style=\"color: #7fbfbf; text-decoration-color: #7fbfbf\">                    </span>         <span style=\"color: #800000; text-decoration-color: #800000\">│</span>                                                                  <span style=\"color: #800000; text-decoration-color: #800000\">│</span> <span style=\"color: #7f7f7f; text-decoration-color: #7f7f7f\">                 </span>\n",
       "<span style=\"color: #7fbfbf; text-decoration-color: #7fbfbf\">                    </span>         <span style=\"color: #800000; text-decoration-color: #800000\">│</span> <span style=\"color: #808000; text-decoration-color: #808000\">c:\\Users\\Admin\\miniconda3\\envs\\MlOps\\lib\\site-packages\\mlflow\\ut</span> <span style=\"color: #800000; text-decoration-color: #800000\">│</span> <span style=\"color: #7f7f7f; text-decoration-color: #7f7f7f\">                 </span>\n",
       "<span style=\"color: #7fbfbf; text-decoration-color: #7fbfbf\">                    </span>         <span style=\"color: #800000; text-decoration-color: #800000\">│</span> <span style=\"color: #808000; text-decoration-color: #808000\">ils\\file_utils.py</span>:<span style=\"color: #0000ff; text-decoration-color: #0000ff\">309</span> in <span style=\"color: #00ff00; text-decoration-color: #00ff00\">read_yaml</span>                               <span style=\"color: #800000; text-decoration-color: #800000\">│</span> <span style=\"color: #7f7f7f; text-decoration-color: #7f7f7f\">                 </span>\n",
       "<span style=\"color: #7fbfbf; text-decoration-color: #7fbfbf\">                    </span>         <span style=\"color: #800000; text-decoration-color: #800000\">│</span>                                                                  <span style=\"color: #800000; text-decoration-color: #800000\">│</span> <span style=\"color: #7f7f7f; text-decoration-color: #7f7f7f\">                 </span>\n",
       "<span style=\"color: #7fbfbf; text-decoration-color: #7fbfbf\">                    </span>         <span style=\"color: #800000; text-decoration-color: #800000\">│</span>   <span style=\"color: #7f7f7f; text-decoration-color: #7f7f7f\"> 306 </span><span style=\"color: #7f7f7f; text-decoration-color: #7f7f7f\">│   </span>                                                      <span style=\"color: #800000; text-decoration-color: #800000\">│</span> <span style=\"color: #7f7f7f; text-decoration-color: #7f7f7f\">                 </span>\n",
       "<span style=\"color: #7fbfbf; text-decoration-color: #7fbfbf\">                    </span>         <span style=\"color: #800000; text-decoration-color: #800000\">│</span>   <span style=\"color: #7f7f7f; text-decoration-color: #7f7f7f\"> 307 </span><span style=\"color: #7f7f7f; text-decoration-color: #7f7f7f\">│   </span>file_path = os.path.join(root, file_name)             <span style=\"color: #800000; text-decoration-color: #800000\">│</span> <span style=\"color: #7f7f7f; text-decoration-color: #7f7f7f\">                 </span>\n",
       "<span style=\"color: #7fbfbf; text-decoration-color: #7fbfbf\">                    </span>         <span style=\"color: #800000; text-decoration-color: #800000\">│</span>   <span style=\"color: #7f7f7f; text-decoration-color: #7f7f7f\"> 308 </span><span style=\"color: #7f7f7f; text-decoration-color: #7f7f7f\">│   </span><span style=\"color: #0000ff; text-decoration-color: #0000ff\">if</span> <span style=\"color: #ff00ff; text-decoration-color: #ff00ff\">not</span> exists(file_path):                             <span style=\"color: #800000; text-decoration-color: #800000\">│</span> <span style=\"color: #7f7f7f; text-decoration-color: #7f7f7f\">                 </span>\n",
       "<span style=\"color: #7fbfbf; text-decoration-color: #7fbfbf\">                    </span>         <span style=\"color: #800000; text-decoration-color: #800000\">│</span> <span style=\"color: #800000; text-decoration-color: #800000\">❱ </span> 309 <span style=\"color: #7f7f7f; text-decoration-color: #7f7f7f\">│   │   </span><span style=\"color: #0000ff; text-decoration-color: #0000ff\">raise</span> MissingConfigException(<span style=\"color: #808000; text-decoration-color: #808000\">f\"Yaml file '{</span>file_p <span style=\"color: #800000; text-decoration-color: #800000\">│</span> <span style=\"color: #7f7f7f; text-decoration-color: #7f7f7f\">                 </span>\n",
       "<span style=\"color: #7fbfbf; text-decoration-color: #7fbfbf\">                    </span>         <span style=\"color: #800000; text-decoration-color: #800000\">│</span>   <span style=\"color: #7f7f7f; text-decoration-color: #7f7f7f\"> 310 </span><span style=\"color: #7f7f7f; text-decoration-color: #7f7f7f\">│   </span><span style=\"color: #0000ff; text-decoration-color: #0000ff\">with</span> codecs.open(file_path, mode=<span style=\"color: #808000; text-decoration-color: #808000\">\"r\"</span>, encoding=ENCODI <span style=\"color: #800000; text-decoration-color: #800000\">│</span> <span style=\"color: #7f7f7f; text-decoration-color: #7f7f7f\">                 </span>\n",
       "<span style=\"color: #7fbfbf; text-decoration-color: #7fbfbf\">                    </span>         <span style=\"color: #800000; text-decoration-color: #800000\">│</span>   <span style=\"color: #7f7f7f; text-decoration-color: #7f7f7f\"> 311 </span><span style=\"color: #7f7f7f; text-decoration-color: #7f7f7f\">│   │   </span><span style=\"color: #0000ff; text-decoration-color: #0000ff\">return</span> yaml.load(yaml_file, Loader=YamlSafeLoader <span style=\"color: #800000; text-decoration-color: #800000\">│</span> <span style=\"color: #7f7f7f; text-decoration-color: #7f7f7f\">                 </span>\n",
       "<span style=\"color: #7fbfbf; text-decoration-color: #7fbfbf\">                    </span>         <span style=\"color: #800000; text-decoration-color: #800000\">│</span>   <span style=\"color: #7f7f7f; text-decoration-color: #7f7f7f\"> 312 </span>                                                          <span style=\"color: #800000; text-decoration-color: #800000\">│</span> <span style=\"color: #7f7f7f; text-decoration-color: #7f7f7f\">                 </span>\n",
       "<span style=\"color: #7fbfbf; text-decoration-color: #7fbfbf\">                    </span>         <span style=\"color: #800000; text-decoration-color: #800000\">╰──────────────────────────────────────────────────────────────────╯</span> <span style=\"color: #7f7f7f; text-decoration-color: #7f7f7f\">                 </span>\n",
       "<span style=\"color: #7fbfbf; text-decoration-color: #7fbfbf\">                    </span>         <span style=\"color: #ff0000; text-decoration-color: #ff0000; font-weight: bold\">MissingConfigException: </span>Yaml file                                    <span style=\"color: #7f7f7f; text-decoration-color: #7f7f7f\">                 </span>\n",
       "<span style=\"color: #7fbfbf; text-decoration-color: #7fbfbf\">                    </span>         <span style=\"color: #008000; text-decoration-color: #008000\">'C:\\Users\\Admin\\Desktop\\onco-derm-ai\\mlruns\\312469223918544298\\meta.</span> <span style=\"color: #7f7f7f; text-decoration-color: #7f7f7f\">                 </span>\n",
       "<span style=\"color: #7fbfbf; text-decoration-color: #7fbfbf\">                    </span>         <span style=\"color: #008000; text-decoration-color: #008000\">yaml'</span> does not exist.                                                <span style=\"color: #7f7f7f; text-decoration-color: #7f7f7f\">                 </span>\n",
       "</pre>\n"
      ],
      "text/plain": [
       "\u001b[2;36m                   \u001b[0m\u001b[2;36m \u001b[0m\u001b[33mWARNING \u001b[0m Malformed experiment \u001b[32m'312469223918544298'\u001b[0m. Detailed error Yaml file  \u001b]8;id=124617;file://c:\\Users\\Admin\\miniconda3\\envs\\MlOps\\lib\\site-packages\\mlflow\\store\\tracking\\file_store.py\u001b\\\u001b[2mfile_store.py\u001b[0m\u001b]8;;\u001b\\\u001b[2m:\u001b[0m\u001b]8;id=807311;file://c:\\Users\\Admin\\miniconda3\\envs\\MlOps\\lib\\site-packages\\mlflow\\store\\tracking\\file_store.py#331\u001b\\\u001b[2m331\u001b[0m\u001b]8;;\u001b\\\n",
       "\u001b[2;36m                    \u001b[0m         \u001b[32m'C:\\Users\\Admin\\Desktop\\onco-derm-ai\\mlruns\\312469223918544298\\meta.\u001b[0m \u001b[2m                 \u001b[0m\n",
       "\u001b[2;36m                    \u001b[0m         \u001b[32myaml'\u001b[0m does not exist.                                                \u001b[2m                 \u001b[0m\n",
       "\u001b[2;36m                    \u001b[0m         \u001b[31m╭─\u001b[0m\u001b[31m──────────────\u001b[0m\u001b[31m \u001b[0m\u001b[1;31mTraceback \u001b[0m\u001b[1;2;31m(most recent call last)\u001b[0m\u001b[31m \u001b[0m\u001b[31m───────────────\u001b[0m\u001b[31m─╮\u001b[0m \u001b[2m                 \u001b[0m\n",
       "\u001b[2;36m                    \u001b[0m         \u001b[31m│\u001b[0m \u001b[33mc:\\Users\\Admin\\miniconda3\\envs\\MlOps\\lib\\site-packages\\mlflow\\st\u001b[0m \u001b[31m│\u001b[0m \u001b[2m                 \u001b[0m\n",
       "\u001b[2;36m                    \u001b[0m         \u001b[31m│\u001b[0m \u001b[33more\\tracking\\file_store.py\u001b[0m:\u001b[94m327\u001b[0m in \u001b[92msearch_experiments\u001b[0m             \u001b[31m│\u001b[0m \u001b[2m                 \u001b[0m\n",
       "\u001b[2;36m                    \u001b[0m         \u001b[31m│\u001b[0m                                                                  \u001b[31m│\u001b[0m \u001b[2m                 \u001b[0m\n",
       "\u001b[2;36m                    \u001b[0m         \u001b[31m│\u001b[0m   \u001b[2m 324 \u001b[0m\u001b[2m│   │   \u001b[0m\u001b[94mfor\u001b[0m exp_id \u001b[95min\u001b[0m experiment_ids:                     \u001b[31m│\u001b[0m \u001b[2m                 \u001b[0m\n",
       "\u001b[2;36m                    \u001b[0m         \u001b[31m│\u001b[0m   \u001b[2m 325 \u001b[0m\u001b[2m│   │   │   \u001b[0m\u001b[94mtry\u001b[0m:                                          \u001b[31m│\u001b[0m \u001b[2m                 \u001b[0m\n",
       "\u001b[2;36m                    \u001b[0m         \u001b[31m│\u001b[0m   \u001b[2m 326 \u001b[0m\u001b[2m│   │   │   │   \u001b[0m\u001b[2m# trap and warn known issues, will raise \u001b[0m \u001b[31m│\u001b[0m \u001b[2m                 \u001b[0m\n",
       "\u001b[2;36m                    \u001b[0m         \u001b[31m│\u001b[0m \u001b[31m❱ \u001b[0m 327 \u001b[2m│   │   │   │   \u001b[0mexp = \u001b[96mself\u001b[0m._get_experiment(exp_id, view_t \u001b[31m│\u001b[0m \u001b[2m                 \u001b[0m\n",
       "\u001b[2;36m                    \u001b[0m         \u001b[31m│\u001b[0m   \u001b[2m 328 \u001b[0m\u001b[2m│   │   │   │   \u001b[0m\u001b[94mif\u001b[0m exp \u001b[95mis\u001b[0m \u001b[95mnot\u001b[0m \u001b[94mNone\u001b[0m:                       \u001b[31m│\u001b[0m \u001b[2m                 \u001b[0m\n",
       "\u001b[2;36m                    \u001b[0m         \u001b[31m│\u001b[0m   \u001b[2m 329 \u001b[0m\u001b[2m│   │   │   │   │   \u001b[0mexperiments.append(exp)               \u001b[31m│\u001b[0m \u001b[2m                 \u001b[0m\n",
       "\u001b[2;36m                    \u001b[0m         \u001b[31m│\u001b[0m   \u001b[2m 330 \u001b[0m\u001b[2m│   │   │   \u001b[0m\u001b[94mexcept\u001b[0m MissingConfigException \u001b[94mas\u001b[0m e:           \u001b[31m│\u001b[0m \u001b[2m                 \u001b[0m\n",
       "\u001b[2;36m                    \u001b[0m         \u001b[31m│\u001b[0m                                                                  \u001b[31m│\u001b[0m \u001b[2m                 \u001b[0m\n",
       "\u001b[2;36m                    \u001b[0m         \u001b[31m│\u001b[0m \u001b[33mc:\\Users\\Admin\\miniconda3\\envs\\MlOps\\lib\\site-packages\\mlflow\\st\u001b[0m \u001b[31m│\u001b[0m \u001b[2m                 \u001b[0m\n",
       "\u001b[2;36m                    \u001b[0m         \u001b[31m│\u001b[0m \u001b[33more\\tracking\\file_store.py\u001b[0m:\u001b[94m421\u001b[0m in \u001b[92m_get_experiment\u001b[0m                \u001b[31m│\u001b[0m \u001b[2m                 \u001b[0m\n",
       "\u001b[2;36m                    \u001b[0m         \u001b[31m│\u001b[0m                                                                  \u001b[31m│\u001b[0m \u001b[2m                 \u001b[0m\n",
       "\u001b[2;36m                    \u001b[0m         \u001b[31m│\u001b[0m   \u001b[2m 418 \u001b[0m\u001b[2m│   │   │   │   \u001b[0m\u001b[33mf\u001b[0m\u001b[33m\"\u001b[0m\u001b[33mCould not find experiment with ID \u001b[0m\u001b[33m{\u001b[0mexpe \u001b[31m│\u001b[0m \u001b[2m                 \u001b[0m\n",
       "\u001b[2;36m                    \u001b[0m         \u001b[31m│\u001b[0m   \u001b[2m 419 \u001b[0m\u001b[2m│   │   │   │   \u001b[0mdatabricks_pb2.RESOURCE_DOES_NOT_EXIST,   \u001b[31m│\u001b[0m \u001b[2m                 \u001b[0m\n",
       "\u001b[2;36m                    \u001b[0m         \u001b[31m│\u001b[0m   \u001b[2m 420 \u001b[0m\u001b[2m│   │   │   \u001b[0m)                                             \u001b[31m│\u001b[0m \u001b[2m                 \u001b[0m\n",
       "\u001b[2;36m                    \u001b[0m         \u001b[31m│\u001b[0m \u001b[31m❱ \u001b[0m 421 \u001b[2m│   │   \u001b[0mmeta = FileStore._read_yaml(experiment_dir, FileS \u001b[31m│\u001b[0m \u001b[2m                 \u001b[0m\n",
       "\u001b[2;36m                    \u001b[0m         \u001b[31m│\u001b[0m   \u001b[2m 422 \u001b[0m\u001b[2m│   │   \u001b[0mmeta[\u001b[33m\"\u001b[0m\u001b[33mtags\u001b[0m\u001b[33m\"\u001b[0m] = \u001b[96mself\u001b[0m.get_all_experiment_tags(exper \u001b[31m│\u001b[0m \u001b[2m                 \u001b[0m\n",
       "\u001b[2;36m                    \u001b[0m         \u001b[31m│\u001b[0m   \u001b[2m 423 \u001b[0m\u001b[2m│   │   \u001b[0mexperiment = _read_persisted_experiment_dict(meta \u001b[31m│\u001b[0m \u001b[2m                 \u001b[0m\n",
       "\u001b[2;36m                    \u001b[0m         \u001b[31m│\u001b[0m   \u001b[2m 424 \u001b[0m\u001b[2m│   │   \u001b[0m\u001b[94mif\u001b[0m experiment_id != experiment.experiment_id:     \u001b[31m│\u001b[0m \u001b[2m                 \u001b[0m\n",
       "\u001b[2;36m                    \u001b[0m         \u001b[31m│\u001b[0m                                                                  \u001b[31m│\u001b[0m \u001b[2m                 \u001b[0m\n",
       "\u001b[2;36m                    \u001b[0m         \u001b[31m│\u001b[0m \u001b[33mc:\\Users\\Admin\\miniconda3\\envs\\MlOps\\lib\\site-packages\\mlflow\\st\u001b[0m \u001b[31m│\u001b[0m \u001b[2m                 \u001b[0m\n",
       "\u001b[2;36m                    \u001b[0m         \u001b[31m│\u001b[0m \u001b[33more\\tracking\\file_store.py\u001b[0m:\u001b[94m1367\u001b[0m in \u001b[92m_read_yaml\u001b[0m                    \u001b[31m│\u001b[0m \u001b[2m                 \u001b[0m\n",
       "\u001b[2;36m                    \u001b[0m         \u001b[31m│\u001b[0m                                                                  \u001b[31m│\u001b[0m \u001b[2m                 \u001b[0m\n",
       "\u001b[2;36m                    \u001b[0m         \u001b[31m│\u001b[0m   \u001b[2m1364 \u001b[0m\u001b[2m│   │   │   │   \u001b[0mtime.sleep(\u001b[94m0.1\u001b[0m * (\u001b[94m3\u001b[0m - attempts_remaining) \u001b[31m│\u001b[0m \u001b[2m                 \u001b[0m\n",
       "\u001b[2;36m                    \u001b[0m         \u001b[31m│\u001b[0m   \u001b[2m1365 \u001b[0m\u001b[2m│   │   │   │   \u001b[0m\u001b[94mreturn\u001b[0m _read_helper(root, file_name, atte \u001b[31m│\u001b[0m \u001b[2m                 \u001b[0m\n",
       "\u001b[2;36m                    \u001b[0m         \u001b[31m│\u001b[0m   \u001b[2m1366 \u001b[0m\u001b[2m│   │   \u001b[0m                                                  \u001b[31m│\u001b[0m \u001b[2m                 \u001b[0m\n",
       "\u001b[2;36m                    \u001b[0m         \u001b[31m│\u001b[0m \u001b[31m❱ \u001b[0m1367 \u001b[2m│   │   \u001b[0m\u001b[94mreturn\u001b[0m _read_helper(root, file_name, attempts_rem \u001b[31m│\u001b[0m \u001b[2m                 \u001b[0m\n",
       "\u001b[2;36m                    \u001b[0m         \u001b[31m│\u001b[0m   \u001b[2m1368 \u001b[0m\u001b[2m│   \u001b[0m                                                      \u001b[31m│\u001b[0m \u001b[2m                 \u001b[0m\n",
       "\u001b[2;36m                    \u001b[0m         \u001b[31m│\u001b[0m   \u001b[2m1369 \u001b[0m\u001b[2m│   \u001b[0m\u001b[94mdef\u001b[0m \u001b[92m_get_traces_artifact_dir\u001b[0m(\u001b[96mself\u001b[0m, experiment_id, req \u001b[31m│\u001b[0m \u001b[2m                 \u001b[0m\n",
       "\u001b[2;36m                    \u001b[0m         \u001b[31m│\u001b[0m   \u001b[2m1370 \u001b[0m\u001b[2m│   │   \u001b[0m\u001b[94mreturn\u001b[0m append_to_uri_path(                        \u001b[31m│\u001b[0m \u001b[2m                 \u001b[0m\n",
       "\u001b[2;36m                    \u001b[0m         \u001b[31m│\u001b[0m                                                                  \u001b[31m│\u001b[0m \u001b[2m                 \u001b[0m\n",
       "\u001b[2;36m                    \u001b[0m         \u001b[31m│\u001b[0m \u001b[33mc:\\Users\\Admin\\miniconda3\\envs\\MlOps\\lib\\site-packages\\mlflow\\st\u001b[0m \u001b[31m│\u001b[0m \u001b[2m                 \u001b[0m\n",
       "\u001b[2;36m                    \u001b[0m         \u001b[31m│\u001b[0m \u001b[33more\\tracking\\file_store.py\u001b[0m:\u001b[94m1360\u001b[0m in \u001b[92m_read_helper\u001b[0m                  \u001b[31m│\u001b[0m \u001b[2m                 \u001b[0m\n",
       "\u001b[2;36m                    \u001b[0m         \u001b[31m│\u001b[0m                                                                  \u001b[31m│\u001b[0m \u001b[2m                 \u001b[0m\n",
       "\u001b[2;36m                    \u001b[0m         \u001b[31m│\u001b[0m   \u001b[2m1357 \u001b[0m\u001b[2;33m│   │   \u001b[0m\u001b[33m\"\"\"\u001b[0m                                               \u001b[31m│\u001b[0m \u001b[2m                 \u001b[0m\n",
       "\u001b[2;36m                    \u001b[0m         \u001b[31m│\u001b[0m   \u001b[2m1358 \u001b[0m\u001b[2m│   │   \u001b[0m                                                  \u001b[31m│\u001b[0m \u001b[2m                 \u001b[0m\n",
       "\u001b[2;36m                    \u001b[0m         \u001b[31m│\u001b[0m   \u001b[2m1359 \u001b[0m\u001b[2m│   │   \u001b[0m\u001b[94mdef\u001b[0m \u001b[92m_read_helper\u001b[0m(root, file_name, attempts_remain \u001b[31m│\u001b[0m \u001b[2m                 \u001b[0m\n",
       "\u001b[2;36m                    \u001b[0m         \u001b[31m│\u001b[0m \u001b[31m❱ \u001b[0m1360 \u001b[2m│   │   │   \u001b[0mresult = read_yaml(root, file_name)           \u001b[31m│\u001b[0m \u001b[2m                 \u001b[0m\n",
       "\u001b[2;36m                    \u001b[0m         \u001b[31m│\u001b[0m   \u001b[2m1361 \u001b[0m\u001b[2m│   │   │   \u001b[0m\u001b[94mif\u001b[0m result \u001b[95mis\u001b[0m \u001b[95mnot\u001b[0m \u001b[94mNone\u001b[0m \u001b[95mor\u001b[0m attempts_remaining = \u001b[31m│\u001b[0m \u001b[2m                 \u001b[0m\n",
       "\u001b[2;36m                    \u001b[0m         \u001b[31m│\u001b[0m   \u001b[2m1362 \u001b[0m\u001b[2m│   │   │   │   \u001b[0m\u001b[94mreturn\u001b[0m result                             \u001b[31m│\u001b[0m \u001b[2m                 \u001b[0m\n",
       "\u001b[2;36m                    \u001b[0m         \u001b[31m│\u001b[0m   \u001b[2m1363 \u001b[0m\u001b[2m│   │   │   \u001b[0m\u001b[94melse\u001b[0m:                                         \u001b[31m│\u001b[0m \u001b[2m                 \u001b[0m\n",
       "\u001b[2;36m                    \u001b[0m         \u001b[31m│\u001b[0m                                                                  \u001b[31m│\u001b[0m \u001b[2m                 \u001b[0m\n",
       "\u001b[2;36m                    \u001b[0m         \u001b[31m│\u001b[0m \u001b[33mc:\\Users\\Admin\\miniconda3\\envs\\MlOps\\lib\\site-packages\\mlflow\\ut\u001b[0m \u001b[31m│\u001b[0m \u001b[2m                 \u001b[0m\n",
       "\u001b[2;36m                    \u001b[0m         \u001b[31m│\u001b[0m \u001b[33mils\\file_utils.py\u001b[0m:\u001b[94m309\u001b[0m in \u001b[92mread_yaml\u001b[0m                               \u001b[31m│\u001b[0m \u001b[2m                 \u001b[0m\n",
       "\u001b[2;36m                    \u001b[0m         \u001b[31m│\u001b[0m                                                                  \u001b[31m│\u001b[0m \u001b[2m                 \u001b[0m\n",
       "\u001b[2;36m                    \u001b[0m         \u001b[31m│\u001b[0m   \u001b[2m 306 \u001b[0m\u001b[2m│   \u001b[0m                                                      \u001b[31m│\u001b[0m \u001b[2m                 \u001b[0m\n",
       "\u001b[2;36m                    \u001b[0m         \u001b[31m│\u001b[0m   \u001b[2m 307 \u001b[0m\u001b[2m│   \u001b[0mfile_path = os.path.join(root, file_name)             \u001b[31m│\u001b[0m \u001b[2m                 \u001b[0m\n",
       "\u001b[2;36m                    \u001b[0m         \u001b[31m│\u001b[0m   \u001b[2m 308 \u001b[0m\u001b[2m│   \u001b[0m\u001b[94mif\u001b[0m \u001b[95mnot\u001b[0m exists(file_path):                             \u001b[31m│\u001b[0m \u001b[2m                 \u001b[0m\n",
       "\u001b[2;36m                    \u001b[0m         \u001b[31m│\u001b[0m \u001b[31m❱ \u001b[0m 309 \u001b[2m│   │   \u001b[0m\u001b[94mraise\u001b[0m MissingConfigException(\u001b[33mf\u001b[0m\u001b[33m\"\u001b[0m\u001b[33mYaml file \u001b[0m\u001b[33m'\u001b[0m\u001b[33m{\u001b[0mfile_p \u001b[31m│\u001b[0m \u001b[2m                 \u001b[0m\n",
       "\u001b[2;36m                    \u001b[0m         \u001b[31m│\u001b[0m   \u001b[2m 310 \u001b[0m\u001b[2m│   \u001b[0m\u001b[94mwith\u001b[0m codecs.open(file_path, mode=\u001b[33m\"\u001b[0m\u001b[33mr\u001b[0m\u001b[33m\"\u001b[0m, encoding=ENCODI \u001b[31m│\u001b[0m \u001b[2m                 \u001b[0m\n",
       "\u001b[2;36m                    \u001b[0m         \u001b[31m│\u001b[0m   \u001b[2m 311 \u001b[0m\u001b[2m│   │   \u001b[0m\u001b[94mreturn\u001b[0m yaml.load(yaml_file, Loader=YamlSafeLoader \u001b[31m│\u001b[0m \u001b[2m                 \u001b[0m\n",
       "\u001b[2;36m                    \u001b[0m         \u001b[31m│\u001b[0m   \u001b[2m 312 \u001b[0m                                                          \u001b[31m│\u001b[0m \u001b[2m                 \u001b[0m\n",
       "\u001b[2;36m                    \u001b[0m         \u001b[31m╰──────────────────────────────────────────────────────────────────╯\u001b[0m \u001b[2m                 \u001b[0m\n",
       "\u001b[2;36m                    \u001b[0m         \u001b[1;91mMissingConfigException: \u001b[0mYaml file                                    \u001b[2m                 \u001b[0m\n",
       "\u001b[2;36m                    \u001b[0m         \u001b[32m'C:\\Users\\Admin\\Desktop\\onco-derm-ai\\mlruns\\312469223918544298\\meta.\u001b[0m \u001b[2m                 \u001b[0m\n",
       "\u001b[2;36m                    \u001b[0m         \u001b[32myaml'\u001b[0m does not exist.                                                \u001b[2m                 \u001b[0m\n"
      ]
     },
     "metadata": {},
     "output_type": "display_data"
    },
    {
     "data": {
      "text/html": [
       "<pre style=\"white-space:pre;overflow-x:auto;line-height:normal;font-family:Menlo,'DejaVu Sans Mono',consolas,'Courier New',monospace\"><span style=\"color: #7fbfbf; text-decoration-color: #7fbfbf\">                    </span><span style=\"color: #808000; text-decoration-color: #808000\">WARNING </span> Malformed experiment <span style=\"color: #008000; text-decoration-color: #008000\">'312469223918544298'</span>. Detailed error Yaml file  <a href=\"file://c:\\Users\\Admin\\miniconda3\\envs\\MlOps\\lib\\site-packages\\mlflow\\store\\tracking\\file_store.py\" target=\"_blank\"><span style=\"color: #7f7f7f; text-decoration-color: #7f7f7f\">file_store.py</span></a><span style=\"color: #7f7f7f; text-decoration-color: #7f7f7f\">:</span><a href=\"file://c:\\Users\\Admin\\miniconda3\\envs\\MlOps\\lib\\site-packages\\mlflow\\store\\tracking\\file_store.py#331\" target=\"_blank\"><span style=\"color: #7f7f7f; text-decoration-color: #7f7f7f\">331</span></a>\n",
       "<span style=\"color: #7fbfbf; text-decoration-color: #7fbfbf\">                    </span>         <span style=\"color: #008000; text-decoration-color: #008000\">'C:\\Users\\Admin\\Desktop\\onco-derm-ai\\mlruns\\312469223918544298\\meta.</span> <span style=\"color: #7f7f7f; text-decoration-color: #7f7f7f\">                 </span>\n",
       "<span style=\"color: #7fbfbf; text-decoration-color: #7fbfbf\">                    </span>         <span style=\"color: #008000; text-decoration-color: #008000\">yaml'</span> does not exist.                                                <span style=\"color: #7f7f7f; text-decoration-color: #7f7f7f\">                 </span>\n",
       "<span style=\"color: #7fbfbf; text-decoration-color: #7fbfbf\">                    </span>         <span style=\"color: #800000; text-decoration-color: #800000\">╭─────────────── </span><span style=\"color: #800000; text-decoration-color: #800000; font-weight: bold\">Traceback </span><span style=\"color: #bf7f7f; text-decoration-color: #bf7f7f; font-weight: bold\">(most recent call last)</span><span style=\"color: #800000; text-decoration-color: #800000\"> ────────────────╮</span> <span style=\"color: #7f7f7f; text-decoration-color: #7f7f7f\">                 </span>\n",
       "<span style=\"color: #7fbfbf; text-decoration-color: #7fbfbf\">                    </span>         <span style=\"color: #800000; text-decoration-color: #800000\">│</span> <span style=\"color: #808000; text-decoration-color: #808000\">c:\\Users\\Admin\\miniconda3\\envs\\MlOps\\lib\\site-packages\\mlflow\\st</span> <span style=\"color: #800000; text-decoration-color: #800000\">│</span> <span style=\"color: #7f7f7f; text-decoration-color: #7f7f7f\">                 </span>\n",
       "<span style=\"color: #7fbfbf; text-decoration-color: #7fbfbf\">                    </span>         <span style=\"color: #800000; text-decoration-color: #800000\">│</span> <span style=\"color: #808000; text-decoration-color: #808000\">ore\\tracking\\file_store.py</span>:<span style=\"color: #0000ff; text-decoration-color: #0000ff\">327</span> in <span style=\"color: #00ff00; text-decoration-color: #00ff00\">search_experiments</span>             <span style=\"color: #800000; text-decoration-color: #800000\">│</span> <span style=\"color: #7f7f7f; text-decoration-color: #7f7f7f\">                 </span>\n",
       "<span style=\"color: #7fbfbf; text-decoration-color: #7fbfbf\">                    </span>         <span style=\"color: #800000; text-decoration-color: #800000\">│</span>                                                                  <span style=\"color: #800000; text-decoration-color: #800000\">│</span> <span style=\"color: #7f7f7f; text-decoration-color: #7f7f7f\">                 </span>\n",
       "<span style=\"color: #7fbfbf; text-decoration-color: #7fbfbf\">                    </span>         <span style=\"color: #800000; text-decoration-color: #800000\">│</span>   <span style=\"color: #7f7f7f; text-decoration-color: #7f7f7f\"> 324 </span><span style=\"color: #7f7f7f; text-decoration-color: #7f7f7f\">│   │   </span><span style=\"color: #0000ff; text-decoration-color: #0000ff\">for</span> exp_id <span style=\"color: #ff00ff; text-decoration-color: #ff00ff\">in</span> experiment_ids:                     <span style=\"color: #800000; text-decoration-color: #800000\">│</span> <span style=\"color: #7f7f7f; text-decoration-color: #7f7f7f\">                 </span>\n",
       "<span style=\"color: #7fbfbf; text-decoration-color: #7fbfbf\">                    </span>         <span style=\"color: #800000; text-decoration-color: #800000\">│</span>   <span style=\"color: #7f7f7f; text-decoration-color: #7f7f7f\"> 325 </span><span style=\"color: #7f7f7f; text-decoration-color: #7f7f7f\">│   │   │   </span><span style=\"color: #0000ff; text-decoration-color: #0000ff\">try</span>:                                          <span style=\"color: #800000; text-decoration-color: #800000\">│</span> <span style=\"color: #7f7f7f; text-decoration-color: #7f7f7f\">                 </span>\n",
       "<span style=\"color: #7fbfbf; text-decoration-color: #7fbfbf\">                    </span>         <span style=\"color: #800000; text-decoration-color: #800000\">│</span>   <span style=\"color: #7f7f7f; text-decoration-color: #7f7f7f\"> 326 </span><span style=\"color: #7f7f7f; text-decoration-color: #7f7f7f\">│   │   │   │   </span><span style=\"color: #7f7f7f; text-decoration-color: #7f7f7f\"># trap and warn known issues, will raise </span> <span style=\"color: #800000; text-decoration-color: #800000\">│</span> <span style=\"color: #7f7f7f; text-decoration-color: #7f7f7f\">                 </span>\n",
       "<span style=\"color: #7fbfbf; text-decoration-color: #7fbfbf\">                    </span>         <span style=\"color: #800000; text-decoration-color: #800000\">│</span> <span style=\"color: #800000; text-decoration-color: #800000\">❱ </span> 327 <span style=\"color: #7f7f7f; text-decoration-color: #7f7f7f\">│   │   │   │   </span>exp = <span style=\"color: #00ffff; text-decoration-color: #00ffff\">self</span>._get_experiment(exp_id, view_t <span style=\"color: #800000; text-decoration-color: #800000\">│</span> <span style=\"color: #7f7f7f; text-decoration-color: #7f7f7f\">                 </span>\n",
       "<span style=\"color: #7fbfbf; text-decoration-color: #7fbfbf\">                    </span>         <span style=\"color: #800000; text-decoration-color: #800000\">│</span>   <span style=\"color: #7f7f7f; text-decoration-color: #7f7f7f\"> 328 </span><span style=\"color: #7f7f7f; text-decoration-color: #7f7f7f\">│   │   │   │   </span><span style=\"color: #0000ff; text-decoration-color: #0000ff\">if</span> exp <span style=\"color: #ff00ff; text-decoration-color: #ff00ff\">is</span> <span style=\"color: #ff00ff; text-decoration-color: #ff00ff\">not</span> <span style=\"color: #0000ff; text-decoration-color: #0000ff\">None</span>:                       <span style=\"color: #800000; text-decoration-color: #800000\">│</span> <span style=\"color: #7f7f7f; text-decoration-color: #7f7f7f\">                 </span>\n",
       "<span style=\"color: #7fbfbf; text-decoration-color: #7fbfbf\">                    </span>         <span style=\"color: #800000; text-decoration-color: #800000\">│</span>   <span style=\"color: #7f7f7f; text-decoration-color: #7f7f7f\"> 329 </span><span style=\"color: #7f7f7f; text-decoration-color: #7f7f7f\">│   │   │   │   │   </span>experiments.append(exp)               <span style=\"color: #800000; text-decoration-color: #800000\">│</span> <span style=\"color: #7f7f7f; text-decoration-color: #7f7f7f\">                 </span>\n",
       "<span style=\"color: #7fbfbf; text-decoration-color: #7fbfbf\">                    </span>         <span style=\"color: #800000; text-decoration-color: #800000\">│</span>   <span style=\"color: #7f7f7f; text-decoration-color: #7f7f7f\"> 330 </span><span style=\"color: #7f7f7f; text-decoration-color: #7f7f7f\">│   │   │   </span><span style=\"color: #0000ff; text-decoration-color: #0000ff\">except</span> MissingConfigException <span style=\"color: #0000ff; text-decoration-color: #0000ff\">as</span> e:           <span style=\"color: #800000; text-decoration-color: #800000\">│</span> <span style=\"color: #7f7f7f; text-decoration-color: #7f7f7f\">                 </span>\n",
       "<span style=\"color: #7fbfbf; text-decoration-color: #7fbfbf\">                    </span>         <span style=\"color: #800000; text-decoration-color: #800000\">│</span>                                                                  <span style=\"color: #800000; text-decoration-color: #800000\">│</span> <span style=\"color: #7f7f7f; text-decoration-color: #7f7f7f\">                 </span>\n",
       "<span style=\"color: #7fbfbf; text-decoration-color: #7fbfbf\">                    </span>         <span style=\"color: #800000; text-decoration-color: #800000\">│</span> <span style=\"color: #808000; text-decoration-color: #808000\">c:\\Users\\Admin\\miniconda3\\envs\\MlOps\\lib\\site-packages\\mlflow\\st</span> <span style=\"color: #800000; text-decoration-color: #800000\">│</span> <span style=\"color: #7f7f7f; text-decoration-color: #7f7f7f\">                 </span>\n",
       "<span style=\"color: #7fbfbf; text-decoration-color: #7fbfbf\">                    </span>         <span style=\"color: #800000; text-decoration-color: #800000\">│</span> <span style=\"color: #808000; text-decoration-color: #808000\">ore\\tracking\\file_store.py</span>:<span style=\"color: #0000ff; text-decoration-color: #0000ff\">421</span> in <span style=\"color: #00ff00; text-decoration-color: #00ff00\">_get_experiment</span>                <span style=\"color: #800000; text-decoration-color: #800000\">│</span> <span style=\"color: #7f7f7f; text-decoration-color: #7f7f7f\">                 </span>\n",
       "<span style=\"color: #7fbfbf; text-decoration-color: #7fbfbf\">                    </span>         <span style=\"color: #800000; text-decoration-color: #800000\">│</span>                                                                  <span style=\"color: #800000; text-decoration-color: #800000\">│</span> <span style=\"color: #7f7f7f; text-decoration-color: #7f7f7f\">                 </span>\n",
       "<span style=\"color: #7fbfbf; text-decoration-color: #7fbfbf\">                    </span>         <span style=\"color: #800000; text-decoration-color: #800000\">│</span>   <span style=\"color: #7f7f7f; text-decoration-color: #7f7f7f\"> 418 </span><span style=\"color: #7f7f7f; text-decoration-color: #7f7f7f\">│   │   │   │   </span><span style=\"color: #808000; text-decoration-color: #808000\">f\"Could not find experiment with ID {</span>expe <span style=\"color: #800000; text-decoration-color: #800000\">│</span> <span style=\"color: #7f7f7f; text-decoration-color: #7f7f7f\">                 </span>\n",
       "<span style=\"color: #7fbfbf; text-decoration-color: #7fbfbf\">                    </span>         <span style=\"color: #800000; text-decoration-color: #800000\">│</span>   <span style=\"color: #7f7f7f; text-decoration-color: #7f7f7f\"> 419 </span><span style=\"color: #7f7f7f; text-decoration-color: #7f7f7f\">│   │   │   │   </span>databricks_pb2.RESOURCE_DOES_NOT_EXIST,   <span style=\"color: #800000; text-decoration-color: #800000\">│</span> <span style=\"color: #7f7f7f; text-decoration-color: #7f7f7f\">                 </span>\n",
       "<span style=\"color: #7fbfbf; text-decoration-color: #7fbfbf\">                    </span>         <span style=\"color: #800000; text-decoration-color: #800000\">│</span>   <span style=\"color: #7f7f7f; text-decoration-color: #7f7f7f\"> 420 </span><span style=\"color: #7f7f7f; text-decoration-color: #7f7f7f\">│   │   │   </span>)                                             <span style=\"color: #800000; text-decoration-color: #800000\">│</span> <span style=\"color: #7f7f7f; text-decoration-color: #7f7f7f\">                 </span>\n",
       "<span style=\"color: #7fbfbf; text-decoration-color: #7fbfbf\">                    </span>         <span style=\"color: #800000; text-decoration-color: #800000\">│</span> <span style=\"color: #800000; text-decoration-color: #800000\">❱ </span> 421 <span style=\"color: #7f7f7f; text-decoration-color: #7f7f7f\">│   │   </span>meta = FileStore._read_yaml(experiment_dir, FileS <span style=\"color: #800000; text-decoration-color: #800000\">│</span> <span style=\"color: #7f7f7f; text-decoration-color: #7f7f7f\">                 </span>\n",
       "<span style=\"color: #7fbfbf; text-decoration-color: #7fbfbf\">                    </span>         <span style=\"color: #800000; text-decoration-color: #800000\">│</span>   <span style=\"color: #7f7f7f; text-decoration-color: #7f7f7f\"> 422 </span><span style=\"color: #7f7f7f; text-decoration-color: #7f7f7f\">│   │   </span>meta[<span style=\"color: #808000; text-decoration-color: #808000\">\"tags\"</span>] = <span style=\"color: #00ffff; text-decoration-color: #00ffff\">self</span>.get_all_experiment_tags(exper <span style=\"color: #800000; text-decoration-color: #800000\">│</span> <span style=\"color: #7f7f7f; text-decoration-color: #7f7f7f\">                 </span>\n",
       "<span style=\"color: #7fbfbf; text-decoration-color: #7fbfbf\">                    </span>         <span style=\"color: #800000; text-decoration-color: #800000\">│</span>   <span style=\"color: #7f7f7f; text-decoration-color: #7f7f7f\"> 423 </span><span style=\"color: #7f7f7f; text-decoration-color: #7f7f7f\">│   │   </span>experiment = _read_persisted_experiment_dict(meta <span style=\"color: #800000; text-decoration-color: #800000\">│</span> <span style=\"color: #7f7f7f; text-decoration-color: #7f7f7f\">                 </span>\n",
       "<span style=\"color: #7fbfbf; text-decoration-color: #7fbfbf\">                    </span>         <span style=\"color: #800000; text-decoration-color: #800000\">│</span>   <span style=\"color: #7f7f7f; text-decoration-color: #7f7f7f\"> 424 </span><span style=\"color: #7f7f7f; text-decoration-color: #7f7f7f\">│   │   </span><span style=\"color: #0000ff; text-decoration-color: #0000ff\">if</span> experiment_id != experiment.experiment_id:     <span style=\"color: #800000; text-decoration-color: #800000\">│</span> <span style=\"color: #7f7f7f; text-decoration-color: #7f7f7f\">                 </span>\n",
       "<span style=\"color: #7fbfbf; text-decoration-color: #7fbfbf\">                    </span>         <span style=\"color: #800000; text-decoration-color: #800000\">│</span>                                                                  <span style=\"color: #800000; text-decoration-color: #800000\">│</span> <span style=\"color: #7f7f7f; text-decoration-color: #7f7f7f\">                 </span>\n",
       "<span style=\"color: #7fbfbf; text-decoration-color: #7fbfbf\">                    </span>         <span style=\"color: #800000; text-decoration-color: #800000\">│</span> <span style=\"color: #808000; text-decoration-color: #808000\">c:\\Users\\Admin\\miniconda3\\envs\\MlOps\\lib\\site-packages\\mlflow\\st</span> <span style=\"color: #800000; text-decoration-color: #800000\">│</span> <span style=\"color: #7f7f7f; text-decoration-color: #7f7f7f\">                 </span>\n",
       "<span style=\"color: #7fbfbf; text-decoration-color: #7fbfbf\">                    </span>         <span style=\"color: #800000; text-decoration-color: #800000\">│</span> <span style=\"color: #808000; text-decoration-color: #808000\">ore\\tracking\\file_store.py</span>:<span style=\"color: #0000ff; text-decoration-color: #0000ff\">1367</span> in <span style=\"color: #00ff00; text-decoration-color: #00ff00\">_read_yaml</span>                    <span style=\"color: #800000; text-decoration-color: #800000\">│</span> <span style=\"color: #7f7f7f; text-decoration-color: #7f7f7f\">                 </span>\n",
       "<span style=\"color: #7fbfbf; text-decoration-color: #7fbfbf\">                    </span>         <span style=\"color: #800000; text-decoration-color: #800000\">│</span>                                                                  <span style=\"color: #800000; text-decoration-color: #800000\">│</span> <span style=\"color: #7f7f7f; text-decoration-color: #7f7f7f\">                 </span>\n",
       "<span style=\"color: #7fbfbf; text-decoration-color: #7fbfbf\">                    </span>         <span style=\"color: #800000; text-decoration-color: #800000\">│</span>   <span style=\"color: #7f7f7f; text-decoration-color: #7f7f7f\">1364 </span><span style=\"color: #7f7f7f; text-decoration-color: #7f7f7f\">│   │   │   │   </span>time.sleep(<span style=\"color: #0000ff; text-decoration-color: #0000ff\">0.1</span> * (<span style=\"color: #0000ff; text-decoration-color: #0000ff\">3</span> - attempts_remaining) <span style=\"color: #800000; text-decoration-color: #800000\">│</span> <span style=\"color: #7f7f7f; text-decoration-color: #7f7f7f\">                 </span>\n",
       "<span style=\"color: #7fbfbf; text-decoration-color: #7fbfbf\">                    </span>         <span style=\"color: #800000; text-decoration-color: #800000\">│</span>   <span style=\"color: #7f7f7f; text-decoration-color: #7f7f7f\">1365 </span><span style=\"color: #7f7f7f; text-decoration-color: #7f7f7f\">│   │   │   │   </span><span style=\"color: #0000ff; text-decoration-color: #0000ff\">return</span> _read_helper(root, file_name, atte <span style=\"color: #800000; text-decoration-color: #800000\">│</span> <span style=\"color: #7f7f7f; text-decoration-color: #7f7f7f\">                 </span>\n",
       "<span style=\"color: #7fbfbf; text-decoration-color: #7fbfbf\">                    </span>         <span style=\"color: #800000; text-decoration-color: #800000\">│</span>   <span style=\"color: #7f7f7f; text-decoration-color: #7f7f7f\">1366 </span><span style=\"color: #7f7f7f; text-decoration-color: #7f7f7f\">│   │   </span>                                                  <span style=\"color: #800000; text-decoration-color: #800000\">│</span> <span style=\"color: #7f7f7f; text-decoration-color: #7f7f7f\">                 </span>\n",
       "<span style=\"color: #7fbfbf; text-decoration-color: #7fbfbf\">                    </span>         <span style=\"color: #800000; text-decoration-color: #800000\">│</span> <span style=\"color: #800000; text-decoration-color: #800000\">❱ </span>1367 <span style=\"color: #7f7f7f; text-decoration-color: #7f7f7f\">│   │   </span><span style=\"color: #0000ff; text-decoration-color: #0000ff\">return</span> _read_helper(root, file_name, attempts_rem <span style=\"color: #800000; text-decoration-color: #800000\">│</span> <span style=\"color: #7f7f7f; text-decoration-color: #7f7f7f\">                 </span>\n",
       "<span style=\"color: #7fbfbf; text-decoration-color: #7fbfbf\">                    </span>         <span style=\"color: #800000; text-decoration-color: #800000\">│</span>   <span style=\"color: #7f7f7f; text-decoration-color: #7f7f7f\">1368 </span><span style=\"color: #7f7f7f; text-decoration-color: #7f7f7f\">│   </span>                                                      <span style=\"color: #800000; text-decoration-color: #800000\">│</span> <span style=\"color: #7f7f7f; text-decoration-color: #7f7f7f\">                 </span>\n",
       "<span style=\"color: #7fbfbf; text-decoration-color: #7fbfbf\">                    </span>         <span style=\"color: #800000; text-decoration-color: #800000\">│</span>   <span style=\"color: #7f7f7f; text-decoration-color: #7f7f7f\">1369 </span><span style=\"color: #7f7f7f; text-decoration-color: #7f7f7f\">│   </span><span style=\"color: #0000ff; text-decoration-color: #0000ff\">def</span> <span style=\"color: #00ff00; text-decoration-color: #00ff00\">_get_traces_artifact_dir</span>(<span style=\"color: #00ffff; text-decoration-color: #00ffff\">self</span>, experiment_id, req <span style=\"color: #800000; text-decoration-color: #800000\">│</span> <span style=\"color: #7f7f7f; text-decoration-color: #7f7f7f\">                 </span>\n",
       "<span style=\"color: #7fbfbf; text-decoration-color: #7fbfbf\">                    </span>         <span style=\"color: #800000; text-decoration-color: #800000\">│</span>   <span style=\"color: #7f7f7f; text-decoration-color: #7f7f7f\">1370 </span><span style=\"color: #7f7f7f; text-decoration-color: #7f7f7f\">│   │   </span><span style=\"color: #0000ff; text-decoration-color: #0000ff\">return</span> append_to_uri_path(                        <span style=\"color: #800000; text-decoration-color: #800000\">│</span> <span style=\"color: #7f7f7f; text-decoration-color: #7f7f7f\">                 </span>\n",
       "<span style=\"color: #7fbfbf; text-decoration-color: #7fbfbf\">                    </span>         <span style=\"color: #800000; text-decoration-color: #800000\">│</span>                                                                  <span style=\"color: #800000; text-decoration-color: #800000\">│</span> <span style=\"color: #7f7f7f; text-decoration-color: #7f7f7f\">                 </span>\n",
       "<span style=\"color: #7fbfbf; text-decoration-color: #7fbfbf\">                    </span>         <span style=\"color: #800000; text-decoration-color: #800000\">│</span> <span style=\"color: #808000; text-decoration-color: #808000\">c:\\Users\\Admin\\miniconda3\\envs\\MlOps\\lib\\site-packages\\mlflow\\st</span> <span style=\"color: #800000; text-decoration-color: #800000\">│</span> <span style=\"color: #7f7f7f; text-decoration-color: #7f7f7f\">                 </span>\n",
       "<span style=\"color: #7fbfbf; text-decoration-color: #7fbfbf\">                    </span>         <span style=\"color: #800000; text-decoration-color: #800000\">│</span> <span style=\"color: #808000; text-decoration-color: #808000\">ore\\tracking\\file_store.py</span>:<span style=\"color: #0000ff; text-decoration-color: #0000ff\">1360</span> in <span style=\"color: #00ff00; text-decoration-color: #00ff00\">_read_helper</span>                  <span style=\"color: #800000; text-decoration-color: #800000\">│</span> <span style=\"color: #7f7f7f; text-decoration-color: #7f7f7f\">                 </span>\n",
       "<span style=\"color: #7fbfbf; text-decoration-color: #7fbfbf\">                    </span>         <span style=\"color: #800000; text-decoration-color: #800000\">│</span>                                                                  <span style=\"color: #800000; text-decoration-color: #800000\">│</span> <span style=\"color: #7f7f7f; text-decoration-color: #7f7f7f\">                 </span>\n",
       "<span style=\"color: #7fbfbf; text-decoration-color: #7fbfbf\">                    </span>         <span style=\"color: #800000; text-decoration-color: #800000\">│</span>   <span style=\"color: #7f7f7f; text-decoration-color: #7f7f7f\">1357 </span><span style=\"color: #bfbf7f; text-decoration-color: #bfbf7f\">│   │   </span><span style=\"color: #808000; text-decoration-color: #808000\">\"\"\"</span>                                               <span style=\"color: #800000; text-decoration-color: #800000\">│</span> <span style=\"color: #7f7f7f; text-decoration-color: #7f7f7f\">                 </span>\n",
       "<span style=\"color: #7fbfbf; text-decoration-color: #7fbfbf\">                    </span>         <span style=\"color: #800000; text-decoration-color: #800000\">│</span>   <span style=\"color: #7f7f7f; text-decoration-color: #7f7f7f\">1358 </span><span style=\"color: #7f7f7f; text-decoration-color: #7f7f7f\">│   │   </span>                                                  <span style=\"color: #800000; text-decoration-color: #800000\">│</span> <span style=\"color: #7f7f7f; text-decoration-color: #7f7f7f\">                 </span>\n",
       "<span style=\"color: #7fbfbf; text-decoration-color: #7fbfbf\">                    </span>         <span style=\"color: #800000; text-decoration-color: #800000\">│</span>   <span style=\"color: #7f7f7f; text-decoration-color: #7f7f7f\">1359 </span><span style=\"color: #7f7f7f; text-decoration-color: #7f7f7f\">│   │   </span><span style=\"color: #0000ff; text-decoration-color: #0000ff\">def</span> <span style=\"color: #00ff00; text-decoration-color: #00ff00\">_read_helper</span>(root, file_name, attempts_remain <span style=\"color: #800000; text-decoration-color: #800000\">│</span> <span style=\"color: #7f7f7f; text-decoration-color: #7f7f7f\">                 </span>\n",
       "<span style=\"color: #7fbfbf; text-decoration-color: #7fbfbf\">                    </span>         <span style=\"color: #800000; text-decoration-color: #800000\">│</span> <span style=\"color: #800000; text-decoration-color: #800000\">❱ </span>1360 <span style=\"color: #7f7f7f; text-decoration-color: #7f7f7f\">│   │   │   </span>result = read_yaml(root, file_name)           <span style=\"color: #800000; text-decoration-color: #800000\">│</span> <span style=\"color: #7f7f7f; text-decoration-color: #7f7f7f\">                 </span>\n",
       "<span style=\"color: #7fbfbf; text-decoration-color: #7fbfbf\">                    </span>         <span style=\"color: #800000; text-decoration-color: #800000\">│</span>   <span style=\"color: #7f7f7f; text-decoration-color: #7f7f7f\">1361 </span><span style=\"color: #7f7f7f; text-decoration-color: #7f7f7f\">│   │   │   </span><span style=\"color: #0000ff; text-decoration-color: #0000ff\">if</span> result <span style=\"color: #ff00ff; text-decoration-color: #ff00ff\">is</span> <span style=\"color: #ff00ff; text-decoration-color: #ff00ff\">not</span> <span style=\"color: #0000ff; text-decoration-color: #0000ff\">None</span> <span style=\"color: #ff00ff; text-decoration-color: #ff00ff\">or</span> attempts_remaining = <span style=\"color: #800000; text-decoration-color: #800000\">│</span> <span style=\"color: #7f7f7f; text-decoration-color: #7f7f7f\">                 </span>\n",
       "<span style=\"color: #7fbfbf; text-decoration-color: #7fbfbf\">                    </span>         <span style=\"color: #800000; text-decoration-color: #800000\">│</span>   <span style=\"color: #7f7f7f; text-decoration-color: #7f7f7f\">1362 </span><span style=\"color: #7f7f7f; text-decoration-color: #7f7f7f\">│   │   │   │   </span><span style=\"color: #0000ff; text-decoration-color: #0000ff\">return</span> result                             <span style=\"color: #800000; text-decoration-color: #800000\">│</span> <span style=\"color: #7f7f7f; text-decoration-color: #7f7f7f\">                 </span>\n",
       "<span style=\"color: #7fbfbf; text-decoration-color: #7fbfbf\">                    </span>         <span style=\"color: #800000; text-decoration-color: #800000\">│</span>   <span style=\"color: #7f7f7f; text-decoration-color: #7f7f7f\">1363 </span><span style=\"color: #7f7f7f; text-decoration-color: #7f7f7f\">│   │   │   </span><span style=\"color: #0000ff; text-decoration-color: #0000ff\">else</span>:                                         <span style=\"color: #800000; text-decoration-color: #800000\">│</span> <span style=\"color: #7f7f7f; text-decoration-color: #7f7f7f\">                 </span>\n",
       "<span style=\"color: #7fbfbf; text-decoration-color: #7fbfbf\">                    </span>         <span style=\"color: #800000; text-decoration-color: #800000\">│</span>                                                                  <span style=\"color: #800000; text-decoration-color: #800000\">│</span> <span style=\"color: #7f7f7f; text-decoration-color: #7f7f7f\">                 </span>\n",
       "<span style=\"color: #7fbfbf; text-decoration-color: #7fbfbf\">                    </span>         <span style=\"color: #800000; text-decoration-color: #800000\">│</span> <span style=\"color: #808000; text-decoration-color: #808000\">c:\\Users\\Admin\\miniconda3\\envs\\MlOps\\lib\\site-packages\\mlflow\\ut</span> <span style=\"color: #800000; text-decoration-color: #800000\">│</span> <span style=\"color: #7f7f7f; text-decoration-color: #7f7f7f\">                 </span>\n",
       "<span style=\"color: #7fbfbf; text-decoration-color: #7fbfbf\">                    </span>         <span style=\"color: #800000; text-decoration-color: #800000\">│</span> <span style=\"color: #808000; text-decoration-color: #808000\">ils\\file_utils.py</span>:<span style=\"color: #0000ff; text-decoration-color: #0000ff\">309</span> in <span style=\"color: #00ff00; text-decoration-color: #00ff00\">read_yaml</span>                               <span style=\"color: #800000; text-decoration-color: #800000\">│</span> <span style=\"color: #7f7f7f; text-decoration-color: #7f7f7f\">                 </span>\n",
       "<span style=\"color: #7fbfbf; text-decoration-color: #7fbfbf\">                    </span>         <span style=\"color: #800000; text-decoration-color: #800000\">│</span>                                                                  <span style=\"color: #800000; text-decoration-color: #800000\">│</span> <span style=\"color: #7f7f7f; text-decoration-color: #7f7f7f\">                 </span>\n",
       "<span style=\"color: #7fbfbf; text-decoration-color: #7fbfbf\">                    </span>         <span style=\"color: #800000; text-decoration-color: #800000\">│</span>   <span style=\"color: #7f7f7f; text-decoration-color: #7f7f7f\"> 306 </span><span style=\"color: #7f7f7f; text-decoration-color: #7f7f7f\">│   </span>                                                      <span style=\"color: #800000; text-decoration-color: #800000\">│</span> <span style=\"color: #7f7f7f; text-decoration-color: #7f7f7f\">                 </span>\n",
       "<span style=\"color: #7fbfbf; text-decoration-color: #7fbfbf\">                    </span>         <span style=\"color: #800000; text-decoration-color: #800000\">│</span>   <span style=\"color: #7f7f7f; text-decoration-color: #7f7f7f\"> 307 </span><span style=\"color: #7f7f7f; text-decoration-color: #7f7f7f\">│   </span>file_path = os.path.join(root, file_name)             <span style=\"color: #800000; text-decoration-color: #800000\">│</span> <span style=\"color: #7f7f7f; text-decoration-color: #7f7f7f\">                 </span>\n",
       "<span style=\"color: #7fbfbf; text-decoration-color: #7fbfbf\">                    </span>         <span style=\"color: #800000; text-decoration-color: #800000\">│</span>   <span style=\"color: #7f7f7f; text-decoration-color: #7f7f7f\"> 308 </span><span style=\"color: #7f7f7f; text-decoration-color: #7f7f7f\">│   </span><span style=\"color: #0000ff; text-decoration-color: #0000ff\">if</span> <span style=\"color: #ff00ff; text-decoration-color: #ff00ff\">not</span> exists(file_path):                             <span style=\"color: #800000; text-decoration-color: #800000\">│</span> <span style=\"color: #7f7f7f; text-decoration-color: #7f7f7f\">                 </span>\n",
       "<span style=\"color: #7fbfbf; text-decoration-color: #7fbfbf\">                    </span>         <span style=\"color: #800000; text-decoration-color: #800000\">│</span> <span style=\"color: #800000; text-decoration-color: #800000\">❱ </span> 309 <span style=\"color: #7f7f7f; text-decoration-color: #7f7f7f\">│   │   </span><span style=\"color: #0000ff; text-decoration-color: #0000ff\">raise</span> MissingConfigException(<span style=\"color: #808000; text-decoration-color: #808000\">f\"Yaml file '{</span>file_p <span style=\"color: #800000; text-decoration-color: #800000\">│</span> <span style=\"color: #7f7f7f; text-decoration-color: #7f7f7f\">                 </span>\n",
       "<span style=\"color: #7fbfbf; text-decoration-color: #7fbfbf\">                    </span>         <span style=\"color: #800000; text-decoration-color: #800000\">│</span>   <span style=\"color: #7f7f7f; text-decoration-color: #7f7f7f\"> 310 </span><span style=\"color: #7f7f7f; text-decoration-color: #7f7f7f\">│   </span><span style=\"color: #0000ff; text-decoration-color: #0000ff\">with</span> codecs.open(file_path, mode=<span style=\"color: #808000; text-decoration-color: #808000\">\"r\"</span>, encoding=ENCODI <span style=\"color: #800000; text-decoration-color: #800000\">│</span> <span style=\"color: #7f7f7f; text-decoration-color: #7f7f7f\">                 </span>\n",
       "<span style=\"color: #7fbfbf; text-decoration-color: #7fbfbf\">                    </span>         <span style=\"color: #800000; text-decoration-color: #800000\">│</span>   <span style=\"color: #7f7f7f; text-decoration-color: #7f7f7f\"> 311 </span><span style=\"color: #7f7f7f; text-decoration-color: #7f7f7f\">│   │   </span><span style=\"color: #0000ff; text-decoration-color: #0000ff\">return</span> yaml.load(yaml_file, Loader=YamlSafeLoader <span style=\"color: #800000; text-decoration-color: #800000\">│</span> <span style=\"color: #7f7f7f; text-decoration-color: #7f7f7f\">                 </span>\n",
       "<span style=\"color: #7fbfbf; text-decoration-color: #7fbfbf\">                    </span>         <span style=\"color: #800000; text-decoration-color: #800000\">│</span>   <span style=\"color: #7f7f7f; text-decoration-color: #7f7f7f\"> 312 </span>                                                          <span style=\"color: #800000; text-decoration-color: #800000\">│</span> <span style=\"color: #7f7f7f; text-decoration-color: #7f7f7f\">                 </span>\n",
       "<span style=\"color: #7fbfbf; text-decoration-color: #7fbfbf\">                    </span>         <span style=\"color: #800000; text-decoration-color: #800000\">╰──────────────────────────────────────────────────────────────────╯</span> <span style=\"color: #7f7f7f; text-decoration-color: #7f7f7f\">                 </span>\n",
       "<span style=\"color: #7fbfbf; text-decoration-color: #7fbfbf\">                    </span>         <span style=\"color: #ff0000; text-decoration-color: #ff0000; font-weight: bold\">MissingConfigException: </span>Yaml file                                    <span style=\"color: #7f7f7f; text-decoration-color: #7f7f7f\">                 </span>\n",
       "<span style=\"color: #7fbfbf; text-decoration-color: #7fbfbf\">                    </span>         <span style=\"color: #008000; text-decoration-color: #008000\">'C:\\Users\\Admin\\Desktop\\onco-derm-ai\\mlruns\\312469223918544298\\meta.</span> <span style=\"color: #7f7f7f; text-decoration-color: #7f7f7f\">                 </span>\n",
       "<span style=\"color: #7fbfbf; text-decoration-color: #7fbfbf\">                    </span>         <span style=\"color: #008000; text-decoration-color: #008000\">yaml'</span> does not exist.                                                <span style=\"color: #7f7f7f; text-decoration-color: #7f7f7f\">                 </span>\n",
       "</pre>\n"
      ],
      "text/plain": [
       "\u001b[2;36m                   \u001b[0m\u001b[2;36m \u001b[0m\u001b[33mWARNING \u001b[0m Malformed experiment \u001b[32m'312469223918544298'\u001b[0m. Detailed error Yaml file  \u001b]8;id=480784;file://c:\\Users\\Admin\\miniconda3\\envs\\MlOps\\lib\\site-packages\\mlflow\\store\\tracking\\file_store.py\u001b\\\u001b[2mfile_store.py\u001b[0m\u001b]8;;\u001b\\\u001b[2m:\u001b[0m\u001b]8;id=919825;file://c:\\Users\\Admin\\miniconda3\\envs\\MlOps\\lib\\site-packages\\mlflow\\store\\tracking\\file_store.py#331\u001b\\\u001b[2m331\u001b[0m\u001b]8;;\u001b\\\n",
       "\u001b[2;36m                    \u001b[0m         \u001b[32m'C:\\Users\\Admin\\Desktop\\onco-derm-ai\\mlruns\\312469223918544298\\meta.\u001b[0m \u001b[2m                 \u001b[0m\n",
       "\u001b[2;36m                    \u001b[0m         \u001b[32myaml'\u001b[0m does not exist.                                                \u001b[2m                 \u001b[0m\n",
       "\u001b[2;36m                    \u001b[0m         \u001b[31m╭─\u001b[0m\u001b[31m──────────────\u001b[0m\u001b[31m \u001b[0m\u001b[1;31mTraceback \u001b[0m\u001b[1;2;31m(most recent call last)\u001b[0m\u001b[31m \u001b[0m\u001b[31m───────────────\u001b[0m\u001b[31m─╮\u001b[0m \u001b[2m                 \u001b[0m\n",
       "\u001b[2;36m                    \u001b[0m         \u001b[31m│\u001b[0m \u001b[33mc:\\Users\\Admin\\miniconda3\\envs\\MlOps\\lib\\site-packages\\mlflow\\st\u001b[0m \u001b[31m│\u001b[0m \u001b[2m                 \u001b[0m\n",
       "\u001b[2;36m                    \u001b[0m         \u001b[31m│\u001b[0m \u001b[33more\\tracking\\file_store.py\u001b[0m:\u001b[94m327\u001b[0m in \u001b[92msearch_experiments\u001b[0m             \u001b[31m│\u001b[0m \u001b[2m                 \u001b[0m\n",
       "\u001b[2;36m                    \u001b[0m         \u001b[31m│\u001b[0m                                                                  \u001b[31m│\u001b[0m \u001b[2m                 \u001b[0m\n",
       "\u001b[2;36m                    \u001b[0m         \u001b[31m│\u001b[0m   \u001b[2m 324 \u001b[0m\u001b[2m│   │   \u001b[0m\u001b[94mfor\u001b[0m exp_id \u001b[95min\u001b[0m experiment_ids:                     \u001b[31m│\u001b[0m \u001b[2m                 \u001b[0m\n",
       "\u001b[2;36m                    \u001b[0m         \u001b[31m│\u001b[0m   \u001b[2m 325 \u001b[0m\u001b[2m│   │   │   \u001b[0m\u001b[94mtry\u001b[0m:                                          \u001b[31m│\u001b[0m \u001b[2m                 \u001b[0m\n",
       "\u001b[2;36m                    \u001b[0m         \u001b[31m│\u001b[0m   \u001b[2m 326 \u001b[0m\u001b[2m│   │   │   │   \u001b[0m\u001b[2m# trap and warn known issues, will raise \u001b[0m \u001b[31m│\u001b[0m \u001b[2m                 \u001b[0m\n",
       "\u001b[2;36m                    \u001b[0m         \u001b[31m│\u001b[0m \u001b[31m❱ \u001b[0m 327 \u001b[2m│   │   │   │   \u001b[0mexp = \u001b[96mself\u001b[0m._get_experiment(exp_id, view_t \u001b[31m│\u001b[0m \u001b[2m                 \u001b[0m\n",
       "\u001b[2;36m                    \u001b[0m         \u001b[31m│\u001b[0m   \u001b[2m 328 \u001b[0m\u001b[2m│   │   │   │   \u001b[0m\u001b[94mif\u001b[0m exp \u001b[95mis\u001b[0m \u001b[95mnot\u001b[0m \u001b[94mNone\u001b[0m:                       \u001b[31m│\u001b[0m \u001b[2m                 \u001b[0m\n",
       "\u001b[2;36m                    \u001b[0m         \u001b[31m│\u001b[0m   \u001b[2m 329 \u001b[0m\u001b[2m│   │   │   │   │   \u001b[0mexperiments.append(exp)               \u001b[31m│\u001b[0m \u001b[2m                 \u001b[0m\n",
       "\u001b[2;36m                    \u001b[0m         \u001b[31m│\u001b[0m   \u001b[2m 330 \u001b[0m\u001b[2m│   │   │   \u001b[0m\u001b[94mexcept\u001b[0m MissingConfigException \u001b[94mas\u001b[0m e:           \u001b[31m│\u001b[0m \u001b[2m                 \u001b[0m\n",
       "\u001b[2;36m                    \u001b[0m         \u001b[31m│\u001b[0m                                                                  \u001b[31m│\u001b[0m \u001b[2m                 \u001b[0m\n",
       "\u001b[2;36m                    \u001b[0m         \u001b[31m│\u001b[0m \u001b[33mc:\\Users\\Admin\\miniconda3\\envs\\MlOps\\lib\\site-packages\\mlflow\\st\u001b[0m \u001b[31m│\u001b[0m \u001b[2m                 \u001b[0m\n",
       "\u001b[2;36m                    \u001b[0m         \u001b[31m│\u001b[0m \u001b[33more\\tracking\\file_store.py\u001b[0m:\u001b[94m421\u001b[0m in \u001b[92m_get_experiment\u001b[0m                \u001b[31m│\u001b[0m \u001b[2m                 \u001b[0m\n",
       "\u001b[2;36m                    \u001b[0m         \u001b[31m│\u001b[0m                                                                  \u001b[31m│\u001b[0m \u001b[2m                 \u001b[0m\n",
       "\u001b[2;36m                    \u001b[0m         \u001b[31m│\u001b[0m   \u001b[2m 418 \u001b[0m\u001b[2m│   │   │   │   \u001b[0m\u001b[33mf\u001b[0m\u001b[33m\"\u001b[0m\u001b[33mCould not find experiment with ID \u001b[0m\u001b[33m{\u001b[0mexpe \u001b[31m│\u001b[0m \u001b[2m                 \u001b[0m\n",
       "\u001b[2;36m                    \u001b[0m         \u001b[31m│\u001b[0m   \u001b[2m 419 \u001b[0m\u001b[2m│   │   │   │   \u001b[0mdatabricks_pb2.RESOURCE_DOES_NOT_EXIST,   \u001b[31m│\u001b[0m \u001b[2m                 \u001b[0m\n",
       "\u001b[2;36m                    \u001b[0m         \u001b[31m│\u001b[0m   \u001b[2m 420 \u001b[0m\u001b[2m│   │   │   \u001b[0m)                                             \u001b[31m│\u001b[0m \u001b[2m                 \u001b[0m\n",
       "\u001b[2;36m                    \u001b[0m         \u001b[31m│\u001b[0m \u001b[31m❱ \u001b[0m 421 \u001b[2m│   │   \u001b[0mmeta = FileStore._read_yaml(experiment_dir, FileS \u001b[31m│\u001b[0m \u001b[2m                 \u001b[0m\n",
       "\u001b[2;36m                    \u001b[0m         \u001b[31m│\u001b[0m   \u001b[2m 422 \u001b[0m\u001b[2m│   │   \u001b[0mmeta[\u001b[33m\"\u001b[0m\u001b[33mtags\u001b[0m\u001b[33m\"\u001b[0m] = \u001b[96mself\u001b[0m.get_all_experiment_tags(exper \u001b[31m│\u001b[0m \u001b[2m                 \u001b[0m\n",
       "\u001b[2;36m                    \u001b[0m         \u001b[31m│\u001b[0m   \u001b[2m 423 \u001b[0m\u001b[2m│   │   \u001b[0mexperiment = _read_persisted_experiment_dict(meta \u001b[31m│\u001b[0m \u001b[2m                 \u001b[0m\n",
       "\u001b[2;36m                    \u001b[0m         \u001b[31m│\u001b[0m   \u001b[2m 424 \u001b[0m\u001b[2m│   │   \u001b[0m\u001b[94mif\u001b[0m experiment_id != experiment.experiment_id:     \u001b[31m│\u001b[0m \u001b[2m                 \u001b[0m\n",
       "\u001b[2;36m                    \u001b[0m         \u001b[31m│\u001b[0m                                                                  \u001b[31m│\u001b[0m \u001b[2m                 \u001b[0m\n",
       "\u001b[2;36m                    \u001b[0m         \u001b[31m│\u001b[0m \u001b[33mc:\\Users\\Admin\\miniconda3\\envs\\MlOps\\lib\\site-packages\\mlflow\\st\u001b[0m \u001b[31m│\u001b[0m \u001b[2m                 \u001b[0m\n",
       "\u001b[2;36m                    \u001b[0m         \u001b[31m│\u001b[0m \u001b[33more\\tracking\\file_store.py\u001b[0m:\u001b[94m1367\u001b[0m in \u001b[92m_read_yaml\u001b[0m                    \u001b[31m│\u001b[0m \u001b[2m                 \u001b[0m\n",
       "\u001b[2;36m                    \u001b[0m         \u001b[31m│\u001b[0m                                                                  \u001b[31m│\u001b[0m \u001b[2m                 \u001b[0m\n",
       "\u001b[2;36m                    \u001b[0m         \u001b[31m│\u001b[0m   \u001b[2m1364 \u001b[0m\u001b[2m│   │   │   │   \u001b[0mtime.sleep(\u001b[94m0.1\u001b[0m * (\u001b[94m3\u001b[0m - attempts_remaining) \u001b[31m│\u001b[0m \u001b[2m                 \u001b[0m\n",
       "\u001b[2;36m                    \u001b[0m         \u001b[31m│\u001b[0m   \u001b[2m1365 \u001b[0m\u001b[2m│   │   │   │   \u001b[0m\u001b[94mreturn\u001b[0m _read_helper(root, file_name, atte \u001b[31m│\u001b[0m \u001b[2m                 \u001b[0m\n",
       "\u001b[2;36m                    \u001b[0m         \u001b[31m│\u001b[0m   \u001b[2m1366 \u001b[0m\u001b[2m│   │   \u001b[0m                                                  \u001b[31m│\u001b[0m \u001b[2m                 \u001b[0m\n",
       "\u001b[2;36m                    \u001b[0m         \u001b[31m│\u001b[0m \u001b[31m❱ \u001b[0m1367 \u001b[2m│   │   \u001b[0m\u001b[94mreturn\u001b[0m _read_helper(root, file_name, attempts_rem \u001b[31m│\u001b[0m \u001b[2m                 \u001b[0m\n",
       "\u001b[2;36m                    \u001b[0m         \u001b[31m│\u001b[0m   \u001b[2m1368 \u001b[0m\u001b[2m│   \u001b[0m                                                      \u001b[31m│\u001b[0m \u001b[2m                 \u001b[0m\n",
       "\u001b[2;36m                    \u001b[0m         \u001b[31m│\u001b[0m   \u001b[2m1369 \u001b[0m\u001b[2m│   \u001b[0m\u001b[94mdef\u001b[0m \u001b[92m_get_traces_artifact_dir\u001b[0m(\u001b[96mself\u001b[0m, experiment_id, req \u001b[31m│\u001b[0m \u001b[2m                 \u001b[0m\n",
       "\u001b[2;36m                    \u001b[0m         \u001b[31m│\u001b[0m   \u001b[2m1370 \u001b[0m\u001b[2m│   │   \u001b[0m\u001b[94mreturn\u001b[0m append_to_uri_path(                        \u001b[31m│\u001b[0m \u001b[2m                 \u001b[0m\n",
       "\u001b[2;36m                    \u001b[0m         \u001b[31m│\u001b[0m                                                                  \u001b[31m│\u001b[0m \u001b[2m                 \u001b[0m\n",
       "\u001b[2;36m                    \u001b[0m         \u001b[31m│\u001b[0m \u001b[33mc:\\Users\\Admin\\miniconda3\\envs\\MlOps\\lib\\site-packages\\mlflow\\st\u001b[0m \u001b[31m│\u001b[0m \u001b[2m                 \u001b[0m\n",
       "\u001b[2;36m                    \u001b[0m         \u001b[31m│\u001b[0m \u001b[33more\\tracking\\file_store.py\u001b[0m:\u001b[94m1360\u001b[0m in \u001b[92m_read_helper\u001b[0m                  \u001b[31m│\u001b[0m \u001b[2m                 \u001b[0m\n",
       "\u001b[2;36m                    \u001b[0m         \u001b[31m│\u001b[0m                                                                  \u001b[31m│\u001b[0m \u001b[2m                 \u001b[0m\n",
       "\u001b[2;36m                    \u001b[0m         \u001b[31m│\u001b[0m   \u001b[2m1357 \u001b[0m\u001b[2;33m│   │   \u001b[0m\u001b[33m\"\"\"\u001b[0m                                               \u001b[31m│\u001b[0m \u001b[2m                 \u001b[0m\n",
       "\u001b[2;36m                    \u001b[0m         \u001b[31m│\u001b[0m   \u001b[2m1358 \u001b[0m\u001b[2m│   │   \u001b[0m                                                  \u001b[31m│\u001b[0m \u001b[2m                 \u001b[0m\n",
       "\u001b[2;36m                    \u001b[0m         \u001b[31m│\u001b[0m   \u001b[2m1359 \u001b[0m\u001b[2m│   │   \u001b[0m\u001b[94mdef\u001b[0m \u001b[92m_read_helper\u001b[0m(root, file_name, attempts_remain \u001b[31m│\u001b[0m \u001b[2m                 \u001b[0m\n",
       "\u001b[2;36m                    \u001b[0m         \u001b[31m│\u001b[0m \u001b[31m❱ \u001b[0m1360 \u001b[2m│   │   │   \u001b[0mresult = read_yaml(root, file_name)           \u001b[31m│\u001b[0m \u001b[2m                 \u001b[0m\n",
       "\u001b[2;36m                    \u001b[0m         \u001b[31m│\u001b[0m   \u001b[2m1361 \u001b[0m\u001b[2m│   │   │   \u001b[0m\u001b[94mif\u001b[0m result \u001b[95mis\u001b[0m \u001b[95mnot\u001b[0m \u001b[94mNone\u001b[0m \u001b[95mor\u001b[0m attempts_remaining = \u001b[31m│\u001b[0m \u001b[2m                 \u001b[0m\n",
       "\u001b[2;36m                    \u001b[0m         \u001b[31m│\u001b[0m   \u001b[2m1362 \u001b[0m\u001b[2m│   │   │   │   \u001b[0m\u001b[94mreturn\u001b[0m result                             \u001b[31m│\u001b[0m \u001b[2m                 \u001b[0m\n",
       "\u001b[2;36m                    \u001b[0m         \u001b[31m│\u001b[0m   \u001b[2m1363 \u001b[0m\u001b[2m│   │   │   \u001b[0m\u001b[94melse\u001b[0m:                                         \u001b[31m│\u001b[0m \u001b[2m                 \u001b[0m\n",
       "\u001b[2;36m                    \u001b[0m         \u001b[31m│\u001b[0m                                                                  \u001b[31m│\u001b[0m \u001b[2m                 \u001b[0m\n",
       "\u001b[2;36m                    \u001b[0m         \u001b[31m│\u001b[0m \u001b[33mc:\\Users\\Admin\\miniconda3\\envs\\MlOps\\lib\\site-packages\\mlflow\\ut\u001b[0m \u001b[31m│\u001b[0m \u001b[2m                 \u001b[0m\n",
       "\u001b[2;36m                    \u001b[0m         \u001b[31m│\u001b[0m \u001b[33mils\\file_utils.py\u001b[0m:\u001b[94m309\u001b[0m in \u001b[92mread_yaml\u001b[0m                               \u001b[31m│\u001b[0m \u001b[2m                 \u001b[0m\n",
       "\u001b[2;36m                    \u001b[0m         \u001b[31m│\u001b[0m                                                                  \u001b[31m│\u001b[0m \u001b[2m                 \u001b[0m\n",
       "\u001b[2;36m                    \u001b[0m         \u001b[31m│\u001b[0m   \u001b[2m 306 \u001b[0m\u001b[2m│   \u001b[0m                                                      \u001b[31m│\u001b[0m \u001b[2m                 \u001b[0m\n",
       "\u001b[2;36m                    \u001b[0m         \u001b[31m│\u001b[0m   \u001b[2m 307 \u001b[0m\u001b[2m│   \u001b[0mfile_path = os.path.join(root, file_name)             \u001b[31m│\u001b[0m \u001b[2m                 \u001b[0m\n",
       "\u001b[2;36m                    \u001b[0m         \u001b[31m│\u001b[0m   \u001b[2m 308 \u001b[0m\u001b[2m│   \u001b[0m\u001b[94mif\u001b[0m \u001b[95mnot\u001b[0m exists(file_path):                             \u001b[31m│\u001b[0m \u001b[2m                 \u001b[0m\n",
       "\u001b[2;36m                    \u001b[0m         \u001b[31m│\u001b[0m \u001b[31m❱ \u001b[0m 309 \u001b[2m│   │   \u001b[0m\u001b[94mraise\u001b[0m MissingConfigException(\u001b[33mf\u001b[0m\u001b[33m\"\u001b[0m\u001b[33mYaml file \u001b[0m\u001b[33m'\u001b[0m\u001b[33m{\u001b[0mfile_p \u001b[31m│\u001b[0m \u001b[2m                 \u001b[0m\n",
       "\u001b[2;36m                    \u001b[0m         \u001b[31m│\u001b[0m   \u001b[2m 310 \u001b[0m\u001b[2m│   \u001b[0m\u001b[94mwith\u001b[0m codecs.open(file_path, mode=\u001b[33m\"\u001b[0m\u001b[33mr\u001b[0m\u001b[33m\"\u001b[0m, encoding=ENCODI \u001b[31m│\u001b[0m \u001b[2m                 \u001b[0m\n",
       "\u001b[2;36m                    \u001b[0m         \u001b[31m│\u001b[0m   \u001b[2m 311 \u001b[0m\u001b[2m│   │   \u001b[0m\u001b[94mreturn\u001b[0m yaml.load(yaml_file, Loader=YamlSafeLoader \u001b[31m│\u001b[0m \u001b[2m                 \u001b[0m\n",
       "\u001b[2;36m                    \u001b[0m         \u001b[31m│\u001b[0m   \u001b[2m 312 \u001b[0m                                                          \u001b[31m│\u001b[0m \u001b[2m                 \u001b[0m\n",
       "\u001b[2;36m                    \u001b[0m         \u001b[31m╰──────────────────────────────────────────────────────────────────╯\u001b[0m \u001b[2m                 \u001b[0m\n",
       "\u001b[2;36m                    \u001b[0m         \u001b[1;91mMissingConfigException: \u001b[0mYaml file                                    \u001b[2m                 \u001b[0m\n",
       "\u001b[2;36m                    \u001b[0m         \u001b[32m'C:\\Users\\Admin\\Desktop\\onco-derm-ai\\mlruns\\312469223918544298\\meta.\u001b[0m \u001b[2m                 \u001b[0m\n",
       "\u001b[2;36m                    \u001b[0m         \u001b[32myaml'\u001b[0m does not exist.                                                \u001b[2m                 \u001b[0m\n"
      ]
     },
     "metadata": {},
     "output_type": "display_data"
    },
    {
     "data": {
      "text/html": [
       "<pre style=\"white-space:pre;overflow-x:auto;line-height:normal;font-family:Menlo,'DejaVu Sans Mono',consolas,'Courier New',monospace\"><span style=\"color: #7fbfbf; text-decoration-color: #7fbfbf\">[11/20/24 11:51:53] </span><span style=\"color: #808000; text-decoration-color: #808000\">WARNING </span> Malformed experiment <span style=\"color: #008000; text-decoration-color: #008000\">'312469223918544298'</span>. Detailed error Yaml file  <a href=\"file://c:\\Users\\Admin\\miniconda3\\envs\\MlOps\\lib\\site-packages\\mlflow\\store\\tracking\\file_store.py\" target=\"_blank\"><span style=\"color: #7f7f7f; text-decoration-color: #7f7f7f\">file_store.py</span></a><span style=\"color: #7f7f7f; text-decoration-color: #7f7f7f\">:</span><a href=\"file://c:\\Users\\Admin\\miniconda3\\envs\\MlOps\\lib\\site-packages\\mlflow\\store\\tracking\\file_store.py#331\" target=\"_blank\"><span style=\"color: #7f7f7f; text-decoration-color: #7f7f7f\">331</span></a>\n",
       "<span style=\"color: #7fbfbf; text-decoration-color: #7fbfbf\">                    </span>         <span style=\"color: #008000; text-decoration-color: #008000\">'C:\\Users\\Admin\\Desktop\\onco-derm-ai\\mlruns\\312469223918544298\\meta.</span> <span style=\"color: #7f7f7f; text-decoration-color: #7f7f7f\">                 </span>\n",
       "<span style=\"color: #7fbfbf; text-decoration-color: #7fbfbf\">                    </span>         <span style=\"color: #008000; text-decoration-color: #008000\">yaml'</span> does not exist.                                                <span style=\"color: #7f7f7f; text-decoration-color: #7f7f7f\">                 </span>\n",
       "<span style=\"color: #7fbfbf; text-decoration-color: #7fbfbf\">                    </span>         <span style=\"color: #800000; text-decoration-color: #800000\">╭─────────────── </span><span style=\"color: #800000; text-decoration-color: #800000; font-weight: bold\">Traceback </span><span style=\"color: #bf7f7f; text-decoration-color: #bf7f7f; font-weight: bold\">(most recent call last)</span><span style=\"color: #800000; text-decoration-color: #800000\"> ────────────────╮</span> <span style=\"color: #7f7f7f; text-decoration-color: #7f7f7f\">                 </span>\n",
       "<span style=\"color: #7fbfbf; text-decoration-color: #7fbfbf\">                    </span>         <span style=\"color: #800000; text-decoration-color: #800000\">│</span> <span style=\"color: #808000; text-decoration-color: #808000\">c:\\Users\\Admin\\miniconda3\\envs\\MlOps\\lib\\site-packages\\mlflow\\st</span> <span style=\"color: #800000; text-decoration-color: #800000\">│</span> <span style=\"color: #7f7f7f; text-decoration-color: #7f7f7f\">                 </span>\n",
       "<span style=\"color: #7fbfbf; text-decoration-color: #7fbfbf\">                    </span>         <span style=\"color: #800000; text-decoration-color: #800000\">│</span> <span style=\"color: #808000; text-decoration-color: #808000\">ore\\tracking\\file_store.py</span>:<span style=\"color: #0000ff; text-decoration-color: #0000ff\">327</span> in <span style=\"color: #00ff00; text-decoration-color: #00ff00\">search_experiments</span>             <span style=\"color: #800000; text-decoration-color: #800000\">│</span> <span style=\"color: #7f7f7f; text-decoration-color: #7f7f7f\">                 </span>\n",
       "<span style=\"color: #7fbfbf; text-decoration-color: #7fbfbf\">                    </span>         <span style=\"color: #800000; text-decoration-color: #800000\">│</span>                                                                  <span style=\"color: #800000; text-decoration-color: #800000\">│</span> <span style=\"color: #7f7f7f; text-decoration-color: #7f7f7f\">                 </span>\n",
       "<span style=\"color: #7fbfbf; text-decoration-color: #7fbfbf\">                    </span>         <span style=\"color: #800000; text-decoration-color: #800000\">│</span>   <span style=\"color: #7f7f7f; text-decoration-color: #7f7f7f\"> 324 </span><span style=\"color: #7f7f7f; text-decoration-color: #7f7f7f\">│   │   </span><span style=\"color: #0000ff; text-decoration-color: #0000ff\">for</span> exp_id <span style=\"color: #ff00ff; text-decoration-color: #ff00ff\">in</span> experiment_ids:                     <span style=\"color: #800000; text-decoration-color: #800000\">│</span> <span style=\"color: #7f7f7f; text-decoration-color: #7f7f7f\">                 </span>\n",
       "<span style=\"color: #7fbfbf; text-decoration-color: #7fbfbf\">                    </span>         <span style=\"color: #800000; text-decoration-color: #800000\">│</span>   <span style=\"color: #7f7f7f; text-decoration-color: #7f7f7f\"> 325 </span><span style=\"color: #7f7f7f; text-decoration-color: #7f7f7f\">│   │   │   </span><span style=\"color: #0000ff; text-decoration-color: #0000ff\">try</span>:                                          <span style=\"color: #800000; text-decoration-color: #800000\">│</span> <span style=\"color: #7f7f7f; text-decoration-color: #7f7f7f\">                 </span>\n",
       "<span style=\"color: #7fbfbf; text-decoration-color: #7fbfbf\">                    </span>         <span style=\"color: #800000; text-decoration-color: #800000\">│</span>   <span style=\"color: #7f7f7f; text-decoration-color: #7f7f7f\"> 326 </span><span style=\"color: #7f7f7f; text-decoration-color: #7f7f7f\">│   │   │   │   </span><span style=\"color: #7f7f7f; text-decoration-color: #7f7f7f\"># trap and warn known issues, will raise </span> <span style=\"color: #800000; text-decoration-color: #800000\">│</span> <span style=\"color: #7f7f7f; text-decoration-color: #7f7f7f\">                 </span>\n",
       "<span style=\"color: #7fbfbf; text-decoration-color: #7fbfbf\">                    </span>         <span style=\"color: #800000; text-decoration-color: #800000\">│</span> <span style=\"color: #800000; text-decoration-color: #800000\">❱ </span> 327 <span style=\"color: #7f7f7f; text-decoration-color: #7f7f7f\">│   │   │   │   </span>exp = <span style=\"color: #00ffff; text-decoration-color: #00ffff\">self</span>._get_experiment(exp_id, view_t <span style=\"color: #800000; text-decoration-color: #800000\">│</span> <span style=\"color: #7f7f7f; text-decoration-color: #7f7f7f\">                 </span>\n",
       "<span style=\"color: #7fbfbf; text-decoration-color: #7fbfbf\">                    </span>         <span style=\"color: #800000; text-decoration-color: #800000\">│</span>   <span style=\"color: #7f7f7f; text-decoration-color: #7f7f7f\"> 328 </span><span style=\"color: #7f7f7f; text-decoration-color: #7f7f7f\">│   │   │   │   </span><span style=\"color: #0000ff; text-decoration-color: #0000ff\">if</span> exp <span style=\"color: #ff00ff; text-decoration-color: #ff00ff\">is</span> <span style=\"color: #ff00ff; text-decoration-color: #ff00ff\">not</span> <span style=\"color: #0000ff; text-decoration-color: #0000ff\">None</span>:                       <span style=\"color: #800000; text-decoration-color: #800000\">│</span> <span style=\"color: #7f7f7f; text-decoration-color: #7f7f7f\">                 </span>\n",
       "<span style=\"color: #7fbfbf; text-decoration-color: #7fbfbf\">                    </span>         <span style=\"color: #800000; text-decoration-color: #800000\">│</span>   <span style=\"color: #7f7f7f; text-decoration-color: #7f7f7f\"> 329 </span><span style=\"color: #7f7f7f; text-decoration-color: #7f7f7f\">│   │   │   │   │   </span>experiments.append(exp)               <span style=\"color: #800000; text-decoration-color: #800000\">│</span> <span style=\"color: #7f7f7f; text-decoration-color: #7f7f7f\">                 </span>\n",
       "<span style=\"color: #7fbfbf; text-decoration-color: #7fbfbf\">                    </span>         <span style=\"color: #800000; text-decoration-color: #800000\">│</span>   <span style=\"color: #7f7f7f; text-decoration-color: #7f7f7f\"> 330 </span><span style=\"color: #7f7f7f; text-decoration-color: #7f7f7f\">│   │   │   </span><span style=\"color: #0000ff; text-decoration-color: #0000ff\">except</span> MissingConfigException <span style=\"color: #0000ff; text-decoration-color: #0000ff\">as</span> e:           <span style=\"color: #800000; text-decoration-color: #800000\">│</span> <span style=\"color: #7f7f7f; text-decoration-color: #7f7f7f\">                 </span>\n",
       "<span style=\"color: #7fbfbf; text-decoration-color: #7fbfbf\">                    </span>         <span style=\"color: #800000; text-decoration-color: #800000\">│</span>                                                                  <span style=\"color: #800000; text-decoration-color: #800000\">│</span> <span style=\"color: #7f7f7f; text-decoration-color: #7f7f7f\">                 </span>\n",
       "<span style=\"color: #7fbfbf; text-decoration-color: #7fbfbf\">                    </span>         <span style=\"color: #800000; text-decoration-color: #800000\">│</span> <span style=\"color: #808000; text-decoration-color: #808000\">c:\\Users\\Admin\\miniconda3\\envs\\MlOps\\lib\\site-packages\\mlflow\\st</span> <span style=\"color: #800000; text-decoration-color: #800000\">│</span> <span style=\"color: #7f7f7f; text-decoration-color: #7f7f7f\">                 </span>\n",
       "<span style=\"color: #7fbfbf; text-decoration-color: #7fbfbf\">                    </span>         <span style=\"color: #800000; text-decoration-color: #800000\">│</span> <span style=\"color: #808000; text-decoration-color: #808000\">ore\\tracking\\file_store.py</span>:<span style=\"color: #0000ff; text-decoration-color: #0000ff\">421</span> in <span style=\"color: #00ff00; text-decoration-color: #00ff00\">_get_experiment</span>                <span style=\"color: #800000; text-decoration-color: #800000\">│</span> <span style=\"color: #7f7f7f; text-decoration-color: #7f7f7f\">                 </span>\n",
       "<span style=\"color: #7fbfbf; text-decoration-color: #7fbfbf\">                    </span>         <span style=\"color: #800000; text-decoration-color: #800000\">│</span>                                                                  <span style=\"color: #800000; text-decoration-color: #800000\">│</span> <span style=\"color: #7f7f7f; text-decoration-color: #7f7f7f\">                 </span>\n",
       "<span style=\"color: #7fbfbf; text-decoration-color: #7fbfbf\">                    </span>         <span style=\"color: #800000; text-decoration-color: #800000\">│</span>   <span style=\"color: #7f7f7f; text-decoration-color: #7f7f7f\"> 418 </span><span style=\"color: #7f7f7f; text-decoration-color: #7f7f7f\">│   │   │   │   </span><span style=\"color: #808000; text-decoration-color: #808000\">f\"Could not find experiment with ID {</span>expe <span style=\"color: #800000; text-decoration-color: #800000\">│</span> <span style=\"color: #7f7f7f; text-decoration-color: #7f7f7f\">                 </span>\n",
       "<span style=\"color: #7fbfbf; text-decoration-color: #7fbfbf\">                    </span>         <span style=\"color: #800000; text-decoration-color: #800000\">│</span>   <span style=\"color: #7f7f7f; text-decoration-color: #7f7f7f\"> 419 </span><span style=\"color: #7f7f7f; text-decoration-color: #7f7f7f\">│   │   │   │   </span>databricks_pb2.RESOURCE_DOES_NOT_EXIST,   <span style=\"color: #800000; text-decoration-color: #800000\">│</span> <span style=\"color: #7f7f7f; text-decoration-color: #7f7f7f\">                 </span>\n",
       "<span style=\"color: #7fbfbf; text-decoration-color: #7fbfbf\">                    </span>         <span style=\"color: #800000; text-decoration-color: #800000\">│</span>   <span style=\"color: #7f7f7f; text-decoration-color: #7f7f7f\"> 420 </span><span style=\"color: #7f7f7f; text-decoration-color: #7f7f7f\">│   │   │   </span>)                                             <span style=\"color: #800000; text-decoration-color: #800000\">│</span> <span style=\"color: #7f7f7f; text-decoration-color: #7f7f7f\">                 </span>\n",
       "<span style=\"color: #7fbfbf; text-decoration-color: #7fbfbf\">                    </span>         <span style=\"color: #800000; text-decoration-color: #800000\">│</span> <span style=\"color: #800000; text-decoration-color: #800000\">❱ </span> 421 <span style=\"color: #7f7f7f; text-decoration-color: #7f7f7f\">│   │   </span>meta = FileStore._read_yaml(experiment_dir, FileS <span style=\"color: #800000; text-decoration-color: #800000\">│</span> <span style=\"color: #7f7f7f; text-decoration-color: #7f7f7f\">                 </span>\n",
       "<span style=\"color: #7fbfbf; text-decoration-color: #7fbfbf\">                    </span>         <span style=\"color: #800000; text-decoration-color: #800000\">│</span>   <span style=\"color: #7f7f7f; text-decoration-color: #7f7f7f\"> 422 </span><span style=\"color: #7f7f7f; text-decoration-color: #7f7f7f\">│   │   </span>meta[<span style=\"color: #808000; text-decoration-color: #808000\">\"tags\"</span>] = <span style=\"color: #00ffff; text-decoration-color: #00ffff\">self</span>.get_all_experiment_tags(exper <span style=\"color: #800000; text-decoration-color: #800000\">│</span> <span style=\"color: #7f7f7f; text-decoration-color: #7f7f7f\">                 </span>\n",
       "<span style=\"color: #7fbfbf; text-decoration-color: #7fbfbf\">                    </span>         <span style=\"color: #800000; text-decoration-color: #800000\">│</span>   <span style=\"color: #7f7f7f; text-decoration-color: #7f7f7f\"> 423 </span><span style=\"color: #7f7f7f; text-decoration-color: #7f7f7f\">│   │   </span>experiment = _read_persisted_experiment_dict(meta <span style=\"color: #800000; text-decoration-color: #800000\">│</span> <span style=\"color: #7f7f7f; text-decoration-color: #7f7f7f\">                 </span>\n",
       "<span style=\"color: #7fbfbf; text-decoration-color: #7fbfbf\">                    </span>         <span style=\"color: #800000; text-decoration-color: #800000\">│</span>   <span style=\"color: #7f7f7f; text-decoration-color: #7f7f7f\"> 424 </span><span style=\"color: #7f7f7f; text-decoration-color: #7f7f7f\">│   │   </span><span style=\"color: #0000ff; text-decoration-color: #0000ff\">if</span> experiment_id != experiment.experiment_id:     <span style=\"color: #800000; text-decoration-color: #800000\">│</span> <span style=\"color: #7f7f7f; text-decoration-color: #7f7f7f\">                 </span>\n",
       "<span style=\"color: #7fbfbf; text-decoration-color: #7fbfbf\">                    </span>         <span style=\"color: #800000; text-decoration-color: #800000\">│</span>                                                                  <span style=\"color: #800000; text-decoration-color: #800000\">│</span> <span style=\"color: #7f7f7f; text-decoration-color: #7f7f7f\">                 </span>\n",
       "<span style=\"color: #7fbfbf; text-decoration-color: #7fbfbf\">                    </span>         <span style=\"color: #800000; text-decoration-color: #800000\">│</span> <span style=\"color: #808000; text-decoration-color: #808000\">c:\\Users\\Admin\\miniconda3\\envs\\MlOps\\lib\\site-packages\\mlflow\\st</span> <span style=\"color: #800000; text-decoration-color: #800000\">│</span> <span style=\"color: #7f7f7f; text-decoration-color: #7f7f7f\">                 </span>\n",
       "<span style=\"color: #7fbfbf; text-decoration-color: #7fbfbf\">                    </span>         <span style=\"color: #800000; text-decoration-color: #800000\">│</span> <span style=\"color: #808000; text-decoration-color: #808000\">ore\\tracking\\file_store.py</span>:<span style=\"color: #0000ff; text-decoration-color: #0000ff\">1367</span> in <span style=\"color: #00ff00; text-decoration-color: #00ff00\">_read_yaml</span>                    <span style=\"color: #800000; text-decoration-color: #800000\">│</span> <span style=\"color: #7f7f7f; text-decoration-color: #7f7f7f\">                 </span>\n",
       "<span style=\"color: #7fbfbf; text-decoration-color: #7fbfbf\">                    </span>         <span style=\"color: #800000; text-decoration-color: #800000\">│</span>                                                                  <span style=\"color: #800000; text-decoration-color: #800000\">│</span> <span style=\"color: #7f7f7f; text-decoration-color: #7f7f7f\">                 </span>\n",
       "<span style=\"color: #7fbfbf; text-decoration-color: #7fbfbf\">                    </span>         <span style=\"color: #800000; text-decoration-color: #800000\">│</span>   <span style=\"color: #7f7f7f; text-decoration-color: #7f7f7f\">1364 </span><span style=\"color: #7f7f7f; text-decoration-color: #7f7f7f\">│   │   │   │   </span>time.sleep(<span style=\"color: #0000ff; text-decoration-color: #0000ff\">0.1</span> * (<span style=\"color: #0000ff; text-decoration-color: #0000ff\">3</span> - attempts_remaining) <span style=\"color: #800000; text-decoration-color: #800000\">│</span> <span style=\"color: #7f7f7f; text-decoration-color: #7f7f7f\">                 </span>\n",
       "<span style=\"color: #7fbfbf; text-decoration-color: #7fbfbf\">                    </span>         <span style=\"color: #800000; text-decoration-color: #800000\">│</span>   <span style=\"color: #7f7f7f; text-decoration-color: #7f7f7f\">1365 </span><span style=\"color: #7f7f7f; text-decoration-color: #7f7f7f\">│   │   │   │   </span><span style=\"color: #0000ff; text-decoration-color: #0000ff\">return</span> _read_helper(root, file_name, atte <span style=\"color: #800000; text-decoration-color: #800000\">│</span> <span style=\"color: #7f7f7f; text-decoration-color: #7f7f7f\">                 </span>\n",
       "<span style=\"color: #7fbfbf; text-decoration-color: #7fbfbf\">                    </span>         <span style=\"color: #800000; text-decoration-color: #800000\">│</span>   <span style=\"color: #7f7f7f; text-decoration-color: #7f7f7f\">1366 </span><span style=\"color: #7f7f7f; text-decoration-color: #7f7f7f\">│   │   </span>                                                  <span style=\"color: #800000; text-decoration-color: #800000\">│</span> <span style=\"color: #7f7f7f; text-decoration-color: #7f7f7f\">                 </span>\n",
       "<span style=\"color: #7fbfbf; text-decoration-color: #7fbfbf\">                    </span>         <span style=\"color: #800000; text-decoration-color: #800000\">│</span> <span style=\"color: #800000; text-decoration-color: #800000\">❱ </span>1367 <span style=\"color: #7f7f7f; text-decoration-color: #7f7f7f\">│   │   </span><span style=\"color: #0000ff; text-decoration-color: #0000ff\">return</span> _read_helper(root, file_name, attempts_rem <span style=\"color: #800000; text-decoration-color: #800000\">│</span> <span style=\"color: #7f7f7f; text-decoration-color: #7f7f7f\">                 </span>\n",
       "<span style=\"color: #7fbfbf; text-decoration-color: #7fbfbf\">                    </span>         <span style=\"color: #800000; text-decoration-color: #800000\">│</span>   <span style=\"color: #7f7f7f; text-decoration-color: #7f7f7f\">1368 </span><span style=\"color: #7f7f7f; text-decoration-color: #7f7f7f\">│   </span>                                                      <span style=\"color: #800000; text-decoration-color: #800000\">│</span> <span style=\"color: #7f7f7f; text-decoration-color: #7f7f7f\">                 </span>\n",
       "<span style=\"color: #7fbfbf; text-decoration-color: #7fbfbf\">                    </span>         <span style=\"color: #800000; text-decoration-color: #800000\">│</span>   <span style=\"color: #7f7f7f; text-decoration-color: #7f7f7f\">1369 </span><span style=\"color: #7f7f7f; text-decoration-color: #7f7f7f\">│   </span><span style=\"color: #0000ff; text-decoration-color: #0000ff\">def</span> <span style=\"color: #00ff00; text-decoration-color: #00ff00\">_get_traces_artifact_dir</span>(<span style=\"color: #00ffff; text-decoration-color: #00ffff\">self</span>, experiment_id, req <span style=\"color: #800000; text-decoration-color: #800000\">│</span> <span style=\"color: #7f7f7f; text-decoration-color: #7f7f7f\">                 </span>\n",
       "<span style=\"color: #7fbfbf; text-decoration-color: #7fbfbf\">                    </span>         <span style=\"color: #800000; text-decoration-color: #800000\">│</span>   <span style=\"color: #7f7f7f; text-decoration-color: #7f7f7f\">1370 </span><span style=\"color: #7f7f7f; text-decoration-color: #7f7f7f\">│   │   </span><span style=\"color: #0000ff; text-decoration-color: #0000ff\">return</span> append_to_uri_path(                        <span style=\"color: #800000; text-decoration-color: #800000\">│</span> <span style=\"color: #7f7f7f; text-decoration-color: #7f7f7f\">                 </span>\n",
       "<span style=\"color: #7fbfbf; text-decoration-color: #7fbfbf\">                    </span>         <span style=\"color: #800000; text-decoration-color: #800000\">│</span>                                                                  <span style=\"color: #800000; text-decoration-color: #800000\">│</span> <span style=\"color: #7f7f7f; text-decoration-color: #7f7f7f\">                 </span>\n",
       "<span style=\"color: #7fbfbf; text-decoration-color: #7fbfbf\">                    </span>         <span style=\"color: #800000; text-decoration-color: #800000\">│</span> <span style=\"color: #808000; text-decoration-color: #808000\">c:\\Users\\Admin\\miniconda3\\envs\\MlOps\\lib\\site-packages\\mlflow\\st</span> <span style=\"color: #800000; text-decoration-color: #800000\">│</span> <span style=\"color: #7f7f7f; text-decoration-color: #7f7f7f\">                 </span>\n",
       "<span style=\"color: #7fbfbf; text-decoration-color: #7fbfbf\">                    </span>         <span style=\"color: #800000; text-decoration-color: #800000\">│</span> <span style=\"color: #808000; text-decoration-color: #808000\">ore\\tracking\\file_store.py</span>:<span style=\"color: #0000ff; text-decoration-color: #0000ff\">1360</span> in <span style=\"color: #00ff00; text-decoration-color: #00ff00\">_read_helper</span>                  <span style=\"color: #800000; text-decoration-color: #800000\">│</span> <span style=\"color: #7f7f7f; text-decoration-color: #7f7f7f\">                 </span>\n",
       "<span style=\"color: #7fbfbf; text-decoration-color: #7fbfbf\">                    </span>         <span style=\"color: #800000; text-decoration-color: #800000\">│</span>                                                                  <span style=\"color: #800000; text-decoration-color: #800000\">│</span> <span style=\"color: #7f7f7f; text-decoration-color: #7f7f7f\">                 </span>\n",
       "<span style=\"color: #7fbfbf; text-decoration-color: #7fbfbf\">                    </span>         <span style=\"color: #800000; text-decoration-color: #800000\">│</span>   <span style=\"color: #7f7f7f; text-decoration-color: #7f7f7f\">1357 </span><span style=\"color: #bfbf7f; text-decoration-color: #bfbf7f\">│   │   </span><span style=\"color: #808000; text-decoration-color: #808000\">\"\"\"</span>                                               <span style=\"color: #800000; text-decoration-color: #800000\">│</span> <span style=\"color: #7f7f7f; text-decoration-color: #7f7f7f\">                 </span>\n",
       "<span style=\"color: #7fbfbf; text-decoration-color: #7fbfbf\">                    </span>         <span style=\"color: #800000; text-decoration-color: #800000\">│</span>   <span style=\"color: #7f7f7f; text-decoration-color: #7f7f7f\">1358 </span><span style=\"color: #7f7f7f; text-decoration-color: #7f7f7f\">│   │   </span>                                                  <span style=\"color: #800000; text-decoration-color: #800000\">│</span> <span style=\"color: #7f7f7f; text-decoration-color: #7f7f7f\">                 </span>\n",
       "<span style=\"color: #7fbfbf; text-decoration-color: #7fbfbf\">                    </span>         <span style=\"color: #800000; text-decoration-color: #800000\">│</span>   <span style=\"color: #7f7f7f; text-decoration-color: #7f7f7f\">1359 </span><span style=\"color: #7f7f7f; text-decoration-color: #7f7f7f\">│   │   </span><span style=\"color: #0000ff; text-decoration-color: #0000ff\">def</span> <span style=\"color: #00ff00; text-decoration-color: #00ff00\">_read_helper</span>(root, file_name, attempts_remain <span style=\"color: #800000; text-decoration-color: #800000\">│</span> <span style=\"color: #7f7f7f; text-decoration-color: #7f7f7f\">                 </span>\n",
       "<span style=\"color: #7fbfbf; text-decoration-color: #7fbfbf\">                    </span>         <span style=\"color: #800000; text-decoration-color: #800000\">│</span> <span style=\"color: #800000; text-decoration-color: #800000\">❱ </span>1360 <span style=\"color: #7f7f7f; text-decoration-color: #7f7f7f\">│   │   │   </span>result = read_yaml(root, file_name)           <span style=\"color: #800000; text-decoration-color: #800000\">│</span> <span style=\"color: #7f7f7f; text-decoration-color: #7f7f7f\">                 </span>\n",
       "<span style=\"color: #7fbfbf; text-decoration-color: #7fbfbf\">                    </span>         <span style=\"color: #800000; text-decoration-color: #800000\">│</span>   <span style=\"color: #7f7f7f; text-decoration-color: #7f7f7f\">1361 </span><span style=\"color: #7f7f7f; text-decoration-color: #7f7f7f\">│   │   │   </span><span style=\"color: #0000ff; text-decoration-color: #0000ff\">if</span> result <span style=\"color: #ff00ff; text-decoration-color: #ff00ff\">is</span> <span style=\"color: #ff00ff; text-decoration-color: #ff00ff\">not</span> <span style=\"color: #0000ff; text-decoration-color: #0000ff\">None</span> <span style=\"color: #ff00ff; text-decoration-color: #ff00ff\">or</span> attempts_remaining = <span style=\"color: #800000; text-decoration-color: #800000\">│</span> <span style=\"color: #7f7f7f; text-decoration-color: #7f7f7f\">                 </span>\n",
       "<span style=\"color: #7fbfbf; text-decoration-color: #7fbfbf\">                    </span>         <span style=\"color: #800000; text-decoration-color: #800000\">│</span>   <span style=\"color: #7f7f7f; text-decoration-color: #7f7f7f\">1362 </span><span style=\"color: #7f7f7f; text-decoration-color: #7f7f7f\">│   │   │   │   </span><span style=\"color: #0000ff; text-decoration-color: #0000ff\">return</span> result                             <span style=\"color: #800000; text-decoration-color: #800000\">│</span> <span style=\"color: #7f7f7f; text-decoration-color: #7f7f7f\">                 </span>\n",
       "<span style=\"color: #7fbfbf; text-decoration-color: #7fbfbf\">                    </span>         <span style=\"color: #800000; text-decoration-color: #800000\">│</span>   <span style=\"color: #7f7f7f; text-decoration-color: #7f7f7f\">1363 </span><span style=\"color: #7f7f7f; text-decoration-color: #7f7f7f\">│   │   │   </span><span style=\"color: #0000ff; text-decoration-color: #0000ff\">else</span>:                                         <span style=\"color: #800000; text-decoration-color: #800000\">│</span> <span style=\"color: #7f7f7f; text-decoration-color: #7f7f7f\">                 </span>\n",
       "<span style=\"color: #7fbfbf; text-decoration-color: #7fbfbf\">                    </span>         <span style=\"color: #800000; text-decoration-color: #800000\">│</span>                                                                  <span style=\"color: #800000; text-decoration-color: #800000\">│</span> <span style=\"color: #7f7f7f; text-decoration-color: #7f7f7f\">                 </span>\n",
       "<span style=\"color: #7fbfbf; text-decoration-color: #7fbfbf\">                    </span>         <span style=\"color: #800000; text-decoration-color: #800000\">│</span> <span style=\"color: #808000; text-decoration-color: #808000\">c:\\Users\\Admin\\miniconda3\\envs\\MlOps\\lib\\site-packages\\mlflow\\ut</span> <span style=\"color: #800000; text-decoration-color: #800000\">│</span> <span style=\"color: #7f7f7f; text-decoration-color: #7f7f7f\">                 </span>\n",
       "<span style=\"color: #7fbfbf; text-decoration-color: #7fbfbf\">                    </span>         <span style=\"color: #800000; text-decoration-color: #800000\">│</span> <span style=\"color: #808000; text-decoration-color: #808000\">ils\\file_utils.py</span>:<span style=\"color: #0000ff; text-decoration-color: #0000ff\">309</span> in <span style=\"color: #00ff00; text-decoration-color: #00ff00\">read_yaml</span>                               <span style=\"color: #800000; text-decoration-color: #800000\">│</span> <span style=\"color: #7f7f7f; text-decoration-color: #7f7f7f\">                 </span>\n",
       "<span style=\"color: #7fbfbf; text-decoration-color: #7fbfbf\">                    </span>         <span style=\"color: #800000; text-decoration-color: #800000\">│</span>                                                                  <span style=\"color: #800000; text-decoration-color: #800000\">│</span> <span style=\"color: #7f7f7f; text-decoration-color: #7f7f7f\">                 </span>\n",
       "<span style=\"color: #7fbfbf; text-decoration-color: #7fbfbf\">                    </span>         <span style=\"color: #800000; text-decoration-color: #800000\">│</span>   <span style=\"color: #7f7f7f; text-decoration-color: #7f7f7f\"> 306 </span><span style=\"color: #7f7f7f; text-decoration-color: #7f7f7f\">│   </span>                                                      <span style=\"color: #800000; text-decoration-color: #800000\">│</span> <span style=\"color: #7f7f7f; text-decoration-color: #7f7f7f\">                 </span>\n",
       "<span style=\"color: #7fbfbf; text-decoration-color: #7fbfbf\">                    </span>         <span style=\"color: #800000; text-decoration-color: #800000\">│</span>   <span style=\"color: #7f7f7f; text-decoration-color: #7f7f7f\"> 307 </span><span style=\"color: #7f7f7f; text-decoration-color: #7f7f7f\">│   </span>file_path = os.path.join(root, file_name)             <span style=\"color: #800000; text-decoration-color: #800000\">│</span> <span style=\"color: #7f7f7f; text-decoration-color: #7f7f7f\">                 </span>\n",
       "<span style=\"color: #7fbfbf; text-decoration-color: #7fbfbf\">                    </span>         <span style=\"color: #800000; text-decoration-color: #800000\">│</span>   <span style=\"color: #7f7f7f; text-decoration-color: #7f7f7f\"> 308 </span><span style=\"color: #7f7f7f; text-decoration-color: #7f7f7f\">│   </span><span style=\"color: #0000ff; text-decoration-color: #0000ff\">if</span> <span style=\"color: #ff00ff; text-decoration-color: #ff00ff\">not</span> exists(file_path):                             <span style=\"color: #800000; text-decoration-color: #800000\">│</span> <span style=\"color: #7f7f7f; text-decoration-color: #7f7f7f\">                 </span>\n",
       "<span style=\"color: #7fbfbf; text-decoration-color: #7fbfbf\">                    </span>         <span style=\"color: #800000; text-decoration-color: #800000\">│</span> <span style=\"color: #800000; text-decoration-color: #800000\">❱ </span> 309 <span style=\"color: #7f7f7f; text-decoration-color: #7f7f7f\">│   │   </span><span style=\"color: #0000ff; text-decoration-color: #0000ff\">raise</span> MissingConfigException(<span style=\"color: #808000; text-decoration-color: #808000\">f\"Yaml file '{</span>file_p <span style=\"color: #800000; text-decoration-color: #800000\">│</span> <span style=\"color: #7f7f7f; text-decoration-color: #7f7f7f\">                 </span>\n",
       "<span style=\"color: #7fbfbf; text-decoration-color: #7fbfbf\">                    </span>         <span style=\"color: #800000; text-decoration-color: #800000\">│</span>   <span style=\"color: #7f7f7f; text-decoration-color: #7f7f7f\"> 310 </span><span style=\"color: #7f7f7f; text-decoration-color: #7f7f7f\">│   </span><span style=\"color: #0000ff; text-decoration-color: #0000ff\">with</span> codecs.open(file_path, mode=<span style=\"color: #808000; text-decoration-color: #808000\">\"r\"</span>, encoding=ENCODI <span style=\"color: #800000; text-decoration-color: #800000\">│</span> <span style=\"color: #7f7f7f; text-decoration-color: #7f7f7f\">                 </span>\n",
       "<span style=\"color: #7fbfbf; text-decoration-color: #7fbfbf\">                    </span>         <span style=\"color: #800000; text-decoration-color: #800000\">│</span>   <span style=\"color: #7f7f7f; text-decoration-color: #7f7f7f\"> 311 </span><span style=\"color: #7f7f7f; text-decoration-color: #7f7f7f\">│   │   </span><span style=\"color: #0000ff; text-decoration-color: #0000ff\">return</span> yaml.load(yaml_file, Loader=YamlSafeLoader <span style=\"color: #800000; text-decoration-color: #800000\">│</span> <span style=\"color: #7f7f7f; text-decoration-color: #7f7f7f\">                 </span>\n",
       "<span style=\"color: #7fbfbf; text-decoration-color: #7fbfbf\">                    </span>         <span style=\"color: #800000; text-decoration-color: #800000\">│</span>   <span style=\"color: #7f7f7f; text-decoration-color: #7f7f7f\"> 312 </span>                                                          <span style=\"color: #800000; text-decoration-color: #800000\">│</span> <span style=\"color: #7f7f7f; text-decoration-color: #7f7f7f\">                 </span>\n",
       "<span style=\"color: #7fbfbf; text-decoration-color: #7fbfbf\">                    </span>         <span style=\"color: #800000; text-decoration-color: #800000\">╰──────────────────────────────────────────────────────────────────╯</span> <span style=\"color: #7f7f7f; text-decoration-color: #7f7f7f\">                 </span>\n",
       "<span style=\"color: #7fbfbf; text-decoration-color: #7fbfbf\">                    </span>         <span style=\"color: #ff0000; text-decoration-color: #ff0000; font-weight: bold\">MissingConfigException: </span>Yaml file                                    <span style=\"color: #7f7f7f; text-decoration-color: #7f7f7f\">                 </span>\n",
       "<span style=\"color: #7fbfbf; text-decoration-color: #7fbfbf\">                    </span>         <span style=\"color: #008000; text-decoration-color: #008000\">'C:\\Users\\Admin\\Desktop\\onco-derm-ai\\mlruns\\312469223918544298\\meta.</span> <span style=\"color: #7f7f7f; text-decoration-color: #7f7f7f\">                 </span>\n",
       "<span style=\"color: #7fbfbf; text-decoration-color: #7fbfbf\">                    </span>         <span style=\"color: #008000; text-decoration-color: #008000\">yaml'</span> does not exist.                                                <span style=\"color: #7f7f7f; text-decoration-color: #7f7f7f\">                 </span>\n",
       "</pre>\n"
      ],
      "text/plain": [
       "\u001b[2;36m[11/20/24 11:51:53]\u001b[0m\u001b[2;36m \u001b[0m\u001b[33mWARNING \u001b[0m Malformed experiment \u001b[32m'312469223918544298'\u001b[0m. Detailed error Yaml file  \u001b]8;id=200969;file://c:\\Users\\Admin\\miniconda3\\envs\\MlOps\\lib\\site-packages\\mlflow\\store\\tracking\\file_store.py\u001b\\\u001b[2mfile_store.py\u001b[0m\u001b]8;;\u001b\\\u001b[2m:\u001b[0m\u001b]8;id=157335;file://c:\\Users\\Admin\\miniconda3\\envs\\MlOps\\lib\\site-packages\\mlflow\\store\\tracking\\file_store.py#331\u001b\\\u001b[2m331\u001b[0m\u001b]8;;\u001b\\\n",
       "\u001b[2;36m                    \u001b[0m         \u001b[32m'C:\\Users\\Admin\\Desktop\\onco-derm-ai\\mlruns\\312469223918544298\\meta.\u001b[0m \u001b[2m                 \u001b[0m\n",
       "\u001b[2;36m                    \u001b[0m         \u001b[32myaml'\u001b[0m does not exist.                                                \u001b[2m                 \u001b[0m\n",
       "\u001b[2;36m                    \u001b[0m         \u001b[31m╭─\u001b[0m\u001b[31m──────────────\u001b[0m\u001b[31m \u001b[0m\u001b[1;31mTraceback \u001b[0m\u001b[1;2;31m(most recent call last)\u001b[0m\u001b[31m \u001b[0m\u001b[31m───────────────\u001b[0m\u001b[31m─╮\u001b[0m \u001b[2m                 \u001b[0m\n",
       "\u001b[2;36m                    \u001b[0m         \u001b[31m│\u001b[0m \u001b[33mc:\\Users\\Admin\\miniconda3\\envs\\MlOps\\lib\\site-packages\\mlflow\\st\u001b[0m \u001b[31m│\u001b[0m \u001b[2m                 \u001b[0m\n",
       "\u001b[2;36m                    \u001b[0m         \u001b[31m│\u001b[0m \u001b[33more\\tracking\\file_store.py\u001b[0m:\u001b[94m327\u001b[0m in \u001b[92msearch_experiments\u001b[0m             \u001b[31m│\u001b[0m \u001b[2m                 \u001b[0m\n",
       "\u001b[2;36m                    \u001b[0m         \u001b[31m│\u001b[0m                                                                  \u001b[31m│\u001b[0m \u001b[2m                 \u001b[0m\n",
       "\u001b[2;36m                    \u001b[0m         \u001b[31m│\u001b[0m   \u001b[2m 324 \u001b[0m\u001b[2m│   │   \u001b[0m\u001b[94mfor\u001b[0m exp_id \u001b[95min\u001b[0m experiment_ids:                     \u001b[31m│\u001b[0m \u001b[2m                 \u001b[0m\n",
       "\u001b[2;36m                    \u001b[0m         \u001b[31m│\u001b[0m   \u001b[2m 325 \u001b[0m\u001b[2m│   │   │   \u001b[0m\u001b[94mtry\u001b[0m:                                          \u001b[31m│\u001b[0m \u001b[2m                 \u001b[0m\n",
       "\u001b[2;36m                    \u001b[0m         \u001b[31m│\u001b[0m   \u001b[2m 326 \u001b[0m\u001b[2m│   │   │   │   \u001b[0m\u001b[2m# trap and warn known issues, will raise \u001b[0m \u001b[31m│\u001b[0m \u001b[2m                 \u001b[0m\n",
       "\u001b[2;36m                    \u001b[0m         \u001b[31m│\u001b[0m \u001b[31m❱ \u001b[0m 327 \u001b[2m│   │   │   │   \u001b[0mexp = \u001b[96mself\u001b[0m._get_experiment(exp_id, view_t \u001b[31m│\u001b[0m \u001b[2m                 \u001b[0m\n",
       "\u001b[2;36m                    \u001b[0m         \u001b[31m│\u001b[0m   \u001b[2m 328 \u001b[0m\u001b[2m│   │   │   │   \u001b[0m\u001b[94mif\u001b[0m exp \u001b[95mis\u001b[0m \u001b[95mnot\u001b[0m \u001b[94mNone\u001b[0m:                       \u001b[31m│\u001b[0m \u001b[2m                 \u001b[0m\n",
       "\u001b[2;36m                    \u001b[0m         \u001b[31m│\u001b[0m   \u001b[2m 329 \u001b[0m\u001b[2m│   │   │   │   │   \u001b[0mexperiments.append(exp)               \u001b[31m│\u001b[0m \u001b[2m                 \u001b[0m\n",
       "\u001b[2;36m                    \u001b[0m         \u001b[31m│\u001b[0m   \u001b[2m 330 \u001b[0m\u001b[2m│   │   │   \u001b[0m\u001b[94mexcept\u001b[0m MissingConfigException \u001b[94mas\u001b[0m e:           \u001b[31m│\u001b[0m \u001b[2m                 \u001b[0m\n",
       "\u001b[2;36m                    \u001b[0m         \u001b[31m│\u001b[0m                                                                  \u001b[31m│\u001b[0m \u001b[2m                 \u001b[0m\n",
       "\u001b[2;36m                    \u001b[0m         \u001b[31m│\u001b[0m \u001b[33mc:\\Users\\Admin\\miniconda3\\envs\\MlOps\\lib\\site-packages\\mlflow\\st\u001b[0m \u001b[31m│\u001b[0m \u001b[2m                 \u001b[0m\n",
       "\u001b[2;36m                    \u001b[0m         \u001b[31m│\u001b[0m \u001b[33more\\tracking\\file_store.py\u001b[0m:\u001b[94m421\u001b[0m in \u001b[92m_get_experiment\u001b[0m                \u001b[31m│\u001b[0m \u001b[2m                 \u001b[0m\n",
       "\u001b[2;36m                    \u001b[0m         \u001b[31m│\u001b[0m                                                                  \u001b[31m│\u001b[0m \u001b[2m                 \u001b[0m\n",
       "\u001b[2;36m                    \u001b[0m         \u001b[31m│\u001b[0m   \u001b[2m 418 \u001b[0m\u001b[2m│   │   │   │   \u001b[0m\u001b[33mf\u001b[0m\u001b[33m\"\u001b[0m\u001b[33mCould not find experiment with ID \u001b[0m\u001b[33m{\u001b[0mexpe \u001b[31m│\u001b[0m \u001b[2m                 \u001b[0m\n",
       "\u001b[2;36m                    \u001b[0m         \u001b[31m│\u001b[0m   \u001b[2m 419 \u001b[0m\u001b[2m│   │   │   │   \u001b[0mdatabricks_pb2.RESOURCE_DOES_NOT_EXIST,   \u001b[31m│\u001b[0m \u001b[2m                 \u001b[0m\n",
       "\u001b[2;36m                    \u001b[0m         \u001b[31m│\u001b[0m   \u001b[2m 420 \u001b[0m\u001b[2m│   │   │   \u001b[0m)                                             \u001b[31m│\u001b[0m \u001b[2m                 \u001b[0m\n",
       "\u001b[2;36m                    \u001b[0m         \u001b[31m│\u001b[0m \u001b[31m❱ \u001b[0m 421 \u001b[2m│   │   \u001b[0mmeta = FileStore._read_yaml(experiment_dir, FileS \u001b[31m│\u001b[0m \u001b[2m                 \u001b[0m\n",
       "\u001b[2;36m                    \u001b[0m         \u001b[31m│\u001b[0m   \u001b[2m 422 \u001b[0m\u001b[2m│   │   \u001b[0mmeta[\u001b[33m\"\u001b[0m\u001b[33mtags\u001b[0m\u001b[33m\"\u001b[0m] = \u001b[96mself\u001b[0m.get_all_experiment_tags(exper \u001b[31m│\u001b[0m \u001b[2m                 \u001b[0m\n",
       "\u001b[2;36m                    \u001b[0m         \u001b[31m│\u001b[0m   \u001b[2m 423 \u001b[0m\u001b[2m│   │   \u001b[0mexperiment = _read_persisted_experiment_dict(meta \u001b[31m│\u001b[0m \u001b[2m                 \u001b[0m\n",
       "\u001b[2;36m                    \u001b[0m         \u001b[31m│\u001b[0m   \u001b[2m 424 \u001b[0m\u001b[2m│   │   \u001b[0m\u001b[94mif\u001b[0m experiment_id != experiment.experiment_id:     \u001b[31m│\u001b[0m \u001b[2m                 \u001b[0m\n",
       "\u001b[2;36m                    \u001b[0m         \u001b[31m│\u001b[0m                                                                  \u001b[31m│\u001b[0m \u001b[2m                 \u001b[0m\n",
       "\u001b[2;36m                    \u001b[0m         \u001b[31m│\u001b[0m \u001b[33mc:\\Users\\Admin\\miniconda3\\envs\\MlOps\\lib\\site-packages\\mlflow\\st\u001b[0m \u001b[31m│\u001b[0m \u001b[2m                 \u001b[0m\n",
       "\u001b[2;36m                    \u001b[0m         \u001b[31m│\u001b[0m \u001b[33more\\tracking\\file_store.py\u001b[0m:\u001b[94m1367\u001b[0m in \u001b[92m_read_yaml\u001b[0m                    \u001b[31m│\u001b[0m \u001b[2m                 \u001b[0m\n",
       "\u001b[2;36m                    \u001b[0m         \u001b[31m│\u001b[0m                                                                  \u001b[31m│\u001b[0m \u001b[2m                 \u001b[0m\n",
       "\u001b[2;36m                    \u001b[0m         \u001b[31m│\u001b[0m   \u001b[2m1364 \u001b[0m\u001b[2m│   │   │   │   \u001b[0mtime.sleep(\u001b[94m0.1\u001b[0m * (\u001b[94m3\u001b[0m - attempts_remaining) \u001b[31m│\u001b[0m \u001b[2m                 \u001b[0m\n",
       "\u001b[2;36m                    \u001b[0m         \u001b[31m│\u001b[0m   \u001b[2m1365 \u001b[0m\u001b[2m│   │   │   │   \u001b[0m\u001b[94mreturn\u001b[0m _read_helper(root, file_name, atte \u001b[31m│\u001b[0m \u001b[2m                 \u001b[0m\n",
       "\u001b[2;36m                    \u001b[0m         \u001b[31m│\u001b[0m   \u001b[2m1366 \u001b[0m\u001b[2m│   │   \u001b[0m                                                  \u001b[31m│\u001b[0m \u001b[2m                 \u001b[0m\n",
       "\u001b[2;36m                    \u001b[0m         \u001b[31m│\u001b[0m \u001b[31m❱ \u001b[0m1367 \u001b[2m│   │   \u001b[0m\u001b[94mreturn\u001b[0m _read_helper(root, file_name, attempts_rem \u001b[31m│\u001b[0m \u001b[2m                 \u001b[0m\n",
       "\u001b[2;36m                    \u001b[0m         \u001b[31m│\u001b[0m   \u001b[2m1368 \u001b[0m\u001b[2m│   \u001b[0m                                                      \u001b[31m│\u001b[0m \u001b[2m                 \u001b[0m\n",
       "\u001b[2;36m                    \u001b[0m         \u001b[31m│\u001b[0m   \u001b[2m1369 \u001b[0m\u001b[2m│   \u001b[0m\u001b[94mdef\u001b[0m \u001b[92m_get_traces_artifact_dir\u001b[0m(\u001b[96mself\u001b[0m, experiment_id, req \u001b[31m│\u001b[0m \u001b[2m                 \u001b[0m\n",
       "\u001b[2;36m                    \u001b[0m         \u001b[31m│\u001b[0m   \u001b[2m1370 \u001b[0m\u001b[2m│   │   \u001b[0m\u001b[94mreturn\u001b[0m append_to_uri_path(                        \u001b[31m│\u001b[0m \u001b[2m                 \u001b[0m\n",
       "\u001b[2;36m                    \u001b[0m         \u001b[31m│\u001b[0m                                                                  \u001b[31m│\u001b[0m \u001b[2m                 \u001b[0m\n",
       "\u001b[2;36m                    \u001b[0m         \u001b[31m│\u001b[0m \u001b[33mc:\\Users\\Admin\\miniconda3\\envs\\MlOps\\lib\\site-packages\\mlflow\\st\u001b[0m \u001b[31m│\u001b[0m \u001b[2m                 \u001b[0m\n",
       "\u001b[2;36m                    \u001b[0m         \u001b[31m│\u001b[0m \u001b[33more\\tracking\\file_store.py\u001b[0m:\u001b[94m1360\u001b[0m in \u001b[92m_read_helper\u001b[0m                  \u001b[31m│\u001b[0m \u001b[2m                 \u001b[0m\n",
       "\u001b[2;36m                    \u001b[0m         \u001b[31m│\u001b[0m                                                                  \u001b[31m│\u001b[0m \u001b[2m                 \u001b[0m\n",
       "\u001b[2;36m                    \u001b[0m         \u001b[31m│\u001b[0m   \u001b[2m1357 \u001b[0m\u001b[2;33m│   │   \u001b[0m\u001b[33m\"\"\"\u001b[0m                                               \u001b[31m│\u001b[0m \u001b[2m                 \u001b[0m\n",
       "\u001b[2;36m                    \u001b[0m         \u001b[31m│\u001b[0m   \u001b[2m1358 \u001b[0m\u001b[2m│   │   \u001b[0m                                                  \u001b[31m│\u001b[0m \u001b[2m                 \u001b[0m\n",
       "\u001b[2;36m                    \u001b[0m         \u001b[31m│\u001b[0m   \u001b[2m1359 \u001b[0m\u001b[2m│   │   \u001b[0m\u001b[94mdef\u001b[0m \u001b[92m_read_helper\u001b[0m(root, file_name, attempts_remain \u001b[31m│\u001b[0m \u001b[2m                 \u001b[0m\n",
       "\u001b[2;36m                    \u001b[0m         \u001b[31m│\u001b[0m \u001b[31m❱ \u001b[0m1360 \u001b[2m│   │   │   \u001b[0mresult = read_yaml(root, file_name)           \u001b[31m│\u001b[0m \u001b[2m                 \u001b[0m\n",
       "\u001b[2;36m                    \u001b[0m         \u001b[31m│\u001b[0m   \u001b[2m1361 \u001b[0m\u001b[2m│   │   │   \u001b[0m\u001b[94mif\u001b[0m result \u001b[95mis\u001b[0m \u001b[95mnot\u001b[0m \u001b[94mNone\u001b[0m \u001b[95mor\u001b[0m attempts_remaining = \u001b[31m│\u001b[0m \u001b[2m                 \u001b[0m\n",
       "\u001b[2;36m                    \u001b[0m         \u001b[31m│\u001b[0m   \u001b[2m1362 \u001b[0m\u001b[2m│   │   │   │   \u001b[0m\u001b[94mreturn\u001b[0m result                             \u001b[31m│\u001b[0m \u001b[2m                 \u001b[0m\n",
       "\u001b[2;36m                    \u001b[0m         \u001b[31m│\u001b[0m   \u001b[2m1363 \u001b[0m\u001b[2m│   │   │   \u001b[0m\u001b[94melse\u001b[0m:                                         \u001b[31m│\u001b[0m \u001b[2m                 \u001b[0m\n",
       "\u001b[2;36m                    \u001b[0m         \u001b[31m│\u001b[0m                                                                  \u001b[31m│\u001b[0m \u001b[2m                 \u001b[0m\n",
       "\u001b[2;36m                    \u001b[0m         \u001b[31m│\u001b[0m \u001b[33mc:\\Users\\Admin\\miniconda3\\envs\\MlOps\\lib\\site-packages\\mlflow\\ut\u001b[0m \u001b[31m│\u001b[0m \u001b[2m                 \u001b[0m\n",
       "\u001b[2;36m                    \u001b[0m         \u001b[31m│\u001b[0m \u001b[33mils\\file_utils.py\u001b[0m:\u001b[94m309\u001b[0m in \u001b[92mread_yaml\u001b[0m                               \u001b[31m│\u001b[0m \u001b[2m                 \u001b[0m\n",
       "\u001b[2;36m                    \u001b[0m         \u001b[31m│\u001b[0m                                                                  \u001b[31m│\u001b[0m \u001b[2m                 \u001b[0m\n",
       "\u001b[2;36m                    \u001b[0m         \u001b[31m│\u001b[0m   \u001b[2m 306 \u001b[0m\u001b[2m│   \u001b[0m                                                      \u001b[31m│\u001b[0m \u001b[2m                 \u001b[0m\n",
       "\u001b[2;36m                    \u001b[0m         \u001b[31m│\u001b[0m   \u001b[2m 307 \u001b[0m\u001b[2m│   \u001b[0mfile_path = os.path.join(root, file_name)             \u001b[31m│\u001b[0m \u001b[2m                 \u001b[0m\n",
       "\u001b[2;36m                    \u001b[0m         \u001b[31m│\u001b[0m   \u001b[2m 308 \u001b[0m\u001b[2m│   \u001b[0m\u001b[94mif\u001b[0m \u001b[95mnot\u001b[0m exists(file_path):                             \u001b[31m│\u001b[0m \u001b[2m                 \u001b[0m\n",
       "\u001b[2;36m                    \u001b[0m         \u001b[31m│\u001b[0m \u001b[31m❱ \u001b[0m 309 \u001b[2m│   │   \u001b[0m\u001b[94mraise\u001b[0m MissingConfigException(\u001b[33mf\u001b[0m\u001b[33m\"\u001b[0m\u001b[33mYaml file \u001b[0m\u001b[33m'\u001b[0m\u001b[33m{\u001b[0mfile_p \u001b[31m│\u001b[0m \u001b[2m                 \u001b[0m\n",
       "\u001b[2;36m                    \u001b[0m         \u001b[31m│\u001b[0m   \u001b[2m 310 \u001b[0m\u001b[2m│   \u001b[0m\u001b[94mwith\u001b[0m codecs.open(file_path, mode=\u001b[33m\"\u001b[0m\u001b[33mr\u001b[0m\u001b[33m\"\u001b[0m, encoding=ENCODI \u001b[31m│\u001b[0m \u001b[2m                 \u001b[0m\n",
       "\u001b[2;36m                    \u001b[0m         \u001b[31m│\u001b[0m   \u001b[2m 311 \u001b[0m\u001b[2m│   │   \u001b[0m\u001b[94mreturn\u001b[0m yaml.load(yaml_file, Loader=YamlSafeLoader \u001b[31m│\u001b[0m \u001b[2m                 \u001b[0m\n",
       "\u001b[2;36m                    \u001b[0m         \u001b[31m│\u001b[0m   \u001b[2m 312 \u001b[0m                                                          \u001b[31m│\u001b[0m \u001b[2m                 \u001b[0m\n",
       "\u001b[2;36m                    \u001b[0m         \u001b[31m╰──────────────────────────────────────────────────────────────────╯\u001b[0m \u001b[2m                 \u001b[0m\n",
       "\u001b[2;36m                    \u001b[0m         \u001b[1;91mMissingConfigException: \u001b[0mYaml file                                    \u001b[2m                 \u001b[0m\n",
       "\u001b[2;36m                    \u001b[0m         \u001b[32m'C:\\Users\\Admin\\Desktop\\onco-derm-ai\\mlruns\\312469223918544298\\meta.\u001b[0m \u001b[2m                 \u001b[0m\n",
       "\u001b[2;36m                    \u001b[0m         \u001b[32myaml'\u001b[0m does not exist.                                                \u001b[2m                 \u001b[0m\n"
      ]
     },
     "metadata": {},
     "output_type": "display_data"
    },
    {
     "data": {
      "text/html": [
       "<pre style=\"white-space:pre;overflow-x:auto;line-height:normal;font-family:Menlo,'DejaVu Sans Mono',consolas,'Courier New',monospace\"><span style=\"color: #7fbfbf; text-decoration-color: #7fbfbf\">                    </span><span style=\"color: #000080; text-decoration-color: #000080\">INFO    </span> Kedro is sending anonymous usage data with the sole purpose of improving <a href=\"file://c:\\Users\\Admin\\miniconda3\\envs\\MlOps\\lib\\site-packages\\kedro_telemetry\\plugin.py\" target=\"_blank\"><span style=\"color: #7f7f7f; text-decoration-color: #7f7f7f\">plugin.py</span></a><span style=\"color: #7f7f7f; text-decoration-color: #7f7f7f\">:</span><a href=\"file://c:\\Users\\Admin\\miniconda3\\envs\\MlOps\\lib\\site-packages\\kedro_telemetry\\plugin.py#233\" target=\"_blank\"><span style=\"color: #7f7f7f; text-decoration-color: #7f7f7f\">233</span></a>\n",
       "<span style=\"color: #7fbfbf; text-decoration-color: #7fbfbf\">                    </span>         the product. No personal data or IP addresses are stored on our side. If <span style=\"color: #7f7f7f; text-decoration-color: #7f7f7f\">             </span>\n",
       "<span style=\"color: #7fbfbf; text-decoration-color: #7fbfbf\">                    </span>         you want to opt out, set the `KEDRO_DISABLE_TELEMETRY` or `DO_NOT_TRACK` <span style=\"color: #7f7f7f; text-decoration-color: #7f7f7f\">             </span>\n",
       "<span style=\"color: #7fbfbf; text-decoration-color: #7fbfbf\">                    </span>         environment variables, or create a `.telemetry` file in the current      <span style=\"color: #7f7f7f; text-decoration-color: #7f7f7f\">             </span>\n",
       "<span style=\"color: #7fbfbf; text-decoration-color: #7fbfbf\">                    </span>         working directory with the contents `consent: false`. Read more at       <span style=\"color: #7f7f7f; text-decoration-color: #7f7f7f\">             </span>\n",
       "<span style=\"color: #7fbfbf; text-decoration-color: #7fbfbf\">                    </span>         <span style=\"color: #0000ff; text-decoration-color: #0000ff; text-decoration: underline\">https://docs.kedro.org/en/stable/configuration/telemetry.html</span>            <span style=\"color: #7f7f7f; text-decoration-color: #7f7f7f\">             </span>\n",
       "</pre>\n"
      ],
      "text/plain": [
       "\u001b[2;36m                   \u001b[0m\u001b[2;36m \u001b[0m\u001b[34mINFO    \u001b[0m Kedro is sending anonymous usage data with the sole purpose of improving \u001b]8;id=743726;file://c:\\Users\\Admin\\miniconda3\\envs\\MlOps\\lib\\site-packages\\kedro_telemetry\\plugin.py\u001b\\\u001b[2mplugin.py\u001b[0m\u001b]8;;\u001b\\\u001b[2m:\u001b[0m\u001b]8;id=454914;file://c:\\Users\\Admin\\miniconda3\\envs\\MlOps\\lib\\site-packages\\kedro_telemetry\\plugin.py#233\u001b\\\u001b[2m233\u001b[0m\u001b]8;;\u001b\\\n",
       "\u001b[2;36m                    \u001b[0m         the product. No personal data or IP addresses are stored on our side. If \u001b[2m             \u001b[0m\n",
       "\u001b[2;36m                    \u001b[0m         you want to opt out, set the `KEDRO_DISABLE_TELEMETRY` or `DO_NOT_TRACK` \u001b[2m             \u001b[0m\n",
       "\u001b[2;36m                    \u001b[0m         environment variables, or create a `.telemetry` file in the current      \u001b[2m             \u001b[0m\n",
       "\u001b[2;36m                    \u001b[0m         working directory with the contents `consent: false`. Read more at       \u001b[2m             \u001b[0m\n",
       "\u001b[2;36m                    \u001b[0m         \u001b[4;94mhttps://docs.kedro.org/en/stable/configuration/telemetry.html\u001b[0m            \u001b[2m             \u001b[0m\n"
      ]
     },
     "metadata": {},
     "output_type": "display_data"
    },
    {
     "data": {
      "text/html": [
       "<pre style=\"white-space:pre;overflow-x:auto;line-height:normal;font-family:Menlo,'DejaVu Sans Mono',consolas,'Courier New',monospace\"><span style=\"color: #7fbfbf; text-decoration-color: #7fbfbf\">[11/20/24 11:51:54] </span><span style=\"color: #000080; text-decoration-color: #000080\">INFO    </span> Kedro project onco-derm-ai                                             <a href=\"file://c:\\Users\\Admin\\miniconda3\\envs\\MlOps\\lib\\site-packages\\kedro\\ipython\\__init__.py\" target=\"_blank\"><span style=\"color: #7f7f7f; text-decoration-color: #7f7f7f\">__init__.py</span></a><span style=\"color: #7f7f7f; text-decoration-color: #7f7f7f\">:</span><a href=\"file://c:\\Users\\Admin\\miniconda3\\envs\\MlOps\\lib\\site-packages\\kedro\\ipython\\__init__.py#141\" target=\"_blank\"><span style=\"color: #7f7f7f; text-decoration-color: #7f7f7f\">141</span></a>\n",
       "</pre>\n"
      ],
      "text/plain": [
       "\u001b[2;36m[11/20/24 11:51:54]\u001b[0m\u001b[2;36m \u001b[0m\u001b[34mINFO    \u001b[0m Kedro project onco-derm-ai                                             \u001b]8;id=395542;file://c:\\Users\\Admin\\miniconda3\\envs\\MlOps\\lib\\site-packages\\kedro\\ipython\\__init__.py\u001b\\\u001b[2m__init__.py\u001b[0m\u001b]8;;\u001b\\\u001b[2m:\u001b[0m\u001b]8;id=498856;file://c:\\Users\\Admin\\miniconda3\\envs\\MlOps\\lib\\site-packages\\kedro\\ipython\\__init__.py#141\u001b\\\u001b[2m141\u001b[0m\u001b]8;;\u001b\\\n"
      ]
     },
     "metadata": {},
     "output_type": "display_data"
    },
    {
     "data": {
      "text/html": [
       "<pre style=\"white-space:pre;overflow-x:auto;line-height:normal;font-family:Menlo,'DejaVu Sans Mono',consolas,'Courier New',monospace\"><span style=\"color: #7fbfbf; text-decoration-color: #7fbfbf\">                    </span><span style=\"color: #000080; text-decoration-color: #000080\">INFO    </span> Defined global variable <span style=\"color: #008000; text-decoration-color: #008000\">'context'</span>, <span style=\"color: #008000; text-decoration-color: #008000\">'session'</span>, <span style=\"color: #008000; text-decoration-color: #008000\">'catalog'</span> and            <a href=\"file://c:\\Users\\Admin\\miniconda3\\envs\\MlOps\\lib\\site-packages\\kedro\\ipython\\__init__.py\" target=\"_blank\"><span style=\"color: #7f7f7f; text-decoration-color: #7f7f7f\">__init__.py</span></a><span style=\"color: #7f7f7f; text-decoration-color: #7f7f7f\">:</span><a href=\"file://c:\\Users\\Admin\\miniconda3\\envs\\MlOps\\lib\\site-packages\\kedro\\ipython\\__init__.py#142\" target=\"_blank\"><span style=\"color: #7f7f7f; text-decoration-color: #7f7f7f\">142</span></a>\n",
       "<span style=\"color: #7fbfbf; text-decoration-color: #7fbfbf\">                    </span>         <span style=\"color: #008000; text-decoration-color: #008000\">'pipelines'</span>                                                            <span style=\"color: #7f7f7f; text-decoration-color: #7f7f7f\">               </span>\n",
       "</pre>\n"
      ],
      "text/plain": [
       "\u001b[2;36m                   \u001b[0m\u001b[2;36m \u001b[0m\u001b[34mINFO    \u001b[0m Defined global variable \u001b[32m'context'\u001b[0m, \u001b[32m'session'\u001b[0m, \u001b[32m'catalog'\u001b[0m and            \u001b]8;id=310251;file://c:\\Users\\Admin\\miniconda3\\envs\\MlOps\\lib\\site-packages\\kedro\\ipython\\__init__.py\u001b\\\u001b[2m__init__.py\u001b[0m\u001b]8;;\u001b\\\u001b[2m:\u001b[0m\u001b]8;id=274546;file://c:\\Users\\Admin\\miniconda3\\envs\\MlOps\\lib\\site-packages\\kedro\\ipython\\__init__.py#142\u001b\\\u001b[2m142\u001b[0m\u001b]8;;\u001b\\\n",
       "\u001b[2;36m                    \u001b[0m         \u001b[32m'pipelines'\u001b[0m                                                            \u001b[2m               \u001b[0m\n"
      ]
     },
     "metadata": {},
     "output_type": "display_data"
    },
    {
     "data": {
      "text/html": [
       "<pre style=\"white-space:pre;overflow-x:auto;line-height:normal;font-family:Menlo,'DejaVu Sans Mono',consolas,'Courier New',monospace\"><span style=\"color: #7fbfbf; text-decoration-color: #7fbfbf\">                    </span><span style=\"color: #000080; text-decoration-color: #000080\">INFO    </span> Registered line magic <span style=\"color: #008000; text-decoration-color: #008000\">'run_viz'</span>                                        <a href=\"file://c:\\Users\\Admin\\miniconda3\\envs\\MlOps\\lib\\site-packages\\kedro\\ipython\\__init__.py\" target=\"_blank\"><span style=\"color: #7f7f7f; text-decoration-color: #7f7f7f\">__init__.py</span></a><span style=\"color: #7f7f7f; text-decoration-color: #7f7f7f\">:</span><a href=\"file://c:\\Users\\Admin\\miniconda3\\envs\\MlOps\\lib\\site-packages\\kedro\\ipython\\__init__.py#148\" target=\"_blank\"><span style=\"color: #7f7f7f; text-decoration-color: #7f7f7f\">148</span></a>\n",
       "</pre>\n"
      ],
      "text/plain": [
       "\u001b[2;36m                   \u001b[0m\u001b[2;36m \u001b[0m\u001b[34mINFO    \u001b[0m Registered line magic \u001b[32m'run_viz'\u001b[0m                                        \u001b]8;id=669640;file://c:\\Users\\Admin\\miniconda3\\envs\\MlOps\\lib\\site-packages\\kedro\\ipython\\__init__.py\u001b\\\u001b[2m__init__.py\u001b[0m\u001b]8;;\u001b\\\u001b[2m:\u001b[0m\u001b]8;id=642281;file://c:\\Users\\Admin\\miniconda3\\envs\\MlOps\\lib\\site-packages\\kedro\\ipython\\__init__.py#148\u001b\\\u001b[2m148\u001b[0m\u001b]8;;\u001b\\\n"
      ]
     },
     "metadata": {},
     "output_type": "display_data"
    }
   ],
   "source": [
    "# %reload_ext kedro.ipython"
   ]
  },
  {
   "cell_type": "code",
   "execution_count": 2,
   "metadata": {},
   "outputs": [
    {
     "ename": "AttributeError",
     "evalue": "'str' object has no attribute 'items'",
     "output_type": "error",
     "traceback": [
      "\u001b[1;31m---------------------------------------------------------------------------\u001b[0m",
      "\u001b[1;31mAttributeError\u001b[0m                            Traceback (most recent call last)",
      "Cell \u001b[1;32mIn[2], line 3\u001b[0m\n\u001b[0;32m      1\u001b[0m \u001b[38;5;28;01mfrom\u001b[39;00m \u001b[38;5;21;01mkedro\u001b[39;00m\u001b[38;5;21;01m.\u001b[39;00m\u001b[38;5;21;01mio\u001b[39;00m\u001b[38;5;21;01m.\u001b[39;00m\u001b[38;5;21;01mdata_catalog\u001b[39;00m \u001b[38;5;28;01mimport\u001b[39;00m DataCatalog\n\u001b[1;32m----> 3\u001b[0m catalog \u001b[38;5;241m=\u001b[39m \u001b[43mDataCatalog\u001b[49m\u001b[38;5;241;43m.\u001b[39;49m\u001b[43mfrom_config\u001b[49m\u001b[43m(\u001b[49m\u001b[38;5;124;43m\"\u001b[39;49m\u001b[38;5;124;43m../conf/base/catalog.yml\u001b[39;49m\u001b[38;5;124;43m\"\u001b[39;49m\u001b[43m)\u001b[49m\n",
      "File \u001b[1;32mc:\\Users\\Admin\\miniconda3\\envs\\MlOps\\lib\\site-packages\\kedro\\io\\data_catalog.py:314\u001b[0m, in \u001b[0;36mDataCatalog.from_config\u001b[1;34m(cls, catalog, credentials, load_versions, save_version)\u001b[0m\n\u001b[0;32m    311\u001b[0m load_versions \u001b[38;5;241m=\u001b[39m copy\u001b[38;5;241m.\u001b[39mdeepcopy(load_versions) \u001b[38;5;129;01mor\u001b[39;00m {}\n\u001b[0;32m    312\u001b[0m user_default \u001b[38;5;241m=\u001b[39m {}\n\u001b[1;32m--> 314\u001b[0m \u001b[38;5;28;01mfor\u001b[39;00m ds_name, ds_config \u001b[38;5;129;01min\u001b[39;00m \u001b[43mcatalog\u001b[49m\u001b[38;5;241;43m.\u001b[39;49m\u001b[43mitems\u001b[49m():\n\u001b[0;32m    315\u001b[0m     \u001b[38;5;28;01mif\u001b[39;00m \u001b[38;5;129;01mnot\u001b[39;00m \u001b[38;5;28misinstance\u001b[39m(ds_config, \u001b[38;5;28mdict\u001b[39m):\n\u001b[0;32m    316\u001b[0m         \u001b[38;5;28;01mraise\u001b[39;00m DatasetError(\n\u001b[0;32m    317\u001b[0m             \u001b[38;5;124mf\u001b[39m\u001b[38;5;124m\"\u001b[39m\u001b[38;5;124mCatalog entry \u001b[39m\u001b[38;5;124m'\u001b[39m\u001b[38;5;132;01m{\u001b[39;00mds_name\u001b[38;5;132;01m}\u001b[39;00m\u001b[38;5;124m'\u001b[39m\u001b[38;5;124m is not a valid dataset configuration. \u001b[39m\u001b[38;5;124m\"\u001b[39m\n\u001b[0;32m    318\u001b[0m             \u001b[38;5;124m\"\u001b[39m\u001b[38;5;130;01m\\n\u001b[39;00m\u001b[38;5;124mHint: If this catalog entry is intended for variable interpolation, \u001b[39m\u001b[38;5;124m\"\u001b[39m\n\u001b[0;32m    319\u001b[0m             \u001b[38;5;124m\"\u001b[39m\u001b[38;5;124mmake sure that the key is preceded by an underscore.\u001b[39m\u001b[38;5;124m\"\u001b[39m\n\u001b[0;32m    320\u001b[0m         )\n",
      "\u001b[1;31mAttributeError\u001b[0m: 'str' object has no attribute 'items'"
     ]
    }
   ],
   "source": [
    "from kedro.io.data_catalog import DataCatalog\n",
    "\n",
    "catalog = DataCatalog.from_config(\"../conf/base/catalog.yml\")"
   ]
  },
  {
   "cell_type": "code",
   "execution_count": 79,
   "metadata": {},
   "outputs": [
    {
     "data": {
      "text/html": [
       "<pre style=\"white-space:pre;overflow-x:auto;line-height:normal;font-family:Menlo,'DejaVu Sans Mono',consolas,'Courier New',monospace\"><span style=\"color: #7fbfbf; text-decoration-color: #7fbfbf\">[11/18/24 23:22:45] </span><span style=\"color: #000080; text-decoration-color: #000080\">INFO    </span> Saving data to <span style=\"color: #ff8700; text-decoration-color: #ff8700\">train_raw</span> <span style=\"font-weight: bold\">(</span>PickleDataset<span style=\"font-weight: bold\">)</span><span style=\"color: #808000; text-decoration-color: #808000\">...</span>                        <a href=\"file://c:\\Users\\Admin\\miniconda3\\envs\\MlOps\\lib\\site-packages\\kedro\\io\\data_catalog.py\" target=\"_blank\"><span style=\"color: #7f7f7f; text-decoration-color: #7f7f7f\">data_catalog.py</span></a><span style=\"color: #7f7f7f; text-decoration-color: #7f7f7f\">:</span><a href=\"file://c:\\Users\\Admin\\miniconda3\\envs\\MlOps\\lib\\site-packages\\kedro\\io\\data_catalog.py#581\" target=\"_blank\"><span style=\"color: #7f7f7f; text-decoration-color: #7f7f7f\">581</span></a>\n",
       "</pre>\n"
      ],
      "text/plain": [
       "\u001b[2;36m[11/18/24 23:22:45]\u001b[0m\u001b[2;36m \u001b[0m\u001b[34mINFO    \u001b[0m Saving data to \u001b[38;5;208mtrain_raw\u001b[0m \u001b[1m(\u001b[0mPickleDataset\u001b[1m)\u001b[0m\u001b[33m...\u001b[0m                        \u001b]8;id=442397;file://c:\\Users\\Admin\\miniconda3\\envs\\MlOps\\lib\\site-packages\\kedro\\io\\data_catalog.py\u001b\\\u001b[2mdata_catalog.py\u001b[0m\u001b]8;;\u001b\\\u001b[2m:\u001b[0m\u001b]8;id=280840;file://c:\\Users\\Admin\\miniconda3\\envs\\MlOps\\lib\\site-packages\\kedro\\io\\data_catalog.py#581\u001b\\\u001b[2m581\u001b[0m\u001b]8;;\u001b\\\n"
      ]
     },
     "metadata": {},
     "output_type": "display_data"
    },
    {
     "data": {
      "text/html": [
       "<pre style=\"white-space:pre;overflow-x:auto;line-height:normal;font-family:Menlo,'DejaVu Sans Mono',consolas,'Courier New',monospace\"><span style=\"color: #800000; text-decoration-color: #800000\">╭─────────────────────────────── </span><span style=\"color: #800000; text-decoration-color: #800000; font-weight: bold\">Traceback </span><span style=\"color: #bf7f7f; text-decoration-color: #bf7f7f; font-weight: bold\">(most recent call last)</span><span style=\"color: #800000; text-decoration-color: #800000\"> ────────────────────────────────╮</span>\n",
       "<span style=\"color: #800000; text-decoration-color: #800000\">│</span> in <span style=\"color: #00ff00; text-decoration-color: #00ff00\">&lt;module&gt;</span>:<span style=\"color: #0000ff; text-decoration-color: #0000ff\">1</span>                                                                                    <span style=\"color: #800000; text-decoration-color: #800000\">│</span>\n",
       "<span style=\"color: #800000; text-decoration-color: #800000\">│</span>                                                                                                  <span style=\"color: #800000; text-decoration-color: #800000\">│</span>\n",
       "<span style=\"color: #800000; text-decoration-color: #800000\">│</span> <span style=\"color: #800000; text-decoration-color: #800000\">❱ </span>1 catalog.save(<span style=\"color: #808000; text-decoration-color: #808000\">\"train_raw\"</span>, train_df)                                                          <span style=\"color: #800000; text-decoration-color: #800000\">│</span>\n",
       "<span style=\"color: #800000; text-decoration-color: #800000\">│</span>   <span style=\"color: #7f7f7f; text-decoration-color: #7f7f7f\">2 # catalog.save(\"test_raw\", test_df)</span>                                                          <span style=\"color: #800000; text-decoration-color: #800000\">│</span>\n",
       "<span style=\"color: #800000; text-decoration-color: #800000\">│</span>   <span style=\"color: #7f7f7f; text-decoration-color: #7f7f7f\">3 # catalog.save(\"val_raw\", val_df)</span>                                                            <span style=\"color: #800000; text-decoration-color: #800000\">│</span>\n",
       "<span style=\"color: #800000; text-decoration-color: #800000\">│</span>   <span style=\"color: #7f7f7f; text-decoration-color: #7f7f7f\">4 </span>                                                                                             <span style=\"color: #800000; text-decoration-color: #800000\">│</span>\n",
       "<span style=\"color: #800000; text-decoration-color: #800000\">│</span>                                                                                                  <span style=\"color: #800000; text-decoration-color: #800000\">│</span>\n",
       "<span style=\"color: #800000; text-decoration-color: #800000\">│</span> <span style=\"color: #808000; text-decoration-color: #808000\">c:\\Users\\Admin\\miniconda3\\envs\\MlOps\\lib\\site-packages\\kedro\\io\\data_catalog.py</span>:<span style=\"color: #0000ff; text-decoration-color: #0000ff\">588</span> in <span style=\"color: #00ff00; text-decoration-color: #00ff00\">save</span>      <span style=\"color: #800000; text-decoration-color: #800000\">│</span>\n",
       "<span style=\"color: #800000; text-decoration-color: #800000\">│</span>                                                                                                  <span style=\"color: #800000; text-decoration-color: #800000\">│</span>\n",
       "<span style=\"color: #800000; text-decoration-color: #800000\">│</span> <span style=\"color: #808000; text-decoration-color: #808000\">c:\\Users\\Admin\\miniconda3\\envs\\MlOps\\lib\\site-packages\\kedro\\io\\core.py</span>:<span style=\"color: #0000ff; text-decoration-color: #0000ff\">727</span> in <span style=\"color: #00ff00; text-decoration-color: #00ff00\">save</span>              <span style=\"color: #800000; text-decoration-color: #800000\">│</span>\n",
       "<span style=\"color: #800000; text-decoration-color: #800000\">│</span>                                                                                                  <span style=\"color: #800000; text-decoration-color: #800000\">│</span>\n",
       "<span style=\"color: #800000; text-decoration-color: #800000\">│</span> <span style=\"color: #808000; text-decoration-color: #808000\">c:\\Users\\Admin\\miniconda3\\envs\\MlOps\\lib\\site-packages\\kedro\\io\\core.py</span>:<span style=\"color: #0000ff; text-decoration-color: #0000ff\">249</span> in <span style=\"color: #00ff00; text-decoration-color: #00ff00\">save</span>              <span style=\"color: #800000; text-decoration-color: #800000\">│</span>\n",
       "<span style=\"color: #800000; text-decoration-color: #800000\">│</span>                                                                                                  <span style=\"color: #800000; text-decoration-color: #800000\">│</span>\n",
       "<span style=\"color: #800000; text-decoration-color: #800000\">│</span> <span style=\"color: #808000; text-decoration-color: #808000\">c:\\Users\\Admin\\miniconda3\\envs\\MlOps\\lib\\site-packages\\kedro_datasets\\pickle\\pickle_dataset.py</span>:<span style=\"color: #0000ff; text-decoration-color: #0000ff\">2</span> <span style=\"color: #800000; text-decoration-color: #800000\">│</span>\n",
       "<span style=\"color: #800000; text-decoration-color: #800000\">│</span> <span style=\"color: #0000ff; text-decoration-color: #0000ff\">25</span> in <span style=\"color: #00ff00; text-decoration-color: #00ff00\">_save</span>                                                                                      <span style=\"color: #800000; text-decoration-color: #800000\">│</span>\n",
       "<span style=\"color: #800000; text-decoration-color: #800000\">│</span>                                                                                                  <span style=\"color: #800000; text-decoration-color: #800000\">│</span>\n",
       "<span style=\"color: #800000; text-decoration-color: #800000\">│</span> <span style=\"color: #808000; text-decoration-color: #808000\">c:\\Users\\Admin\\miniconda3\\envs\\MlOps\\lib\\site-packages\\kedro\\io\\core.py</span>:<span style=\"color: #0000ff; text-decoration-color: #0000ff\">704</span> in <span style=\"color: #00ff00; text-decoration-color: #00ff00\">_get_save_path</span>    <span style=\"color: #800000; text-decoration-color: #800000\">│</span>\n",
       "<span style=\"color: #800000; text-decoration-color: #800000\">╰──────────────────────────────────────────────────────────────────────────────────────────────────╯</span>\n",
       "<span style=\"color: #ff0000; text-decoration-color: #ff0000; font-weight: bold\">DatasetError: </span>Save path \n",
       "<span style=\"color: #008000; text-decoration-color: #008000\">'C:/Users/Admin/Desktop/onco-derm-ai/data/01_raw/train.pkl/2024-11-18T17.50.33.688Z/train.pkl'</span> for \n",
       "<span style=\"color: #800080; text-decoration-color: #800080; font-weight: bold\">PickleDataset</span><span style=\"font-weight: bold\">(</span><span style=\"color: #808000; text-decoration-color: #808000\">backend</span>=<span style=\"color: #800080; text-decoration-color: #800080\">pickle</span>, <span style=\"color: #808000; text-decoration-color: #808000\">filepath</span>=<span style=\"color: #800080; text-decoration-color: #800080\">C</span>:<span style=\"color: #800080; text-decoration-color: #800080\">/Users/Admin/Desktop/onco-derm-ai/data/01_raw/</span><span style=\"color: #ff00ff; text-decoration-color: #ff00ff\">train.pkl</span>, <span style=\"color: #808000; text-decoration-color: #808000\">load_args</span>=<span style=\"font-weight: bold\">{}</span>, \n",
       "<span style=\"color: #808000; text-decoration-color: #808000\">protocol</span>=<span style=\"color: #800080; text-decoration-color: #800080\">file</span>, <span style=\"color: #808000; text-decoration-color: #808000\">save_args</span>=<span style=\"font-weight: bold\">{}</span>, <span style=\"color: #808000; text-decoration-color: #808000\">version</span>=<span style=\"color: #800080; text-decoration-color: #800080; font-weight: bold\">Version</span><span style=\"font-weight: bold\">(</span><span style=\"color: #808000; text-decoration-color: #808000\">load</span>=<span style=\"color: #800080; text-decoration-color: #800080; font-style: italic\">None</span>, <span style=\"color: #808000; text-decoration-color: #808000\">save</span>=<span style=\"color: #008000; text-decoration-color: #008000\">'2024-11-18T17.50.33.688Z'</span><span style=\"font-weight: bold\">))</span> must not exist if \n",
       "versioning is enabled.\n",
       "</pre>\n"
      ],
      "text/plain": [
       "\u001b[31m╭─\u001b[0m\u001b[31m──────────────────────────────\u001b[0m\u001b[31m \u001b[0m\u001b[1;31mTraceback \u001b[0m\u001b[1;2;31m(most recent call last)\u001b[0m\u001b[31m \u001b[0m\u001b[31m───────────────────────────────\u001b[0m\u001b[31m─╮\u001b[0m\n",
       "\u001b[31m│\u001b[0m in \u001b[92m<module>\u001b[0m:\u001b[94m1\u001b[0m                                                                                    \u001b[31m│\u001b[0m\n",
       "\u001b[31m│\u001b[0m                                                                                                  \u001b[31m│\u001b[0m\n",
       "\u001b[31m│\u001b[0m \u001b[31m❱ \u001b[0m1 catalog.save(\u001b[33m\"\u001b[0m\u001b[33mtrain_raw\u001b[0m\u001b[33m\"\u001b[0m, train_df)                                                          \u001b[31m│\u001b[0m\n",
       "\u001b[31m│\u001b[0m   \u001b[2m2 \u001b[0m\u001b[2m# catalog.save(\"test_raw\", test_df)\u001b[0m                                                          \u001b[31m│\u001b[0m\n",
       "\u001b[31m│\u001b[0m   \u001b[2m3 \u001b[0m\u001b[2m# catalog.save(\"val_raw\", val_df)\u001b[0m                                                            \u001b[31m│\u001b[0m\n",
       "\u001b[31m│\u001b[0m   \u001b[2m4 \u001b[0m                                                                                             \u001b[31m│\u001b[0m\n",
       "\u001b[31m│\u001b[0m                                                                                                  \u001b[31m│\u001b[0m\n",
       "\u001b[31m│\u001b[0m \u001b[33mc:\\Users\\Admin\\miniconda3\\envs\\MlOps\\lib\\site-packages\\kedro\\io\\data_catalog.py\u001b[0m:\u001b[94m588\u001b[0m in \u001b[92msave\u001b[0m      \u001b[31m│\u001b[0m\n",
       "\u001b[31m│\u001b[0m                                                                                                  \u001b[31m│\u001b[0m\n",
       "\u001b[31m│\u001b[0m \u001b[33mc:\\Users\\Admin\\miniconda3\\envs\\MlOps\\lib\\site-packages\\kedro\\io\\core.py\u001b[0m:\u001b[94m727\u001b[0m in \u001b[92msave\u001b[0m              \u001b[31m│\u001b[0m\n",
       "\u001b[31m│\u001b[0m                                                                                                  \u001b[31m│\u001b[0m\n",
       "\u001b[31m│\u001b[0m \u001b[33mc:\\Users\\Admin\\miniconda3\\envs\\MlOps\\lib\\site-packages\\kedro\\io\\core.py\u001b[0m:\u001b[94m249\u001b[0m in \u001b[92msave\u001b[0m              \u001b[31m│\u001b[0m\n",
       "\u001b[31m│\u001b[0m                                                                                                  \u001b[31m│\u001b[0m\n",
       "\u001b[31m│\u001b[0m \u001b[33mc:\\Users\\Admin\\miniconda3\\envs\\MlOps\\lib\\site-packages\\kedro_datasets\\pickle\\pickle_dataset.py\u001b[0m:\u001b[94m2\u001b[0m \u001b[31m│\u001b[0m\n",
       "\u001b[31m│\u001b[0m \u001b[94m25\u001b[0m in \u001b[92m_save\u001b[0m                                                                                      \u001b[31m│\u001b[0m\n",
       "\u001b[31m│\u001b[0m                                                                                                  \u001b[31m│\u001b[0m\n",
       "\u001b[31m│\u001b[0m \u001b[33mc:\\Users\\Admin\\miniconda3\\envs\\MlOps\\lib\\site-packages\\kedro\\io\\core.py\u001b[0m:\u001b[94m704\u001b[0m in \u001b[92m_get_save_path\u001b[0m    \u001b[31m│\u001b[0m\n",
       "\u001b[31m╰──────────────────────────────────────────────────────────────────────────────────────────────────╯\u001b[0m\n",
       "\u001b[1;91mDatasetError: \u001b[0mSave path \n",
       "\u001b[32m'C:/Users/Admin/Desktop/onco-derm-ai/data/01_raw/train.pkl/2024-11-18T17.50.33.688Z/train.pkl'\u001b[0m for \n",
       "\u001b[1;35mPickleDataset\u001b[0m\u001b[1m(\u001b[0m\u001b[33mbackend\u001b[0m=\u001b[35mpickle\u001b[0m, \u001b[33mfilepath\u001b[0m=\u001b[35mC\u001b[0m:\u001b[35m/Users/Admin/Desktop/onco-derm-ai/data/01_raw/\u001b[0m\u001b[95mtrain.pkl\u001b[0m, \u001b[33mload_args\u001b[0m=\u001b[1m{\u001b[0m\u001b[1m}\u001b[0m, \n",
       "\u001b[33mprotocol\u001b[0m=\u001b[35mfile\u001b[0m, \u001b[33msave_args\u001b[0m=\u001b[1m{\u001b[0m\u001b[1m}\u001b[0m, \u001b[33mversion\u001b[0m=\u001b[1;35mVersion\u001b[0m\u001b[1m(\u001b[0m\u001b[33mload\u001b[0m=\u001b[3;35mNone\u001b[0m, \u001b[33msave\u001b[0m=\u001b[32m'2024-11-18T17.50.33.688Z'\u001b[0m\u001b[1m)\u001b[0m\u001b[1m)\u001b[0m must not exist if \n",
       "versioning is enabled.\n"
      ]
     },
     "metadata": {},
     "output_type": "display_data"
    }
   ],
   "source": [
    "catalog.save(\"train_raw\", train_df)\n",
    "# catalog.save(\"test_raw\", test_df)\n",
    "# catalog.save(\"val_raw\", val_df)"
   ]
  },
  {
   "cell_type": "code",
   "execution_count": 7,
   "metadata": {},
   "outputs": [
    {
     "data": {
      "text/html": [
       "<pre style=\"white-space:pre;overflow-x:auto;line-height:normal;font-family:Menlo,'DejaVu Sans Mono',consolas,'Courier New',monospace\"><span style=\"color: #7fbfbf; text-decoration-color: #7fbfbf\">[11/20/24 11:52:04] </span><span style=\"color: #000080; text-decoration-color: #000080\">INFO    </span> Loading data from <span style=\"color: #ff8700; text-decoration-color: #ff8700\">train_raw</span> <span style=\"font-weight: bold\">(</span>PickleDataset<span style=\"font-weight: bold\">)</span><span style=\"color: #808000; text-decoration-color: #808000\">...</span>                     <a href=\"file://c:\\Users\\Admin\\miniconda3\\envs\\MlOps\\lib\\site-packages\\kedro\\io\\data_catalog.py\" target=\"_blank\"><span style=\"color: #7f7f7f; text-decoration-color: #7f7f7f\">data_catalog.py</span></a><span style=\"color: #7f7f7f; text-decoration-color: #7f7f7f\">:</span><a href=\"file://c:\\Users\\Admin\\miniconda3\\envs\\MlOps\\lib\\site-packages\\kedro\\io\\data_catalog.py#539\" target=\"_blank\"><span style=\"color: #7f7f7f; text-decoration-color: #7f7f7f\">539</span></a>\n",
       "</pre>\n"
      ],
      "text/plain": [
       "\u001b[2;36m[11/20/24 11:52:04]\u001b[0m\u001b[2;36m \u001b[0m\u001b[34mINFO    \u001b[0m Loading data from \u001b[38;5;208mtrain_raw\u001b[0m \u001b[1m(\u001b[0mPickleDataset\u001b[1m)\u001b[0m\u001b[33m...\u001b[0m                     \u001b]8;id=147188;file://c:\\Users\\Admin\\miniconda3\\envs\\MlOps\\lib\\site-packages\\kedro\\io\\data_catalog.py\u001b\\\u001b[2mdata_catalog.py\u001b[0m\u001b]8;;\u001b\\\u001b[2m:\u001b[0m\u001b]8;id=528793;file://c:\\Users\\Admin\\miniconda3\\envs\\MlOps\\lib\\site-packages\\kedro\\io\\data_catalog.py#539\u001b\\\u001b[2m539\u001b[0m\u001b]8;;\u001b\\\n"
      ]
     },
     "metadata": {},
     "output_type": "display_data"
    }
   ],
   "source": [
    "df = catalog.load(\"train_raw\")"
   ]
  },
  {
   "cell_type": "code",
   "execution_count": null,
   "metadata": {},
   "outputs": [
    {
     "data": {
      "text/html": [
       "<pre style=\"white-space:pre;overflow-x:auto;line-height:normal;font-family:Menlo,'DejaVu Sans Mono',consolas,'Courier New',monospace\"></pre>\n"
      ],
      "text/plain": []
     },
     "metadata": {},
     "output_type": "display_data"
    },
    {
     "data": {
      "text/html": [
       "<div>\n",
       "<style scoped>\n",
       "    .dataframe tbody tr th:only-of-type {\n",
       "        vertical-align: middle;\n",
       "    }\n",
       "\n",
       "    .dataframe tbody tr th {\n",
       "        vertical-align: top;\n",
       "    }\n",
       "\n",
       "    .dataframe thead th {\n",
       "        text-align: right;\n",
       "    }\n",
       "</style>\n",
       "<table border=\"1\" class=\"dataframe\">\n",
       "  <thead>\n",
       "    <tr style=\"text-align: right;\">\n",
       "      <th></th>\n",
       "      <th>id</th>\n",
       "      <th>image</th>\n",
       "      <th>label</th>\n",
       "    </tr>\n",
       "  </thead>\n",
       "  <tbody>\n",
       "    <tr>\n",
       "      <th>0</th>\n",
       "      <td>train_0</td>\n",
       "      <td>[[[158, 111, 117], [161, 116, 121], [164, 121,...</td>\n",
       "      <td>[0]</td>\n",
       "    </tr>\n",
       "    <tr>\n",
       "      <th>1</th>\n",
       "      <td>train_1</td>\n",
       "      <td>[[[230, 111, 105], [226, 107, 99], [225, 106, ...</td>\n",
       "      <td>[5]</td>\n",
       "    </tr>\n",
       "    <tr>\n",
       "      <th>2</th>\n",
       "      <td>train_2</td>\n",
       "      <td>[[[229, 156, 173], [229, 156, 173], [227, 156,...</td>\n",
       "      <td>[5]</td>\n",
       "    </tr>\n",
       "    <tr>\n",
       "      <th>3</th>\n",
       "      <td>train_3</td>\n",
       "      <td>[[[228, 127, 115], [224, 126, 113], [223, 125,...</td>\n",
       "      <td>[5]</td>\n",
       "    </tr>\n",
       "    <tr>\n",
       "      <th>4</th>\n",
       "      <td>train_4</td>\n",
       "      <td>[[[216, 188, 187], [217, 189, 188], [220, 192,...</td>\n",
       "      <td>[4]</td>\n",
       "    </tr>\n",
       "    <tr>\n",
       "      <th>...</th>\n",
       "      <td>...</td>\n",
       "      <td>...</td>\n",
       "      <td>...</td>\n",
       "    </tr>\n",
       "    <tr>\n",
       "      <th>7002</th>\n",
       "      <td>train_7002</td>\n",
       "      <td>[[[201, 127, 144], [199, 125, 142], [201, 124,...</td>\n",
       "      <td>[5]</td>\n",
       "    </tr>\n",
       "    <tr>\n",
       "      <th>7003</th>\n",
       "      <td>train_7003</td>\n",
       "      <td>[[[228, 122, 136], [229, 123, 137], [231, 126,...</td>\n",
       "      <td>[5]</td>\n",
       "    </tr>\n",
       "    <tr>\n",
       "      <th>7004</th>\n",
       "      <td>train_7004</td>\n",
       "      <td>[[[20, 18, 32], [54, 52, 66], [95, 94, 108], [...</td>\n",
       "      <td>[2]</td>\n",
       "    </tr>\n",
       "    <tr>\n",
       "      <th>7005</th>\n",
       "      <td>train_7005</td>\n",
       "      <td>[[[171, 141, 177], [172, 142, 178], [175, 143,...</td>\n",
       "      <td>[5]</td>\n",
       "    </tr>\n",
       "    <tr>\n",
       "      <th>7006</th>\n",
       "      <td>train_7006</td>\n",
       "      <td>[[[239, 156, 176], [235, 152, 172], [231, 149,...</td>\n",
       "      <td>[5]</td>\n",
       "    </tr>\n",
       "  </tbody>\n",
       "</table>\n",
       "<p>7007 rows × 3 columns</p>\n",
       "</div>"
      ],
      "text/plain": [
       "\n",
       "              id                                              image label\n",
       "\u001b[1;36m0\u001b[0m        train_0  \u001b[1m[\u001b[0m\u001b[1m[\u001b[0m\u001b[1m[\u001b[0m\u001b[1;36m158\u001b[0m, \u001b[1;36m111\u001b[0m, \u001b[1;36m117\u001b[0m\u001b[1m]\u001b[0m, \u001b[1m[\u001b[0m\u001b[1;36m161\u001b[0m, \u001b[1;36m116\u001b[0m, \u001b[1;36m121\u001b[0m\u001b[1m]\u001b[0m, \u001b[1m[\u001b[0m\u001b[1;36m164\u001b[0m, \u001b[1;36m121\u001b[0m,\u001b[33m...\u001b[0m   \u001b[1m[\u001b[0m\u001b[1;36m0\u001b[0m\u001b[1m]\u001b[0m\n",
       "\u001b[1;36m1\u001b[0m        train_1  \u001b[1m[\u001b[0m\u001b[1m[\u001b[0m\u001b[1m[\u001b[0m\u001b[1;36m230\u001b[0m, \u001b[1;36m111\u001b[0m, \u001b[1;36m105\u001b[0m\u001b[1m]\u001b[0m, \u001b[1m[\u001b[0m\u001b[1;36m226\u001b[0m, \u001b[1;36m107\u001b[0m, \u001b[1;36m99\u001b[0m\u001b[1m]\u001b[0m, \u001b[1m[\u001b[0m\u001b[1;36m225\u001b[0m, \u001b[1;36m106\u001b[0m, \u001b[33m...\u001b[0m   \u001b[1m[\u001b[0m\u001b[1;36m5\u001b[0m\u001b[1m]\u001b[0m\n",
       "\u001b[1;36m2\u001b[0m        train_2  \u001b[1m[\u001b[0m\u001b[1m[\u001b[0m\u001b[1m[\u001b[0m\u001b[1;36m229\u001b[0m, \u001b[1;36m156\u001b[0m, \u001b[1;36m173\u001b[0m\u001b[1m]\u001b[0m, \u001b[1m[\u001b[0m\u001b[1;36m229\u001b[0m, \u001b[1;36m156\u001b[0m, \u001b[1;36m173\u001b[0m\u001b[1m]\u001b[0m, \u001b[1m[\u001b[0m\u001b[1;36m227\u001b[0m, \u001b[1;36m156\u001b[0m,\u001b[33m...\u001b[0m   \u001b[1m[\u001b[0m\u001b[1;36m5\u001b[0m\u001b[1m]\u001b[0m\n",
       "\u001b[1;36m3\u001b[0m        train_3  \u001b[1m[\u001b[0m\u001b[1m[\u001b[0m\u001b[1m[\u001b[0m\u001b[1;36m228\u001b[0m, \u001b[1;36m127\u001b[0m, \u001b[1;36m115\u001b[0m\u001b[1m]\u001b[0m, \u001b[1m[\u001b[0m\u001b[1;36m224\u001b[0m, \u001b[1;36m126\u001b[0m, \u001b[1;36m113\u001b[0m\u001b[1m]\u001b[0m, \u001b[1m[\u001b[0m\u001b[1;36m223\u001b[0m, \u001b[1;36m125\u001b[0m,\u001b[33m...\u001b[0m   \u001b[1m[\u001b[0m\u001b[1;36m5\u001b[0m\u001b[1m]\u001b[0m\n",
       "\u001b[1;36m4\u001b[0m        train_4  \u001b[1m[\u001b[0m\u001b[1m[\u001b[0m\u001b[1m[\u001b[0m\u001b[1;36m216\u001b[0m, \u001b[1;36m188\u001b[0m, \u001b[1;36m187\u001b[0m\u001b[1m]\u001b[0m, \u001b[1m[\u001b[0m\u001b[1;36m217\u001b[0m, \u001b[1;36m189\u001b[0m, \u001b[1;36m188\u001b[0m\u001b[1m]\u001b[0m, \u001b[1m[\u001b[0m\u001b[1;36m220\u001b[0m, \u001b[1;36m192\u001b[0m,\u001b[33m...\u001b[0m   \u001b[1m[\u001b[0m\u001b[1;36m4\u001b[0m\u001b[1m]\u001b[0m\n",
       "\u001b[33m...\u001b[0m          \u001b[33m...\u001b[0m                                                \u001b[33m...\u001b[0m   \u001b[33m...\u001b[0m\n",
       "\u001b[1;36m7002\u001b[0m  train_7002  \u001b[1m[\u001b[0m\u001b[1m[\u001b[0m\u001b[1m[\u001b[0m\u001b[1;36m201\u001b[0m, \u001b[1;36m127\u001b[0m, \u001b[1;36m144\u001b[0m\u001b[1m]\u001b[0m, \u001b[1m[\u001b[0m\u001b[1;36m199\u001b[0m, \u001b[1;36m125\u001b[0m, \u001b[1;36m142\u001b[0m\u001b[1m]\u001b[0m, \u001b[1m[\u001b[0m\u001b[1;36m201\u001b[0m, \u001b[1;36m124\u001b[0m,\u001b[33m...\u001b[0m   \u001b[1m[\u001b[0m\u001b[1;36m5\u001b[0m\u001b[1m]\u001b[0m\n",
       "\u001b[1;36m7003\u001b[0m  train_7003  \u001b[1m[\u001b[0m\u001b[1m[\u001b[0m\u001b[1m[\u001b[0m\u001b[1;36m228\u001b[0m, \u001b[1;36m122\u001b[0m, \u001b[1;36m136\u001b[0m\u001b[1m]\u001b[0m, \u001b[1m[\u001b[0m\u001b[1;36m229\u001b[0m, \u001b[1;36m123\u001b[0m, \u001b[1;36m137\u001b[0m\u001b[1m]\u001b[0m, \u001b[1m[\u001b[0m\u001b[1;36m231\u001b[0m, \u001b[1;36m126\u001b[0m,\u001b[33m...\u001b[0m   \u001b[1m[\u001b[0m\u001b[1;36m5\u001b[0m\u001b[1m]\u001b[0m\n",
       "\u001b[1;36m7004\u001b[0m  train_7004  \u001b[1m[\u001b[0m\u001b[1m[\u001b[0m\u001b[1m[\u001b[0m\u001b[1;36m20\u001b[0m, \u001b[1;36m18\u001b[0m, \u001b[1;36m32\u001b[0m\u001b[1m]\u001b[0m, \u001b[1m[\u001b[0m\u001b[1;36m54\u001b[0m, \u001b[1;36m52\u001b[0m, \u001b[1;36m66\u001b[0m\u001b[1m]\u001b[0m, \u001b[1m[\u001b[0m\u001b[1;36m95\u001b[0m, \u001b[1;36m94\u001b[0m, \u001b[1;36m108\u001b[0m\u001b[1m]\u001b[0m, \u001b[1m[\u001b[0m\u001b[33m...\u001b[0m   \u001b[1m[\u001b[0m\u001b[1;36m2\u001b[0m\u001b[1m]\u001b[0m\n",
       "\u001b[1;36m7005\u001b[0m  train_7005  \u001b[1m[\u001b[0m\u001b[1m[\u001b[0m\u001b[1m[\u001b[0m\u001b[1;36m171\u001b[0m, \u001b[1;36m141\u001b[0m, \u001b[1;36m177\u001b[0m\u001b[1m]\u001b[0m, \u001b[1m[\u001b[0m\u001b[1;36m172\u001b[0m, \u001b[1;36m142\u001b[0m, \u001b[1;36m178\u001b[0m\u001b[1m]\u001b[0m, \u001b[1m[\u001b[0m\u001b[1;36m175\u001b[0m, \u001b[1;36m143\u001b[0m,\u001b[33m...\u001b[0m   \u001b[1m[\u001b[0m\u001b[1;36m5\u001b[0m\u001b[1m]\u001b[0m\n",
       "\u001b[1;36m7006\u001b[0m  train_7006  \u001b[1m[\u001b[0m\u001b[1m[\u001b[0m\u001b[1m[\u001b[0m\u001b[1;36m239\u001b[0m, \u001b[1;36m156\u001b[0m, \u001b[1;36m176\u001b[0m\u001b[1m]\u001b[0m, \u001b[1m[\u001b[0m\u001b[1;36m235\u001b[0m, \u001b[1;36m152\u001b[0m, \u001b[1;36m172\u001b[0m\u001b[1m]\u001b[0m, \u001b[1m[\u001b[0m\u001b[1;36m231\u001b[0m, \u001b[1;36m149\u001b[0m,\u001b[33m...\u001b[0m   \u001b[1m[\u001b[0m\u001b[1;36m5\u001b[0m\u001b[1m]\u001b[0m\n",
       "\n",
       "\u001b[1m[\u001b[0m\u001b[1;36m7007\u001b[0m rows x \u001b[1;36m3\u001b[0m columns\u001b[1m]\u001b[0m"
      ]
     },
     "execution_count": 8,
     "metadata": {},
     "output_type": "execute_result"
    }
   ],
   "source": [
    "# df"
   ]
  },
  {
   "cell_type": "code",
   "execution_count": null,
   "metadata": {},
   "outputs": [
    {
     "data": {
      "text/html": [
       "<pre style=\"white-space:pre;overflow-x:auto;line-height:normal;font-family:Menlo,'DejaVu Sans Mono',consolas,'Courier New',monospace\"></pre>\n"
      ],
      "text/plain": []
     },
     "metadata": {},
     "output_type": "display_data"
    },
    {
     "data": {
      "text/plain": [
       "\u001b[1m(\u001b[0m\u001b[1;36m28\u001b[0m, \u001b[1;36m28\u001b[0m, \u001b[1;36m3\u001b[0m\u001b[1m)\u001b[0m"
      ]
     },
     "execution_count": 9,
     "metadata": {},
     "output_type": "execute_result"
    }
   ],
   "source": [
    "df[\"image\"][0].shape"
   ]
  },
  {
   "cell_type": "code",
   "execution_count": 82,
   "metadata": {},
   "outputs": [],
   "source": [
    "import torch\n",
    "\n",
    "device = torch.device(\"cuda\" if torch.cuda.is_available() else \"cpu\")"
   ]
  },
  {
   "cell_type": "code",
   "execution_count": 2,
   "metadata": {},
   "outputs": [
    {
     "data": {
      "text/plain": [
       "device(type='cuda')"
      ]
     },
     "execution_count": 2,
     "metadata": {},
     "output_type": "execute_result"
    }
   ],
   "source": [
    "device"
   ]
  },
  {
   "cell_type": "code",
   "execution_count": 42,
   "metadata": {},
   "outputs": [],
   "source": [
    "import pandas as pd\n",
    "from PIL import Image\n",
    "\n",
    "data_augmentation = transforms.Compose(\n",
    "    [\n",
    "        transforms.RandomHorizontalFlip(p=0.75),\n",
    "        transforms.RandomVerticalFlip(p=0.75),\n",
    "        transforms.RandomRotation(degrees=30),\n",
    "        transforms.ColorJitter(brightness=0.2, contrast=0.2, saturation=0.2, hue=0.1),\n",
    "        transforms.ToTensor(),\n",
    "    ]\n",
    ")\n",
    "\n",
    "\n",
    "def augment_and_add_rows(original_df, augment_fn, num_augmented_per_image):\n",
    "    \"\"\"\n",
    "    Augments the images in the DataFrame and appends the augmented rows.\n",
    "\n",
    "    Args:\n",
    "        original_df (pd.DataFrame): Original DataFrame containing images and metadata.\n",
    "        augment_fn (callable): Augmentation function to apply.\n",
    "        num_augmented_per_image (int): Number of augmented images to create for each original image.\n",
    "\n",
    "    Returns:\n",
    "        pd.DataFrame: DataFrame with new augmented rows added.\n",
    "    \"\"\"\n",
    "    augmented_rows = []\n",
    "\n",
    "    for idx, row in original_df.iterrows():\n",
    "        original_image = row[\"image\"]\n",
    "        label = row[\"label\"]\n",
    "        image_id = row[\"id\"]\n",
    "\n",
    "        # Convert image array to PIL Image\n",
    "        pil_image = Image.fromarray(np.array(original_image, dtype=np.uint8))\n",
    "\n",
    "        for i in range(num_augmented_per_image):\n",
    "            # Apply augmentations\n",
    "            augmented_image = augment_fn(pil_image)\n",
    "            # Convert back to numpy array for storage\n",
    "            augmented_array = np.array(augmented_image.permute(1, 2, 0) * 255).astype(\n",
    "                np.uint8\n",
    "            )\n",
    "\n",
    "            # Create a new unique ID for the augmented image\n",
    "            new_id = f\"{image_id}_aug_{i}\"\n",
    "\n",
    "            # Add the new row\n",
    "            augmented_rows.append(\n",
    "                {\"id\": new_id, \"image\": augmented_array, \"label\": label}\n",
    "            )\n",
    "\n",
    "    # Convert augmented rows to a DataFrame\n",
    "    augmented_df = pd.DataFrame(augmented_rows)\n",
    "\n",
    "    # Append the augmented DataFrame to the original\n",
    "    return pd.concat([original_df, augmented_df], ignore_index=True)"
   ]
  },
  {
   "cell_type": "code",
   "execution_count": null,
   "metadata": {},
   "outputs": [
    {
     "data": {
      "text/html": [
       "<pre style=\"white-space:pre;overflow-x:auto;line-height:normal;font-family:Menlo,'DejaVu Sans Mono',consolas,'Courier New',monospace\"></pre>\n"
      ],
      "text/plain": []
     },
     "metadata": {},
     "output_type": "display_data"
    },
    {
     "data": {
      "text/html": [
       "<div>\n",
       "<style scoped>\n",
       "    .dataframe tbody tr th:only-of-type {\n",
       "        vertical-align: middle;\n",
       "    }\n",
       "\n",
       "    .dataframe tbody tr th {\n",
       "        vertical-align: top;\n",
       "    }\n",
       "\n",
       "    .dataframe thead th {\n",
       "        text-align: right;\n",
       "    }\n",
       "</style>\n",
       "<table border=\"1\" class=\"dataframe\">\n",
       "  <thead>\n",
       "    <tr style=\"text-align: right;\">\n",
       "      <th></th>\n",
       "      <th>id</th>\n",
       "      <th>image</th>\n",
       "      <th>label</th>\n",
       "    </tr>\n",
       "  </thead>\n",
       "  <tbody>\n",
       "    <tr>\n",
       "      <th>0</th>\n",
       "      <td>train_0</td>\n",
       "      <td>[[[158, 111, 117], [161, 116, 121], [164, 121,...</td>\n",
       "      <td>[0]</td>\n",
       "    </tr>\n",
       "    <tr>\n",
       "      <th>1</th>\n",
       "      <td>train_1</td>\n",
       "      <td>[[[230, 111, 105], [226, 107, 99], [225, 106, ...</td>\n",
       "      <td>[5]</td>\n",
       "    </tr>\n",
       "    <tr>\n",
       "      <th>2</th>\n",
       "      <td>train_2</td>\n",
       "      <td>[[[229, 156, 173], [229, 156, 173], [227, 156,...</td>\n",
       "      <td>[5]</td>\n",
       "    </tr>\n",
       "    <tr>\n",
       "      <th>3</th>\n",
       "      <td>train_3</td>\n",
       "      <td>[[[228, 127, 115], [224, 126, 113], [223, 125,...</td>\n",
       "      <td>[5]</td>\n",
       "    </tr>\n",
       "    <tr>\n",
       "      <th>4</th>\n",
       "      <td>train_4</td>\n",
       "      <td>[[[216, 188, 187], [217, 189, 188], [220, 192,...</td>\n",
       "      <td>[4]</td>\n",
       "    </tr>\n",
       "    <tr>\n",
       "      <th>...</th>\n",
       "      <td>...</td>\n",
       "      <td>...</td>\n",
       "      <td>...</td>\n",
       "    </tr>\n",
       "    <tr>\n",
       "      <th>21016</th>\n",
       "      <td>train_7004_aug_1</td>\n",
       "      <td>[[[20, 20, 20], [20, 20, 20], [20, 20, 20], [2...</td>\n",
       "      <td>[2]</td>\n",
       "    </tr>\n",
       "    <tr>\n",
       "      <th>21017</th>\n",
       "      <td>train_7005_aug_0</td>\n",
       "      <td>[[[17, 17, 17], [17, 17, 17], [160, 127, 144],...</td>\n",
       "      <td>[5]</td>\n",
       "    </tr>\n",
       "    <tr>\n",
       "      <th>21018</th>\n",
       "      <td>train_7005_aug_1</td>\n",
       "      <td>[[[1, 1, 1], [131, 108, 140], [131, 108, 140],...</td>\n",
       "      <td>[5]</td>\n",
       "    </tr>\n",
       "    <tr>\n",
       "      <th>21019</th>\n",
       "      <td>train_7006_aug_0</td>\n",
       "      <td>[[[0, 0, 0], [0, 0, 0], [0, 0, 0], [0, 0, 0], ...</td>\n",
       "      <td>[5]</td>\n",
       "    </tr>\n",
       "    <tr>\n",
       "      <th>21020</th>\n",
       "      <td>train_7006_aug_1</td>\n",
       "      <td>[[[5, 5, 5], [5, 5, 5], [5, 5, 5], [251, 178, ...</td>\n",
       "      <td>[5]</td>\n",
       "    </tr>\n",
       "  </tbody>\n",
       "</table>\n",
       "<p>21021 rows × 3 columns</p>\n",
       "</div>"
      ],
      "text/plain": [
       "\n",
       "                     id                                              image  \\\n",
       "\u001b[1;36m0\u001b[0m               train_0  \u001b[1m[\u001b[0m\u001b[1m[\u001b[0m\u001b[1m[\u001b[0m\u001b[1;36m158\u001b[0m, \u001b[1;36m111\u001b[0m, \u001b[1;36m117\u001b[0m\u001b[1m]\u001b[0m, \u001b[1m[\u001b[0m\u001b[1;36m161\u001b[0m, \u001b[1;36m116\u001b[0m, \u001b[1;36m121\u001b[0m\u001b[1m]\u001b[0m, \u001b[1m[\u001b[0m\u001b[1;36m164\u001b[0m, \u001b[1;36m121\u001b[0m,\u001b[33m...\u001b[0m   \n",
       "\u001b[1;36m1\u001b[0m               train_1  \u001b[1m[\u001b[0m\u001b[1m[\u001b[0m\u001b[1m[\u001b[0m\u001b[1;36m230\u001b[0m, \u001b[1;36m111\u001b[0m, \u001b[1;36m105\u001b[0m\u001b[1m]\u001b[0m, \u001b[1m[\u001b[0m\u001b[1;36m226\u001b[0m, \u001b[1;36m107\u001b[0m, \u001b[1;36m99\u001b[0m\u001b[1m]\u001b[0m, \u001b[1m[\u001b[0m\u001b[1;36m225\u001b[0m, \u001b[1;36m106\u001b[0m, \u001b[33m...\u001b[0m   \n",
       "\u001b[1;36m2\u001b[0m               train_2  \u001b[1m[\u001b[0m\u001b[1m[\u001b[0m\u001b[1m[\u001b[0m\u001b[1;36m229\u001b[0m, \u001b[1;36m156\u001b[0m, \u001b[1;36m173\u001b[0m\u001b[1m]\u001b[0m, \u001b[1m[\u001b[0m\u001b[1;36m229\u001b[0m, \u001b[1;36m156\u001b[0m, \u001b[1;36m173\u001b[0m\u001b[1m]\u001b[0m, \u001b[1m[\u001b[0m\u001b[1;36m227\u001b[0m, \u001b[1;36m156\u001b[0m,\u001b[33m...\u001b[0m   \n",
       "\u001b[1;36m3\u001b[0m               train_3  \u001b[1m[\u001b[0m\u001b[1m[\u001b[0m\u001b[1m[\u001b[0m\u001b[1;36m228\u001b[0m, \u001b[1;36m127\u001b[0m, \u001b[1;36m115\u001b[0m\u001b[1m]\u001b[0m, \u001b[1m[\u001b[0m\u001b[1;36m224\u001b[0m, \u001b[1;36m126\u001b[0m, \u001b[1;36m113\u001b[0m\u001b[1m]\u001b[0m, \u001b[1m[\u001b[0m\u001b[1;36m223\u001b[0m, \u001b[1;36m125\u001b[0m,\u001b[33m...\u001b[0m   \n",
       "\u001b[1;36m4\u001b[0m               train_4  \u001b[1m[\u001b[0m\u001b[1m[\u001b[0m\u001b[1m[\u001b[0m\u001b[1;36m216\u001b[0m, \u001b[1;36m188\u001b[0m, \u001b[1;36m187\u001b[0m\u001b[1m]\u001b[0m, \u001b[1m[\u001b[0m\u001b[1;36m217\u001b[0m, \u001b[1;36m189\u001b[0m, \u001b[1;36m188\u001b[0m\u001b[1m]\u001b[0m, \u001b[1m[\u001b[0m\u001b[1;36m220\u001b[0m, \u001b[1;36m192\u001b[0m,\u001b[33m...\u001b[0m   \n",
       "\u001b[33m...\u001b[0m                 \u001b[33m...\u001b[0m                                                \u001b[33m...\u001b[0m   \n",
       "\u001b[1;36m21016\u001b[0m  train_7004_aug_1  \u001b[1m[\u001b[0m\u001b[1m[\u001b[0m\u001b[1m[\u001b[0m\u001b[1;36m20\u001b[0m, \u001b[1;36m20\u001b[0m, \u001b[1;36m20\u001b[0m\u001b[1m]\u001b[0m, \u001b[1m[\u001b[0m\u001b[1;36m20\u001b[0m, \u001b[1;36m20\u001b[0m, \u001b[1;36m20\u001b[0m\u001b[1m]\u001b[0m, \u001b[1m[\u001b[0m\u001b[1;36m20\u001b[0m, \u001b[1;36m20\u001b[0m, \u001b[1;36m20\u001b[0m\u001b[1m]\u001b[0m, \u001b[1m[\u001b[0m\u001b[1;36m2\u001b[0m\u001b[33m...\u001b[0m   \n",
       "\u001b[1;36m21017\u001b[0m  train_7005_aug_0  \u001b[1m[\u001b[0m\u001b[1m[\u001b[0m\u001b[1m[\u001b[0m\u001b[1;36m17\u001b[0m, \u001b[1;36m17\u001b[0m, \u001b[1;36m17\u001b[0m\u001b[1m]\u001b[0m, \u001b[1m[\u001b[0m\u001b[1;36m17\u001b[0m, \u001b[1;36m17\u001b[0m, \u001b[1;36m17\u001b[0m\u001b[1m]\u001b[0m, \u001b[1m[\u001b[0m\u001b[1;36m160\u001b[0m, \u001b[1;36m127\u001b[0m, \u001b[1;36m144\u001b[0m\u001b[1m]\u001b[0m,\u001b[33m...\u001b[0m   \n",
       "\u001b[1;36m21018\u001b[0m  train_7005_aug_1  \u001b[1m[\u001b[0m\u001b[1m[\u001b[0m\u001b[1m[\u001b[0m\u001b[1;36m1\u001b[0m, \u001b[1;36m1\u001b[0m, \u001b[1;36m1\u001b[0m\u001b[1m]\u001b[0m, \u001b[1m[\u001b[0m\u001b[1;36m131\u001b[0m, \u001b[1;36m108\u001b[0m, \u001b[1;36m140\u001b[0m\u001b[1m]\u001b[0m, \u001b[1m[\u001b[0m\u001b[1;36m131\u001b[0m, \u001b[1;36m108\u001b[0m, \u001b[1;36m140\u001b[0m\u001b[1m]\u001b[0m,\u001b[33m...\u001b[0m   \n",
       "\u001b[1;36m21019\u001b[0m  train_7006_aug_0  \u001b[1m[\u001b[0m\u001b[1m[\u001b[0m\u001b[1m[\u001b[0m\u001b[1;36m0\u001b[0m, \u001b[1;36m0\u001b[0m, \u001b[1;36m0\u001b[0m\u001b[1m]\u001b[0m, \u001b[1m[\u001b[0m\u001b[1;36m0\u001b[0m, \u001b[1;36m0\u001b[0m, \u001b[1;36m0\u001b[0m\u001b[1m]\u001b[0m, \u001b[1m[\u001b[0m\u001b[1;36m0\u001b[0m, \u001b[1;36m0\u001b[0m, \u001b[1;36m0\u001b[0m\u001b[1m]\u001b[0m, \u001b[1m[\u001b[0m\u001b[1;36m0\u001b[0m, \u001b[1;36m0\u001b[0m, \u001b[1;36m0\u001b[0m\u001b[1m]\u001b[0m, \u001b[33m...\u001b[0m   \n",
       "\u001b[1;36m21020\u001b[0m  train_7006_aug_1  \u001b[1m[\u001b[0m\u001b[1m[\u001b[0m\u001b[1m[\u001b[0m\u001b[1;36m5\u001b[0m, \u001b[1;36m5\u001b[0m, \u001b[1;36m5\u001b[0m\u001b[1m]\u001b[0m, \u001b[1m[\u001b[0m\u001b[1;36m5\u001b[0m, \u001b[1;36m5\u001b[0m, \u001b[1;36m5\u001b[0m\u001b[1m]\u001b[0m, \u001b[1m[\u001b[0m\u001b[1;36m5\u001b[0m, \u001b[1;36m5\u001b[0m, \u001b[1;36m5\u001b[0m\u001b[1m]\u001b[0m, \u001b[1m[\u001b[0m\u001b[1;36m251\u001b[0m, \u001b[1;36m178\u001b[0m, \u001b[33m...\u001b[0m   \n",
       "\n",
       "      label  \n",
       "\u001b[1;36m0\u001b[0m       \u001b[1m[\u001b[0m\u001b[1;36m0\u001b[0m\u001b[1m]\u001b[0m  \n",
       "\u001b[1;36m1\u001b[0m       \u001b[1m[\u001b[0m\u001b[1;36m5\u001b[0m\u001b[1m]\u001b[0m  \n",
       "\u001b[1;36m2\u001b[0m       \u001b[1m[\u001b[0m\u001b[1;36m5\u001b[0m\u001b[1m]\u001b[0m  \n",
       "\u001b[1;36m3\u001b[0m       \u001b[1m[\u001b[0m\u001b[1;36m5\u001b[0m\u001b[1m]\u001b[0m  \n",
       "\u001b[1;36m4\u001b[0m       \u001b[1m[\u001b[0m\u001b[1;36m4\u001b[0m\u001b[1m]\u001b[0m  \n",
       "\u001b[33m...\u001b[0m     \u001b[33m...\u001b[0m  \n",
       "\u001b[1;36m21016\u001b[0m   \u001b[1m[\u001b[0m\u001b[1;36m2\u001b[0m\u001b[1m]\u001b[0m  \n",
       "\u001b[1;36m21017\u001b[0m   \u001b[1m[\u001b[0m\u001b[1;36m5\u001b[0m\u001b[1m]\u001b[0m  \n",
       "\u001b[1;36m21018\u001b[0m   \u001b[1m[\u001b[0m\u001b[1;36m5\u001b[0m\u001b[1m]\u001b[0m  \n",
       "\u001b[1;36m21019\u001b[0m   \u001b[1m[\u001b[0m\u001b[1;36m5\u001b[0m\u001b[1m]\u001b[0m  \n",
       "\u001b[1;36m21020\u001b[0m   \u001b[1m[\u001b[0m\u001b[1;36m5\u001b[0m\u001b[1m]\u001b[0m  \n",
       "\n",
       "\u001b[1m[\u001b[0m\u001b[1;36m21021\u001b[0m rows x \u001b[1;36m3\u001b[0m columns\u001b[1m]\u001b[0m"
      ]
     },
     "execution_count": 43,
     "metadata": {},
     "output_type": "execute_result"
    }
   ],
   "source": [
    "augmented_df = augment_and_add_rows(df, data_augmentation, num_augmented_per_image=2)\n",
    "\n",
    "# Check the resulting DataFrame\n",
    "# print(augmented_df.head())\n",
    "\n",
    "# augmented_df\n",
    "\n",
    "\n",
    "# print(f\"Original rows: {len(df)}, Augmented rows: {len(augmented_df) - len(df)}, Total rows: {len(augmented_df)}\")"
   ]
  },
  {
   "cell_type": "code",
   "execution_count": null,
   "metadata": {},
   "outputs": [
    {
     "name": "stdout",
     "output_type": "stream",
     "text": [
      "<class 'numpy.ndarray'>\n",
      "<class 'numpy.ndarray'>\n"
     ]
    }
   ],
   "source": [
    "# Access the shape of image present in last row\n",
    "last_image = augmented_df[\"image\"].iloc[0]\n",
    "# len(last_image[0][0])\n",
    "# last_image\n",
    "# print(type(last_image))\n",
    "# print(type(augmented_df[\"image\"].iloc[-1]))"
   ]
  },
  {
   "cell_type": "code",
   "execution_count": 45,
   "metadata": {},
   "outputs": [
    {
     "data": {
      "text/html": [
       "<pre style=\"white-space:pre;overflow-x:auto;line-height:normal;font-family:Menlo,'DejaVu Sans Mono',consolas,'Courier New',monospace\"></pre>\n"
      ],
      "text/plain": []
     },
     "metadata": {},
     "output_type": "display_data"
    },
    {
     "data": {
      "text/plain": [
       "\u001b[1m(\u001b[0m\u001b[1;36m28\u001b[0m, \u001b[1;36m28\u001b[0m, \u001b[1;36m3\u001b[0m\u001b[1m)\u001b[0m"
      ]
     },
     "execution_count": 45,
     "metadata": {},
     "output_type": "execute_result"
    }
   ],
   "source": [
    "augmented_df[\"image\"].iloc[-1].shape"
   ]
  },
  {
   "cell_type": "code",
   "execution_count": null,
   "metadata": {},
   "outputs": [],
   "source": []
  }
 ],
 "metadata": {
  "kernelspec": {
   "display_name": "MlOps",
   "language": "python",
   "name": "python3"
  },
  "language_info": {
   "codemirror_mode": {
    "name": "ipython",
    "version": 3
   },
   "file_extension": ".py",
   "mimetype": "text/x-python",
   "name": "python",
   "nbconvert_exporter": "python",
   "pygments_lexer": "ipython3",
   "version": "3.10.14"
  }
 },
 "nbformat": 4,
 "nbformat_minor": 2
}
